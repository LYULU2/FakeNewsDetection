{
  "nbformat": 4,
  "nbformat_minor": 0,
  "metadata": {
    "colab": {
      "name": "Glove and FNDNet.ipynb",
      "provenance": [],
      "collapsed_sections": [
        "OuJndvhl5qWW"
      ],
      "toc_visible": true
    },
    "kernelspec": {
      "name": "python3",
      "display_name": "Python 3"
    },
    "accelerator": "GPU"
  },
  "cells": [
    {
      "cell_type": "code",
      "metadata": {
        "id": "6mmBeqsZM8s6",
        "colab": {
          "base_uri": "https://localhost:8080/"
        },
        "outputId": "d4282e7e-4492-4d37-db91-4d5724e30e81"
      },
      "source": [
        "import tensorflow as tf\n",
        "device_name = tf.test.gpu_device_name()\n",
        "if device_name != '/device:GPU:0':\n",
        "  raise SystemError('GPU device not found')\n",
        "print('Found GPU at: {}'.format(device_name))"
      ],
      "execution_count": null,
      "outputs": [
        {
          "output_type": "stream",
          "text": [
            "Found GPU at: /device:GPU:0\n"
          ],
          "name": "stdout"
        }
      ]
    },
    {
      "cell_type": "code",
      "metadata": {
        "id": "JGo48v3mM8Mh",
        "colab": {
          "base_uri": "https://localhost:8080/"
        },
        "outputId": "f9ae0932-fc12-4ba0-cdf0-4a467a6b008d"
      },
      "source": [
        "from google.colab import drive\n",
        "drive.mount(\"/content/drive\")"
      ],
      "execution_count": null,
      "outputs": [
        {
          "output_type": "stream",
          "text": [
            "Mounted at /content/drive\n"
          ],
          "name": "stdout"
        }
      ]
    },
    {
      "cell_type": "code",
      "metadata": {
        "id": "iPWsxgflM7wL"
      },
      "source": [
        "import pandas as pd\n",
        "import numpy as np\n",
        "import matplotlib.pyplot as plt\n",
        "import seaborn as sns\n",
        "\n",
        "import nltk\n",
        "import re\n",
        "from nltk.stem import PorterStemmer, WordNetLemmatizer\n",
        "from nltk.corpus import stopwords\n",
        "from nltk.tokenize import word_tokenize, sent_tokenize\n",
        "\n",
        "from sklearn.pipeline import Pipeline\n",
        "from sklearn.linear_model import LogisticRegression, SGDClassifier\n",
        "from sklearn.naive_bayes import GaussianNB, MultinomialNB, BernoulliNB\n",
        "from sklearn.neighbors import KNeighborsClassifier\n",
        "from sklearn.svm import LinearSVC\n",
        "from sklearn.tree import DecisionTreeClassifier\n",
        "from sklearn.ensemble import GradientBoostingClassifier, RandomForestClassifier\n",
        "from xgboost import XGBClassifier\n",
        "from sklearn.model_selection import train_test_split\n",
        "from sklearn.metrics import accuracy_score, confusion_matrix, classification_report\n",
        "from sklearn.feature_extraction.text import CountVectorizer, TfidfVectorizer\n",
        "\n",
        "import tensorflow as tf\n",
        "from tensorflow.keras.preprocessing import text, sequence\n",
        "from tensorflow.keras.preprocessing.text import one_hot\n",
        "from tensorflow.keras.preprocessing.sequence import pad_sequences\n",
        "from tensorflow.keras.models import Sequential\n",
        "from tensorflow.keras.layers import Embedding, Dense, LSTM, Dropout\n",
        "from tensorflow.keras.callbacks import Callback, ReduceLROnPlateau, EarlyStopping\n",
        "from tensorflow.keras.callbacks import History\n",
        "\n",
        "from keras.preprocessing.text import Tokenizer\n",
        "from keras import layers\n",
        "from keras.layers import Embedding\n",
        "from keras.layers.core import Reshape, Flatten\n",
        "from keras.models import Sequential, Model\n",
        "from keras.layers import Dense, Activation\n",
        "from keras.layers import Flatten, Conv1D, SpatialDropout1D, MaxPooling1D,AveragePooling1D, merge, concatenate, Input, Dropout\n",
        "\n",
        "from wordcloud import WordCloud, STOPWORDS"
      ],
      "execution_count": null,
      "outputs": []
    },
    {
      "cell_type": "markdown",
      "metadata": {
        "id": "8a-akbu076Ab"
      },
      "source": [
        "### read data"
      ]
    },
    {
      "cell_type": "code",
      "metadata": {
        "id": "do1xpmYm75a3"
      },
      "source": [
        "df = pd.read_csv('/content/drive/My Drive/data/dataset.csv', delimiter = ',')"
      ],
      "execution_count": null,
      "outputs": []
    },
    {
      "cell_type": "code",
      "metadata": {
        "id": "EruUfJMw8mad",
        "colab": {
          "base_uri": "https://localhost:8080/"
        },
        "outputId": "9835fe49-5e2a-4839-e49e-f86ea1d93149"
      },
      "source": [
        "# Maximum number of words to be embedded\n",
        "NUM_WORDS = 30000\n",
        "EMBEDDING_DIM=100\n",
        "# max length to be encoded for a sentence\n",
        "MAX_SEQUENCE_LENGTH = 1000\n",
        "\n",
        "# Define Tokenize text function\n",
        "tokenizer = Tokenizer(num_words=NUM_WORDS,filters='!\"#$%&()*+,-./:;<=>?@[\\\\]^_`{|}~\\t\\n\\'', lower=True)\n",
        "\n",
        "# Fit the function on the text\n",
        "tokenizer.fit_on_texts(df['text'])\n",
        "\n",
        "sequences = tokenizer.texts_to_sequences(df['text'])\n",
        "\n",
        "# pad the data to the same length\n",
        "data = pad_sequences(sequences, maxlen=MAX_SEQUENCE_LENGTH,padding='post')\n",
        "\n",
        "# Count number of unique tokens\n",
        "word_index = tokenizer.word_index\n",
        "print('Found %s unique tokens.' % len(word_index))"
      ],
      "execution_count": null,
      "outputs": [
        {
          "output_type": "stream",
          "text": [
            "Found 186361 unique tokens.\n"
          ],
          "name": "stdout"
        }
      ]
    },
    {
      "cell_type": "code",
      "metadata": {
        "id": "O94cd80Q9GUC"
      },
      "source": [
        "X_train, X_test, y_train, y_test = train_test_split(data, df[['label']], test_size=0.2, random_state=42)"
      ],
      "execution_count": null,
      "outputs": []
    },
    {
      "cell_type": "markdown",
      "metadata": {
        "id": "OuJndvhl5qWW"
      },
      "source": [
        "### glove embedding"
      ]
    },
    {
      "cell_type": "code",
      "metadata": {
        "id": "8jZbb6AQ5pwG",
        "colab": {
          "base_uri": "https://localhost:8080/"
        },
        "outputId": "009707b4-5789-4ef7-bd50-92bc5da0b13d"
      },
      "source": [
        "word_vectors = dict()\n",
        "\n",
        "# load the whole embedding into memory\n",
        "f = open('/content/drive/My Drive/data/glove.6B.100d.txt', encoding=\"utf8\")\n",
        "for line in f:\n",
        "    values = line.split()\n",
        "    word = values[0]\n",
        "    coefs = np.asarray(values[1:], dtype='float32')\n",
        "    word_vectors[word] = coefs\n",
        "f.close()\n",
        "print('Loaded %s word vectors.' % len(word_vectors))"
      ],
      "execution_count": null,
      "outputs": [
        {
          "output_type": "stream",
          "text": [
            "Loaded 400000 word vectors.\n"
          ],
          "name": "stdout"
        }
      ]
    },
    {
      "cell_type": "code",
      "metadata": {
        "id": "lOGwMJ6N6W__"
      },
      "source": [
        "vocabulary_size=min(len(word_index)+1,(NUM_WORDS))\n",
        "#vocabulary_size= len(word_index)+1\n",
        "embedding_matrix = np.zeros((vocabulary_size, EMBEDDING_DIM))\n",
        "\n",
        "for word, i in word_index.items():\n",
        "    if i>=NUM_WORDS:\n",
        "        continue\n",
        "    try:\n",
        "        embedding_vector = word_vectors[word]\n",
        "        embedding_matrix[i] = embedding_vector\n",
        "    except KeyError:\n",
        "      # if the word is not found, set to all 0s\n",
        "        vec = np.zeros(EMBEDDING_DIM)\n",
        "        embedding_matrix[i]=vec\n",
        "\n",
        "#del(word_vectors)"
      ],
      "execution_count": null,
      "outputs": []
    },
    {
      "cell_type": "code",
      "metadata": {
        "id": "zeimAV6R-Mu5"
      },
      "source": [
        "# Dfine Embedding function using the embedding_matrix\n",
        "embedding_layer = Embedding(vocabulary_size,\n",
        "                            EMBEDDING_DIM,\n",
        "                            weights=[embedding_matrix],\n",
        "                            input_length=MAX_SEQUENCE_LENGTH,\n",
        "                            trainable=False)"
      ],
      "execution_count": null,
      "outputs": []
    },
    {
      "cell_type": "code",
      "metadata": {
        "id": "WC-1NEr4fnhO",
        "colab": {
          "base_uri": "https://localhost:8080/"
        },
        "outputId": "ff353889-f66a-4006-80b4-f60d1b71eae3"
      },
      "source": [
        "embedding_matrix.shape"
      ],
      "execution_count": null,
      "outputs": [
        {
          "output_type": "execute_result",
          "data": {
            "text/plain": [
              "(30000, 100)"
            ]
          },
          "metadata": {
            "tags": []
          },
          "execution_count": 10
        }
      ]
    },
    {
      "cell_type": "code",
      "metadata": {
        "id": "MUfqIkEHfttP",
        "colab": {
          "base_uri": "https://localhost:8080/"
        },
        "outputId": "d217ce3b-05ac-4a70-cd34-161d32772395"
      },
      "source": [
        "X_train.shape"
      ],
      "execution_count": null,
      "outputs": [
        {
          "output_type": "execute_result",
          "data": {
            "text/plain": [
              "(40986, 1000)"
            ]
          },
          "metadata": {
            "tags": []
          },
          "execution_count": 11
        }
      ]
    },
    {
      "cell_type": "code",
      "metadata": {
        "id": "2PZTBoiq-PXw"
      },
      "source": [
        "del(embedding_matrix)"
      ],
      "execution_count": null,
      "outputs": []
    },
    {
      "cell_type": "markdown",
      "metadata": {
        "id": "g-VPOC70JgE7"
      },
      "source": [
        "### tokenized with LogisticRegression"
      ]
    },
    {
      "cell_type": "code",
      "metadata": {
        "colab": {
          "base_uri": "https://localhost:8080/"
        },
        "id": "hAWH149RO1Or",
        "outputId": "feec6322-5d24-4d78-a609-b6cb12f1f5b5"
      },
      "source": [
        "model = Sequential()\n",
        "model.add(Embedding(vocabulary_size,\n",
        "                            EMBEDDING_DIM,\n",
        "                            weights=[embedding_matrix],\n",
        "                            input_length=MAX_SEQUENCE_LENGTH,\n",
        "                            trainable=False))  \n",
        "\n",
        "model.add(Conv1D(filters=128, kernel_size=4, activation='relu'))\n",
        "model.add(MaxPooling1D(4))\n",
        "model.add(Dropout(0.3))\n",
        "\n",
        "model.add(Flatten())\n",
        "model.add(Dense(units = 128 , activation = 'relu'))\n",
        "model.add(Dropout(0.3))\n",
        "model.add(Dense(1, activation='sigmoid'))\n",
        "model.summary()\n",
        "model.compile(loss='binary_crossentropy',\n",
        "              optimizer='Adadelta', \n",
        "              metrics=['acc'])\n",
        "history = model.fit(X_train, y_train, validation_data = (X_test,y_test), epochs=10, verbose=1)"
      ],
      "execution_count": null,
      "outputs": [
        {
          "output_type": "stream",
          "text": [
            "Model: \"sequential_9\"\n",
            "_________________________________________________________________\n",
            "Layer (type)                 Output Shape              Param #   \n",
            "=================================================================\n",
            "embedding_6 (Embedding)      (None, 1000, 100)         3000000   \n",
            "_________________________________________________________________\n",
            "conv1d_35 (Conv1D)           (None, 997, 128)          51328     \n",
            "_________________________________________________________________\n",
            "max_pooling1d_35 (MaxPooling (None, 249, 128)          0         \n",
            "_________________________________________________________________\n",
            "dropout_16 (Dropout)         (None, 249, 128)          0         \n",
            "_________________________________________________________________\n",
            "flatten_14 (Flatten)         (None, 31872)             0         \n",
            "_________________________________________________________________\n",
            "dense_26 (Dense)             (None, 128)               4079744   \n",
            "_________________________________________________________________\n",
            "dropout_17 (Dropout)         (None, 128)               0         \n",
            "_________________________________________________________________\n",
            "dense_27 (Dense)             (None, 1)                 129       \n",
            "=================================================================\n",
            "Total params: 7,131,201\n",
            "Trainable params: 4,131,201\n",
            "Non-trainable params: 3,000,000\n",
            "_________________________________________________________________\n",
            "Epoch 1/10\n",
            "1281/1281 [==============================] - 14s 11ms/step - loss: 0.6608 - acc: 0.6123 - val_loss: 0.5934 - val_acc: 0.6954\n",
            "Epoch 2/10\n",
            "1281/1281 [==============================] - 14s 11ms/step - loss: 0.5803 - acc: 0.7089 - val_loss: 0.5070 - val_acc: 0.7884\n",
            "Epoch 3/10\n",
            "1281/1281 [==============================] - 14s 11ms/step - loss: 0.5056 - acc: 0.7724 - val_loss: 0.4348 - val_acc: 0.8297\n",
            "Epoch 4/10\n",
            "1281/1281 [==============================] - 14s 11ms/step - loss: 0.4497 - acc: 0.8085 - val_loss: 0.3849 - val_acc: 0.8522\n",
            "Epoch 5/10\n",
            "1281/1281 [==============================] - 14s 11ms/step - loss: 0.4024 - acc: 0.8355 - val_loss: 0.3516 - val_acc: 0.8609\n",
            "Epoch 6/10\n",
            "1281/1281 [==============================] - 13s 11ms/step - loss: 0.3687 - acc: 0.8513 - val_loss: 0.3265 - val_acc: 0.8705\n",
            "Epoch 7/10\n",
            "1281/1281 [==============================] - 13s 11ms/step - loss: 0.3444 - acc: 0.8618 - val_loss: 0.3063 - val_acc: 0.8815\n",
            "Epoch 8/10\n",
            "1281/1281 [==============================] - 14s 11ms/step - loss: 0.3222 - acc: 0.8710 - val_loss: 0.2916 - val_acc: 0.8871\n",
            "Epoch 9/10\n",
            "1281/1281 [==============================] - 13s 10ms/step - loss: 0.3064 - acc: 0.8784 - val_loss: 0.2785 - val_acc: 0.8904\n",
            "Epoch 10/10\n",
            "1281/1281 [==============================] - 13s 11ms/step - loss: 0.2926 - acc: 0.8842 - val_loss: 0.2674 - val_acc: 0.8940\n"
          ],
          "name": "stdout"
        }
      ]
    },
    {
      "cell_type": "code",
      "metadata": {
        "colab": {
          "base_uri": "https://localhost:8080/",
          "height": 479
        },
        "id": "gRrqeszrRVau",
        "outputId": "a16cef81-41a9-4f20-ca9d-d0d2bdcd373f"
      },
      "source": [
        "# Plot the loss and accuracy curves for training and validation \n",
        "fig, ax = plt.subplots(2,1)\n",
        "ax[0].plot(history.history['loss'], color='b', label=\"Training loss\")\n",
        "ax[0].plot(history.history['val_loss'], color='r', label=\"validation loss\",axes =ax[0])\n",
        "legend = ax[0].legend(loc='best', shadow=True)\n",
        "\n",
        "ax[1].plot(history.history['acc'], color='b', label=\"Training accuracy\")\n",
        "ax[1].plot(history.history['val_accuracy'], color='r',label=\"Validation accuracy\")\n",
        "legend = ax[1].legend(loc='best', shadow=True)"
      ],
      "execution_count": null,
      "outputs": [
        {
          "output_type": "error",
          "ename": "KeyError",
          "evalue": "ignored",
          "traceback": [
            "\u001b[0;31m---------------------------------------------------------------------------\u001b[0m",
            "\u001b[0;31mKeyError\u001b[0m                                  Traceback (most recent call last)",
            "\u001b[0;32m<ipython-input-62-9794399420dd>\u001b[0m in \u001b[0;36m<module>\u001b[0;34m()\u001b[0m\n\u001b[1;32m      5\u001b[0m \u001b[0mlegend\u001b[0m \u001b[0;34m=\u001b[0m \u001b[0max\u001b[0m\u001b[0;34m[\u001b[0m\u001b[0;36m0\u001b[0m\u001b[0;34m]\u001b[0m\u001b[0;34m.\u001b[0m\u001b[0mlegend\u001b[0m\u001b[0;34m(\u001b[0m\u001b[0mloc\u001b[0m\u001b[0;34m=\u001b[0m\u001b[0;34m'best'\u001b[0m\u001b[0;34m,\u001b[0m \u001b[0mshadow\u001b[0m\u001b[0;34m=\u001b[0m\u001b[0;32mTrue\u001b[0m\u001b[0;34m)\u001b[0m\u001b[0;34m\u001b[0m\u001b[0;34m\u001b[0m\u001b[0m\n\u001b[1;32m      6\u001b[0m \u001b[0;34m\u001b[0m\u001b[0m\n\u001b[0;32m----> 7\u001b[0;31m \u001b[0max\u001b[0m\u001b[0;34m[\u001b[0m\u001b[0;36m1\u001b[0m\u001b[0;34m]\u001b[0m\u001b[0;34m.\u001b[0m\u001b[0mplot\u001b[0m\u001b[0;34m(\u001b[0m\u001b[0mhistory\u001b[0m\u001b[0;34m.\u001b[0m\u001b[0mhistory\u001b[0m\u001b[0;34m[\u001b[0m\u001b[0;34m'accuracy'\u001b[0m\u001b[0;34m]\u001b[0m\u001b[0;34m,\u001b[0m \u001b[0mcolor\u001b[0m\u001b[0;34m=\u001b[0m\u001b[0;34m'b'\u001b[0m\u001b[0;34m,\u001b[0m \u001b[0mlabel\u001b[0m\u001b[0;34m=\u001b[0m\u001b[0;34m\"Training accuracy\"\u001b[0m\u001b[0;34m)\u001b[0m\u001b[0;34m\u001b[0m\u001b[0;34m\u001b[0m\u001b[0m\n\u001b[0m\u001b[1;32m      8\u001b[0m \u001b[0max\u001b[0m\u001b[0;34m[\u001b[0m\u001b[0;36m1\u001b[0m\u001b[0;34m]\u001b[0m\u001b[0;34m.\u001b[0m\u001b[0mplot\u001b[0m\u001b[0;34m(\u001b[0m\u001b[0mhistory\u001b[0m\u001b[0;34m.\u001b[0m\u001b[0mhistory\u001b[0m\u001b[0;34m[\u001b[0m\u001b[0;34m'val_accuracy'\u001b[0m\u001b[0;34m]\u001b[0m\u001b[0;34m,\u001b[0m \u001b[0mcolor\u001b[0m\u001b[0;34m=\u001b[0m\u001b[0;34m'r'\u001b[0m\u001b[0;34m,\u001b[0m\u001b[0mlabel\u001b[0m\u001b[0;34m=\u001b[0m\u001b[0;34m\"Validation accuracy\"\u001b[0m\u001b[0;34m)\u001b[0m\u001b[0;34m\u001b[0m\u001b[0;34m\u001b[0m\u001b[0m\n\u001b[1;32m      9\u001b[0m \u001b[0mlegend\u001b[0m \u001b[0;34m=\u001b[0m \u001b[0max\u001b[0m\u001b[0;34m[\u001b[0m\u001b[0;36m1\u001b[0m\u001b[0;34m]\u001b[0m\u001b[0;34m.\u001b[0m\u001b[0mlegend\u001b[0m\u001b[0;34m(\u001b[0m\u001b[0mloc\u001b[0m\u001b[0;34m=\u001b[0m\u001b[0;34m'best'\u001b[0m\u001b[0;34m,\u001b[0m \u001b[0mshadow\u001b[0m\u001b[0;34m=\u001b[0m\u001b[0;32mTrue\u001b[0m\u001b[0;34m)\u001b[0m\u001b[0;34m\u001b[0m\u001b[0;34m\u001b[0m\u001b[0m\n",
            "\u001b[0;31mKeyError\u001b[0m: 'accuracy'"
          ]
        },
        {
          "output_type": "display_data",
          "data": {
            "image/png": "[encoded data removed]",
            "text/plain": [
              "<Figure size 432x288 with 2 Axes>"
            ]
          },
          "metadata": {
            "tags": [],
            "needs_background": "light"
          }
        }
      ]
    },
    {
      "cell_type": "code",
      "metadata": {
        "colab": {
          "base_uri": "https://localhost:8080/"
        },
        "id": "EiDK0LDzvBLB",
        "outputId": "17b86104-1be1-4401-b6d7-91d4792a6e64"
      },
      "source": [
        "# define model\n",
        "model = Sequential()\n",
        "model.add(embedding_layer)\n",
        "model.add(Flatten())\n",
        "model.add(Dense(1, activation='sigmoid'))\n",
        "# compile the model\n",
        "model.compile(optimizer='adam', loss='binary_crossentropy',\n",
        "              metrics=['acc'])\n",
        "# summarize the model\n",
        "model.summary()\n",
        "# fit the model\n",
        "model.fit(X_train,y_train,epochs = 2,validation_data=(X_test, y_test), batch_size=128, verbose = 1)\n",
        "loss,accuracy = model.evaluate(X_test,y_test)\n",
        "print('Accuracy: %f' % (accuracy*100))"
      ],
      "execution_count": null,
      "outputs": [
        {
          "output_type": "stream",
          "text": [
            "Model: \"sequential\"\n",
            "_________________________________________________________________\n",
            "Layer (type)                 Output Shape              Param #   \n",
            "=================================================================\n",
            "embedding (Embedding)        (None, 1000, 100)         3000000   \n",
            "_________________________________________________________________\n",
            "flatten_1 (Flatten)          (None, 100000)            0         \n",
            "_________________________________________________________________\n",
            "dense_2 (Dense)              (None, 1)                 100001    \n",
            "=================================================================\n",
            "Total params: 3,100,001\n",
            "Trainable params: 100,001\n",
            "Non-trainable params: 3,000,000\n",
            "_________________________________________________________________\n",
            "Epoch 1/2\n",
            "321/321 [==============================] - 9s 27ms/step - loss: 0.3829 - acc: 0.8630 - val_loss: 0.1897 - val_acc: 0.9387\n",
            "Epoch 2/2\n",
            "321/321 [==============================] - 8s 26ms/step - loss: 0.0652 - acc: 0.9803 - val_loss: 0.1632 - val_acc: 0.9449\n",
            "321/321 [==============================] - 2s 7ms/step - loss: 0.1632 - acc: 0.9449\n",
            "Accuracy: 94.486189\n"
          ],
          "name": "stdout"
        }
      ]
    },
    {
      "cell_type": "markdown",
      "metadata": {
        "id": "RbpwbX_kfAbZ"
      },
      "source": [
        "### FNDNet"
      ]
    },
    {
      "cell_type": "code",
      "metadata": {
        "id": "sTPB55yLMa4s",
        "colab": {
          "base_uri": "https://localhost:8080/"
        },
        "outputId": "74770ace-d2f7-4a0f-eb37-4e4fcb823dc4"
      },
      "source": [
        "num_kernels = 128\n",
        "kernel_sizes= [3,4,5]\n",
        "pool_sizes = [800,799,798]\n",
        "\n",
        "#embed_input = Input(shape=(max_length,))\n",
        "#x = Embedding(vocab_size,output_dim,input_length=max_length)(embed_input)\n",
        "\n",
        "inputs = Input(shape=(MAX_SEQUENCE_LENGTH,), dtype='float32')\n",
        "embed_input = embedding_layer(inputs)\n",
        "\n",
        "pool_outputs = []\n",
        "for i in range(len(kernel_sizes)):\n",
        "    conv = Conv1D(num_kernels, kernel_size=kernel_sizes[i], padding='valid', activation='relu')(embed_input)\n",
        "    pool = MaxPooling1D(pool_size=pool_sizes[i], strides=1, padding = 'valid')(conv)         \n",
        "    pool_outputs.append(pool)\n",
        "merge = concatenate(pool_outputs,axis = 1)\n",
        "\n",
        "conv = Conv1D(num_kernels, kernel_size=5, activation='relu')(merge)\n",
        "pool = MaxPooling1D(pool_size=5)(conv)\n",
        "conv = Conv1D(num_kernels, kernel_size=5, activation='relu')(pool)\n",
        "pool = MaxPooling1D(pool_size=30)(conv)\n",
        "\n",
        "x = Flatten()(pool)\n",
        "#x = Dropout(0.2)(x)\n",
        "x = Dense(128, activation='relu')(x)\n",
        "x = Dropout(0.2)(x)\n",
        "x = Dense(1, activation='sigmoid')(x)\n",
        "model = Model(inputs=inputs,outputs=x)\n",
        "model.summary() "
      ],
      "execution_count": null,
      "outputs": [
        {
          "output_type": "stream",
          "text": [
            "Model: \"model_1\"\n",
            "__________________________________________________________________________________________________\n",
            "Layer (type)                    Output Shape         Param #     Connected to                     \n",
            "==================================================================================================\n",
            "input_2 (InputLayer)            [(None, 1000)]       0                                            \n",
            "__________________________________________________________________________________________________\n",
            "embedding (Embedding)           (None, 1000, 100)    3000000     input_2[0][0]                    \n",
            "__________________________________________________________________________________________________\n",
            "conv1d_5 (Conv1D)               (None, 998, 128)     38528       embedding[2][0]                  \n",
            "__________________________________________________________________________________________________\n",
            "conv1d_6 (Conv1D)               (None, 997, 128)     51328       embedding[2][0]                  \n",
            "__________________________________________________________________________________________________\n",
            "conv1d_7 (Conv1D)               (None, 996, 128)     64128       embedding[2][0]                  \n",
            "__________________________________________________________________________________________________\n",
            "max_pooling1d_5 (MaxPooling1D)  (None, 199, 128)     0           conv1d_5[0][0]                   \n",
            "__________________________________________________________________________________________________\n",
            "max_pooling1d_6 (MaxPooling1D)  (None, 199, 128)     0           conv1d_6[0][0]                   \n",
            "__________________________________________________________________________________________________\n",
            "max_pooling1d_7 (MaxPooling1D)  (None, 199, 128)     0           conv1d_7[0][0]                   \n",
            "__________________________________________________________________________________________________\n",
            "concatenate_1 (Concatenate)     (None, 597, 128)     0           max_pooling1d_5[0][0]            \n",
            "                                                                 max_pooling1d_6[0][0]            \n",
            "                                                                 max_pooling1d_7[0][0]            \n",
            "__________________________________________________________________________________________________\n",
            "conv1d_8 (Conv1D)               (None, 593, 128)     82048       concatenate_1[0][0]              \n",
            "__________________________________________________________________________________________________\n",
            "max_pooling1d_8 (MaxPooling1D)  (None, 118, 128)     0           conv1d_8[0][0]                   \n",
            "__________________________________________________________________________________________________\n",
            "conv1d_9 (Conv1D)               (None, 114, 128)     82048       max_pooling1d_8[0][0]            \n",
            "__________________________________________________________________________________________________\n",
            "max_pooling1d_9 (MaxPooling1D)  (None, 3, 128)       0           conv1d_9[0][0]                   \n",
            "__________________________________________________________________________________________________\n",
            "flatten_2 (Flatten)             (None, 384)          0           max_pooling1d_9[0][0]            \n",
            "__________________________________________________________________________________________________\n",
            "dense_3 (Dense)                 (None, 128)          49280       flatten_2[0][0]                  \n",
            "__________________________________________________________________________________________________\n",
            "dropout_1 (Dropout)             (None, 128)          0           dense_3[0][0]                    \n",
            "__________________________________________________________________________________________________\n",
            "dense_4 (Dense)                 (None, 1)            129         dropout_1[0][0]                  \n",
            "==================================================================================================\n",
            "Total params: 3,367,489\n",
            "Trainable params: 367,489\n",
            "Non-trainable params: 3,000,000\n",
            "__________________________________________________________________________________________________\n"
          ],
          "name": "stdout"
        }
      ]
    },
    {
      "cell_type": "code",
      "metadata": {
        "id": "D3RgqxklwtOk"
      },
      "source": [
        "model.compile(loss='binary_crossentropy',\n",
        "              #optimizer='Adadelta',\n",
        "              optimizer='Adam',\n",
        "              metrics=['acc'])"
      ],
      "execution_count": null,
      "outputs": []
    },
    {
      "cell_type": "code",
      "metadata": {
        "id": "RzIh-EqS8tFP"
      },
      "source": [
        "from keras.utils import to_categorical\n",
        "y_train = to_categorical(np.asarray(y_train))\n",
        "y_test = to_categorical(np.asarray(y_test))"
      ],
      "execution_count": null,
      "outputs": []
    },
    {
      "cell_type": "code",
      "metadata": {
        "colab": {
          "base_uri": "https://localhost:8080/"
        },
        "id": "RBwfakoSFB-3",
        "outputId": "55be37a9-1dc4-413a-a78b-e4d6bf1b205c"
      },
      "source": [
        "epochs = 20\n",
        "batch_size = 128\n",
        "\n",
        "model.fit(X_train,y_train,epochs = epochs,validation_data=(X_test, y_test), batch_size=batch_size, verbose = 1)"
      ],
      "execution_count": null,
      "outputs": [
        {
          "output_type": "stream",
          "text": [
            "Epoch 1/20\n",
            "  2/321 [..............................] - ETA: 49s - loss: 0.8225 - acc: 0.4805WARNING:tensorflow:Callbacks method `on_train_batch_end` is slow compared to the batch time (batch time: 0.0506s vs `on_train_batch_end` time: 0.0922s). Check your callbacks.\n",
            "321/321 [==============================] - 50s 156ms/step - loss: 0.7178 - acc: 0.5064 - val_loss: 0.6774 - val_acc: 0.6127\n",
            "Epoch 2/20\n",
            "321/321 [==============================] - 51s 159ms/step - loss: 0.6809 - acc: 0.5619 - val_loss: 0.6600 - val_acc: 0.6596\n",
            "Epoch 3/20\n",
            "321/321 [==============================] - 51s 158ms/step - loss: 0.6616 - acc: 0.6108 - val_loss: 0.6422 - val_acc: 0.6974\n",
            "Epoch 4/20\n",
            "321/321 [==============================] - 51s 158ms/step - loss: 0.6426 - acc: 0.6509 - val_loss: 0.6246 - val_acc: 0.7462\n",
            "Epoch 5/20\n",
            "321/321 [==============================] - 51s 158ms/step - loss: 0.6231 - acc: 0.6902 - val_loss: 0.6046 - val_acc: 0.7626\n",
            "Epoch 6/20\n",
            "321/321 [==============================] - 51s 159ms/step - loss: 0.6046 - acc: 0.7206 - val_loss: 0.5862 - val_acc: 0.7862\n",
            "Epoch 7/20\n",
            "321/321 [==============================] - 51s 159ms/step - loss: 0.5862 - acc: 0.7486 - val_loss: 0.5677 - val_acc: 0.8064\n",
            "Epoch 8/20\n",
            "321/321 [==============================] - 51s 159ms/step - loss: 0.5671 - acc: 0.7702 - val_loss: 0.5478 - val_acc: 0.8205\n",
            "Epoch 9/20\n",
            "321/321 [==============================] - 51s 159ms/step - loss: 0.5466 - acc: 0.7880 - val_loss: 0.5259 - val_acc: 0.8317\n",
            "Epoch 10/20\n",
            "321/321 [==============================] - 51s 159ms/step - loss: 0.5255 - acc: 0.8049 - val_loss: 0.5056 - val_acc: 0.8404\n",
            "Epoch 11/20\n",
            "321/321 [==============================] - 51s 159ms/step - loss: 0.5060 - acc: 0.8185 - val_loss: 0.4853 - val_acc: 0.8467\n",
            "Epoch 12/20\n",
            "321/321 [==============================] - 51s 159ms/step - loss: 0.4856 - acc: 0.8287 - val_loss: 0.4654 - val_acc: 0.8512\n",
            "Epoch 13/20\n",
            "321/321 [==============================] - 51s 159ms/step - loss: 0.4659 - acc: 0.8360 - val_loss: 0.4461 - val_acc: 0.8563\n",
            "Epoch 14/20\n",
            "321/321 [==============================] - 51s 159ms/step - loss: 0.4475 - acc: 0.8437 - val_loss: 0.4278 - val_acc: 0.8600\n",
            "Epoch 15/20\n",
            "321/321 [==============================] - 51s 159ms/step - loss: 0.4301 - acc: 0.8490 - val_loss: 0.4108 - val_acc: 0.8637\n",
            "Epoch 16/20\n",
            "321/321 [==============================] - 51s 159ms/step - loss: 0.4125 - acc: 0.8558 - val_loss: 0.3944 - val_acc: 0.8670\n",
            "Epoch 17/20\n",
            "321/321 [==============================] - 51s 159ms/step - loss: 0.3975 - acc: 0.8595 - val_loss: 0.3793 - val_acc: 0.8690\n",
            "Epoch 18/20\n",
            "321/321 [==============================] - 51s 159ms/step - loss: 0.3827 - acc: 0.8620 - val_loss: 0.3658 - val_acc: 0.8717\n",
            "Epoch 19/20\n",
            "321/321 [==============================] - 51s 159ms/step - loss: 0.3692 - acc: 0.8648 - val_loss: 0.3533 - val_acc: 0.8747\n",
            "Epoch 20/20\n",
            "321/321 [==============================] - 51s 159ms/step - loss: 0.3572 - acc: 0.8689 - val_loss: 0.3424 - val_acc: 0.8774\n"
          ],
          "name": "stdout"
        },
        {
          "output_type": "execute_result",
          "data": {
            "text/plain": [
              "<tensorflow.python.keras.callbacks.History at 0x7f582a62eb00>"
            ]
          },
          "metadata": {
            "tags": []
          },
          "execution_count": 52
        }
      ]
    },
    {
      "cell_type": "code",
      "metadata": {
        "colab": {
          "base_uri": "https://localhost:8080/"
        },
        "id": "Byy6oJce-VT1",
        "outputId": "4b0cac8f-719d-4137-a8cb-0e77ce1ade08"
      },
      "source": [
        "epochs = 2\n",
        "batch_size = 128\n",
        "\n",
        "model.fit(X_train,y_train,epochs = epochs,validation_data=(X_test, y_test), batch_size=batch_size, verbose = 1)\n",
        "loss,accuracy = model.evaluate(X_test,y_test)\n",
        "print('Accuracy: %f' % (accuracy*100))"
      ],
      "execution_count": null,
      "outputs": [
        {
          "output_type": "stream",
          "text": [
            "Epoch 1/2\n",
            "321/321 [==============================] - 204s 541ms/step - loss: 0.3404 - acc: 0.8376 - val_loss: 0.0906 - val_acc: 0.9646\n",
            "Epoch 2/2\n",
            "321/321 [==============================] - 172s 536ms/step - loss: 0.0442 - acc: 0.9824 - val_loss: 0.0602 - val_acc: 0.9763\n",
            "321/321 [==============================] - 17s 54ms/step - loss: 0.0602 - acc: 0.9763\n",
            "Accuracy: 97.628576\n"
          ],
          "name": "stdout"
        }
      ]
    },
    {
      "cell_type": "code",
      "metadata": {
        "id": "A9OK9KAT7JaZ",
        "colab": {
          "base_uri": "https://localhost:8080/"
        },
        "outputId": "fc358fe9-5d6d-46bc-ff14-ae4ff60ece53"
      },
      "source": [
        "epochs = 20\n",
        "batch_size = 128\n",
        "\n",
        "model.fit(X_train,y_train,epochs = epochs,validation_data=(X_test, y_test), batch_size=batch_size, verbose = 1)\n",
        "#loss,accuracy = model.evaluate(X_test,y_test)\n",
        "#print('Accuracy: %f' % (accuracy*100))"
      ],
      "execution_count": null,
      "outputs": [
        {
          "output_type": "stream",
          "text": [
            "Epoch 1/20\n",
            "  2/321 [..............................] - ETA: 49s - loss: 0.9059 - acc: 0.4766WARNING:tensorflow:Callbacks method `on_train_batch_end` is slow compared to the batch time (batch time: 0.0534s vs `on_train_batch_end` time: 0.0899s). Check your callbacks.\n",
            "321/321 [==============================] - 50s 156ms/step - loss: 0.7383 - acc: 0.5163 - val_loss: 0.6670 - val_acc: 0.6059\n",
            "Epoch 2/20\n",
            "321/321 [==============================] - 51s 160ms/step - loss: 0.6803 - acc: 0.5754 - val_loss: 0.6337 - val_acc: 0.6805\n",
            "Epoch 3/20\n",
            "321/321 [==============================] - 51s 159ms/step - loss: 0.6430 - acc: 0.6288 - val_loss: 0.6072 - val_acc: 0.7336\n",
            "Epoch 4/20\n",
            "321/321 [==============================] - 51s 159ms/step - loss: 0.6132 - acc: 0.6759 - val_loss: 0.5820 - val_acc: 0.7642\n",
            "Epoch 5/20\n",
            "321/321 [==============================] - 51s 159ms/step - loss: 0.5812 - acc: 0.7212 - val_loss: 0.5528 - val_acc: 0.7951\n",
            "Epoch 6/20\n",
            "321/321 [==============================] - 51s 159ms/step - loss: 0.5543 - acc: 0.7543 - val_loss: 0.5270 - val_acc: 0.8128\n",
            "Epoch 7/20\n",
            "321/321 [==============================] - 51s 159ms/step - loss: 0.5282 - acc: 0.7785 - val_loss: 0.5027 - val_acc: 0.8261\n",
            "Epoch 8/20\n",
            "321/321 [==============================] - 51s 159ms/step - loss: 0.5041 - acc: 0.7959 - val_loss: 0.4795 - val_acc: 0.8349\n",
            "Epoch 9/20\n",
            "321/321 [==============================] - 51s 159ms/step - loss: 0.4812 - acc: 0.8098 - val_loss: 0.4573 - val_acc: 0.8409\n",
            "Epoch 10/20\n",
            "321/321 [==============================] - 51s 159ms/step - loss: 0.4578 - acc: 0.8234 - val_loss: 0.4370 - val_acc: 0.8458\n",
            "Epoch 11/20\n",
            "321/321 [==============================] - 51s 159ms/step - loss: 0.4409 - acc: 0.8316 - val_loss: 0.4190 - val_acc: 0.8512\n",
            "Epoch 12/20\n",
            "321/321 [==============================] - 51s 159ms/step - loss: 0.4226 - acc: 0.8392 - val_loss: 0.4021 - val_acc: 0.8535\n",
            "Epoch 13/20\n",
            "321/321 [==============================] - 51s 159ms/step - loss: 0.4059 - acc: 0.8457 - val_loss: 0.3869 - val_acc: 0.8565\n",
            "Epoch 14/20\n",
            "321/321 [==============================] - 51s 159ms/step - loss: 0.3898 - acc: 0.8505 - val_loss: 0.3727 - val_acc: 0.8610\n",
            "Epoch 15/20\n",
            "321/321 [==============================] - 51s 159ms/step - loss: 0.3762 - acc: 0.8550 - val_loss: 0.3608 - val_acc: 0.8632\n",
            "Epoch 16/20\n",
            "321/321 [==============================] - 51s 159ms/step - loss: 0.3646 - acc: 0.8594 - val_loss: 0.3507 - val_acc: 0.8653\n",
            "Epoch 17/20\n",
            "321/321 [==============================] - 51s 159ms/step - loss: 0.3560 - acc: 0.8627 - val_loss: 0.3424 - val_acc: 0.8686\n",
            "Epoch 18/20\n",
            "321/321 [==============================] - 51s 159ms/step - loss: 0.3458 - acc: 0.8661 - val_loss: 0.3324 - val_acc: 0.8707\n",
            "Epoch 19/20\n",
            "321/321 [==============================] - 51s 159ms/step - loss: 0.3376 - acc: 0.8676 - val_loss: 0.3247 - val_acc: 0.8726\n",
            "Epoch 20/20\n",
            "321/321 [==============================] - 51s 159ms/step - loss: 0.3306 - acc: 0.8704 - val_loss: 0.3179 - val_acc: 0.8747\n"
          ],
          "name": "stdout"
        },
        {
          "output_type": "execute_result",
          "data": {
            "text/plain": [
              "<tensorflow.python.keras.callbacks.History at 0x7f58a24b4d68>"
            ]
          },
          "metadata": {
            "tags": []
          },
          "execution_count": 39
        }
      ]
    },
    {
      "cell_type": "code",
      "metadata": {
        "id": "WOpQOcHR7twv"
      },
      "source": [
        ""
      ],
      "execution_count": null,
      "outputs": []
    }
  ]
}