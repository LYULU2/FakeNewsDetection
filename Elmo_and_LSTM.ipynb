{
  "nbformat": 4,
  "nbformat_minor": 0,
  "metadata": {
    "colab": {
      "name": "Elmo and LSTM.ipynb",
      "provenance": [],
      "toc_visible": true
    },
    "kernelspec": {
      "name": "python3",
      "display_name": "Python 3"
    },
    "accelerator": "GPU"
  },
  "cells": [
    {
      "cell_type": "code",
      "metadata": {
        "colab": {
          "base_uri": "https://localhost:8080/"
        },
        "id": "BYWuf1XDMmLQ",
        "outputId": "14696103-08ed-4496-c039-36491ad69434"
      },
      "source": [
        "!pip install \"tensorflow==1.15.0\"\n",
        "!pip install tensorflow-hub"
      ],
      "execution_count": null,
      "outputs": [
        {
          "output_type": "stream",
          "text": [
            "Collecting tensorflow==1.15.0\n",
            "\u001b[?25l  Downloading https://files.pythonhosted.org/packages/92/2b/e3af15221da9ff323521565fa3324b0d7c7c5b1d7a8ca66984c8d59cb0ce/tensorflow-1.15.0-cp37-cp37m-manylinux2010_x86_64.whl (412.3MB)\n",
            "\u001b[K     |████████████████████████████████| 412.3MB 42kB/s \n",
            "\u001b[?25hCollecting tensorflow-estimator==1.15.1\n",
            "\u001b[?25l  Downloading https://files.pythonhosted.org/packages/de/62/2ee9cd74c9fa2fa450877847ba560b260f5d0fb70ee0595203082dafcc9d/tensorflow_estimator-1.15.1-py2.py3-none-any.whl (503kB)\n",
            "\u001b[K     |████████████████████████████████| 512kB 41.4MB/s \n",
            "\u001b[?25hRequirement already satisfied: protobuf>=3.6.1 in /usr/local/lib/python3.7/dist-packages (from tensorflow==1.15.0) (3.12.4)\n",
            "Requirement already satisfied: opt-einsum>=2.3.2 in /usr/local/lib/python3.7/dist-packages (from tensorflow==1.15.0) (3.3.0)\n",
            "Requirement already satisfied: wheel>=0.26 in /usr/local/lib/python3.7/dist-packages (from tensorflow==1.15.0) (0.36.2)\n",
            "Requirement already satisfied: keras-preprocessing>=1.0.5 in /usr/local/lib/python3.7/dist-packages (from tensorflow==1.15.0) (1.1.2)\n",
            "Collecting tensorboard<1.16.0,>=1.15.0\n",
            "\u001b[?25l  Downloading https://files.pythonhosted.org/packages/1e/e9/d3d747a97f7188f48aa5eda486907f3b345cd409f0a0850468ba867db246/tensorboard-1.15.0-py3-none-any.whl (3.8MB)\n",
            "\u001b[K     |████████████████████████████████| 3.8MB 43.3MB/s \n",
            "\u001b[?25hRequirement already satisfied: termcolor>=1.1.0 in /usr/local/lib/python3.7/dist-packages (from tensorflow==1.15.0) (1.1.0)\n",
            "Collecting gast==0.2.2\n",
            "  Downloading https://files.pythonhosted.org/packages/4e/35/11749bf99b2d4e3cceb4d55ca22590b0d7c2c62b9de38ac4a4a7f4687421/gast-0.2.2.tar.gz\n",
            "Requirement already satisfied: google-pasta>=0.1.6 in /usr/local/lib/python3.7/dist-packages (from tensorflow==1.15.0) (0.2.0)\n",
            "Requirement already satisfied: numpy<2.0,>=1.16.0 in /usr/local/lib/python3.7/dist-packages (from tensorflow==1.15.0) (1.19.5)\n",
            "Requirement already satisfied: grpcio>=1.8.6 in /usr/local/lib/python3.7/dist-packages (from tensorflow==1.15.0) (1.32.0)\n",
            "Requirement already satisfied: absl-py>=0.7.0 in /usr/local/lib/python3.7/dist-packages (from tensorflow==1.15.0) (0.12.0)\n",
            "Collecting keras-applications>=1.0.8\n",
            "\u001b[?25l  Downloading https://files.pythonhosted.org/packages/71/e3/19762fdfc62877ae9102edf6342d71b28fbfd9dea3d2f96a882ce099b03f/Keras_Applications-1.0.8-py3-none-any.whl (50kB)\n",
            "\u001b[K     |████████████████████████████████| 51kB 7.2MB/s \n",
            "\u001b[?25hRequirement already satisfied: astor>=0.6.0 in /usr/local/lib/python3.7/dist-packages (from tensorflow==1.15.0) (0.8.1)\n",
            "Requirement already satisfied: wrapt>=1.11.1 in /usr/local/lib/python3.7/dist-packages (from tensorflow==1.15.0) (1.12.1)\n",
            "Requirement already satisfied: six>=1.10.0 in /usr/local/lib/python3.7/dist-packages (from tensorflow==1.15.0) (1.15.0)\n",
            "Requirement already satisfied: setuptools in /usr/local/lib/python3.7/dist-packages (from protobuf>=3.6.1->tensorflow==1.15.0) (54.2.0)\n",
            "Requirement already satisfied: markdown>=2.6.8 in /usr/local/lib/python3.7/dist-packages (from tensorboard<1.16.0,>=1.15.0->tensorflow==1.15.0) (3.3.4)\n",
            "Requirement already satisfied: werkzeug>=0.11.15 in /usr/local/lib/python3.7/dist-packages (from tensorboard<1.16.0,>=1.15.0->tensorflow==1.15.0) (1.0.1)\n",
            "Requirement already satisfied: h5py in /usr/local/lib/python3.7/dist-packages (from keras-applications>=1.0.8->tensorflow==1.15.0) (2.10.0)\n",
            "Requirement already satisfied: importlib-metadata; python_version < \"3.8\" in /usr/local/lib/python3.7/dist-packages (from markdown>=2.6.8->tensorboard<1.16.0,>=1.15.0->tensorflow==1.15.0) (3.10.0)\n",
            "Requirement already satisfied: zipp>=0.5 in /usr/local/lib/python3.7/dist-packages (from importlib-metadata; python_version < \"3.8\"->markdown>=2.6.8->tensorboard<1.16.0,>=1.15.0->tensorflow==1.15.0) (3.4.1)\n",
            "Requirement already satisfied: typing-extensions>=3.6.4; python_version < \"3.8\" in /usr/local/lib/python3.7/dist-packages (from importlib-metadata; python_version < \"3.8\"->markdown>=2.6.8->tensorboard<1.16.0,>=1.15.0->tensorflow==1.15.0) (3.7.4.3)\n",
            "Building wheels for collected packages: gast\n",
            "  Building wheel for gast (setup.py) ... \u001b[?25l\u001b[?25hdone\n",
            "  Created wheel for gast: filename=gast-0.2.2-cp37-none-any.whl size=7540 sha256=ca7b0cc00a302512efe07d6abe82e91766878276ebd9b28066d8def54b643f49\n",
            "  Stored in directory: /root/.cache/pip/wheels/5c/2e/7e/a1d4d4fcebe6c381f378ce7743a3ced3699feb89bcfbdadadd\n",
            "Successfully built gast\n",
            "\u001b[31mERROR: tensorflow-probability 0.12.1 has requirement gast>=0.3.2, but you'll have gast 0.2.2 which is incompatible.\u001b[0m\n",
            "Installing collected packages: tensorflow-estimator, tensorboard, gast, keras-applications, tensorflow\n",
            "  Found existing installation: tensorflow-estimator 2.4.0\n",
            "    Uninstalling tensorflow-estimator-2.4.0:\n",
            "      Successfully uninstalled tensorflow-estimator-2.4.0\n",
            "  Found existing installation: tensorboard 2.4.1\n",
            "    Uninstalling tensorboard-2.4.1:\n",
            "      Successfully uninstalled tensorboard-2.4.1\n",
            "  Found existing installation: gast 0.3.3\n",
            "    Uninstalling gast-0.3.3:\n",
            "      Successfully uninstalled gast-0.3.3\n",
            "  Found existing installation: tensorflow 2.4.1\n",
            "    Uninstalling tensorflow-2.4.1:\n",
            "      Successfully uninstalled tensorflow-2.4.1\n",
            "Successfully installed gast-0.2.2 keras-applications-1.0.8 tensorboard-1.15.0 tensorflow-1.15.0 tensorflow-estimator-1.15.1\n",
            "Requirement already satisfied: tensorflow-hub in /usr/local/lib/python3.7/dist-packages (0.11.0)\n",
            "Requirement already satisfied: protobuf>=3.8.0 in /usr/local/lib/python3.7/dist-packages (from tensorflow-hub) (3.12.4)\n",
            "Requirement already satisfied: numpy>=1.12.0 in /usr/local/lib/python3.7/dist-packages (from tensorflow-hub) (1.19.5)\n",
            "Requirement already satisfied: six>=1.9 in /usr/local/lib/python3.7/dist-packages (from protobuf>=3.8.0->tensorflow-hub) (1.15.0)\n",
            "Requirement already satisfied: setuptools in /usr/local/lib/python3.7/dist-packages (from protobuf>=3.8.0->tensorflow-hub) (54.2.0)\n"
          ],
          "name": "stdout"
        }
      ]
    },
    {
      "cell_type": "code",
      "metadata": {
        "id": "JoealKSDFYaP"
      },
      "source": [
        "import tensorflow_hub as hub\n",
        "import tensorflow as tf\n",
        "import pandas as pd\n",
        "import numpy as np\n",
        "\n",
        "elmo = hub.Module(\"https://tfhub.dev/google/elmo/2\", trainable=True)\n",
        "\n",
        "def ELMoEmbedding(input_text):\n",
        "    return elmo(tf.reshape(tf.cast(input_text, tf.string), [-1]), signature=\"default\", as_dict=True)[\"elmo\"]"
      ],
      "execution_count": null,
      "outputs": []
    },
    {
      "cell_type": "code",
      "metadata": {
        "id": "pQZ4l1HG-WAJ",
        "colab": {
          "base_uri": "https://localhost:8080/"
        },
        "outputId": "6e2937ae-ea8e-4936-d0da-f1ceadac5ea4"
      },
      "source": [
        "from google.colab import drive\n",
        "drive.mount(\"/content/drive\")"
      ],
      "execution_count": null,
      "outputs": [
        {
          "output_type": "stream",
          "text": [
            "Mounted at /content/drive\n"
          ],
          "name": "stdout"
        }
      ]
    },
    {
      "cell_type": "code",
      "metadata": {
        "id": "m_1wUUHtFZGJ"
      },
      "source": [
        "dataset = pd.read_csv('/content/drive/My Drive/data/dataset.csv', delimiter = ',')\n",
        "#dataset = pd.read_csv('/content/drive/My Drive/data/data_small_sec.csv', delimiter = ',')\n",
        "#dataset = dataset[:1000]\n",
        "data = pd.DataFrame([' '.join(t.split()[0:150]) for t in dataset['text']]) #for saving memory"
      ],
      "execution_count": null,
      "outputs": []
    },
    {
      "cell_type": "code",
      "metadata": {
        "colab": {
          "base_uri": "https://localhost:8080/"
        },
        "id": "AKH9Lo1dWo4t",
        "outputId": "53b1dab0-fc83-4cc0-9bdb-5668d845e8a0"
      },
      "source": [
        "#150\n",
        "from tensorflow.keras.layers import Input, Lambda, Bidirectional, Dense, Dropout, LSTM\n",
        "from tensorflow.keras.models import Model\n",
        "from sklearn.model_selection import train_test_split\n",
        "from sklearn.model_selection import cross_validate, KFold\n",
        "import numpy as np\n",
        "\n",
        "# K-fold Cross Validation model evaluation\n",
        "fold_no = 1\n",
        "\n",
        "#X_train, X_test, y_train, y_test = train_test_split(data, dataset[['label']], test_size=0.3, random_state=4)\n",
        "def build_model():\n",
        "  input_layer  = Input(shape=(1,), dtype=\"string\", name=\"Input_layer\")\n",
        "  embedding_layer = Lambda(ELMoEmbedding, output_shape=(1024, ), name=\"Elmo_Embedding\")(input_layer)\n",
        "\n",
        "  x = Bidirectional(LSTM(1024, return_sequences= False, recurrent_dropout=0.2, dropout=0.2), name=\"BiLSTM\")(embedding_layer)\n",
        "  x = Dense(2048, activation=\"relu\")(x)\n",
        "  x = Dropout(0.1)(x)\n",
        "  x = Dense(100, activation=\"relu\")(x)\n",
        "  x = Dropout(0.1)(x)\n",
        "  x = Dense(1, activation=\"sigmoid\")(x)\n",
        "  model = Model(inputs=input_layer,outputs=x)\n",
        "  model.summary()\n",
        "  model.compile(loss='binary_crossentropy', optimizer='adam', metrics=['accuracy'])\n",
        "  return model\n",
        "elmo_LSTM_model = build_model()\n",
        "kfold = KFold(n_splits=5, random_state=4, shuffle=True)\n",
        "# Define per-fold score containers\n",
        "acc_per_fold = []\n",
        "loss_per_fold = []\n",
        "target = dataset[['label']]\n",
        "with tf.Session() as session:\n",
        "  session.run(tf.global_variables_initializer()) \n",
        "  session.run(tf.tables_initializer())\n",
        "  fold_no = 1\n",
        "  for train, test in kfold.split(data, target):\n",
        "    history = elmo_LSTM_model.fit(data.loc[train], target.loc[train],epochs=1, batch_size=128,verbose = 1)\n",
        "    scores = elmo_LSTM_model.evaluate(data.loc[test], target.loc[test], verbose=0)\n",
        "    acc_per_fold.append(scores[1] * 100)\n",
        "    loss_per_fold.append(scores[0])\n",
        "    # Increase fold number\n",
        "    fold_no = fold_no + 1\n",
        "\n",
        "# == Provide average scores ==\n",
        "print('------------------------------------------------------------------------')\n",
        "print('Score per fold')\n",
        "for i in range(0, len(acc_per_fold)):\n",
        "  print('------------------------------------------------------------------------')\n",
        "  print(f'> Fold {i+1} - Loss: {loss_per_fold[i]} - Accuracy: {acc_per_fold[i]}%')\n",
        "print('------------------------------------------------------------------------')\n",
        "print('Average scores for all folds:')\n",
        "print(f'> Accuracy: {np.mean(acc_per_fold)} (+- {np.std(acc_per_fold)})')\n",
        "print(f'> Loss: {np.mean(loss_per_fold)}')\n",
        "print('------------------------------------------------------------------------')"
      ],
      "execution_count": null,
      "outputs": [
        {
          "output_type": "stream",
          "text": [
            "INFO:tensorflow:Saver not created because there are no variables in the graph to restore\n"
          ],
          "name": "stdout"
        },
        {
          "output_type": "stream",
          "text": [
            "INFO:tensorflow:Saver not created because there are no variables in the graph to restore\n"
          ],
          "name": "stderr"
        },
        {
          "output_type": "stream",
          "text": [
            "Model: \"model_1\"\n",
            "_________________________________________________________________\n",
            "Layer (type)                 Output Shape              Param #   \n",
            "=================================================================\n",
            "Input_layer (InputLayer)     [(None, 1)]               0         \n",
            "_________________________________________________________________\n",
            "Elmo_Embedding (Lambda)      (None, None, 1024)        0         \n",
            "_________________________________________________________________\n",
            "BiLSTM (Bidirectional)       (None, 2048)              16785408  \n",
            "_________________________________________________________________\n",
            "dense_3 (Dense)              (None, 2048)              4196352   \n",
            "_________________________________________________________________\n",
            "dropout_2 (Dropout)          (None, 2048)              0         \n",
            "_________________________________________________________________\n",
            "dense_4 (Dense)              (None, 100)               204900    \n",
            "_________________________________________________________________\n",
            "dropout_3 (Dropout)          (None, 100)               0         \n",
            "_________________________________________________________________\n",
            "dense_5 (Dense)              (None, 1)                 101       \n",
            "=================================================================\n",
            "Total params: 21,186,761\n",
            "Trainable params: 21,186,761\n",
            "Non-trainable params: 0\n",
            "_________________________________________________________________\n",
            "Train on 40986 samples\n",
            "40986/40986 [==============================] - 782s 19ms/sample - loss: 0.0765 - acc: 0.9731\n",
            "Train on 40986 samples\n",
            "40986/40986 [==============================] - 779s 19ms/sample - loss: 0.0375 - acc: 0.9871\n",
            "Train on 40986 samples\n",
            "40986/40986 [==============================] - 779s 19ms/sample - loss: 0.0252 - acc: 0.9912\n",
            "Train on 40987 samples\n",
            "40987/40987 [==============================] - 778s 19ms/sample - loss: 0.0146 - acc: 0.9946\n",
            "Train on 40987 samples\n",
            "40987/40987 [==============================] - 778s 19ms/sample - loss: 0.0113 - acc: 0.9960\n",
            "------------------------------------------------------------------------\n",
            "Score per fold\n",
            "------------------------------------------------------------------------\n",
            "> Fold 1 - Loss: 0.04504159330709437 - Accuracy: 98.44832420349121%\n",
            "------------------------------------------------------------------------\n",
            "> Fold 2 - Loss: 0.03203418478317097 - Accuracy: 98.8679587841034%\n",
            "------------------------------------------------------------------------\n",
            "> Fold 3 - Loss: 0.01601654799843681 - Accuracy: 99.37542676925659%\n",
            "------------------------------------------------------------------------\n",
            "> Fold 4 - Loss: 0.012230011345713472 - Accuracy: 99.58032369613647%\n",
            "------------------------------------------------------------------------\n",
            "> Fold 5 - Loss: 0.009174442284958374 - Accuracy: 99.65840578079224%\n",
            "------------------------------------------------------------------------\n",
            "Average scores for all folds:\n",
            "> Accuracy: 99.18608784675598 (+- 0.46040344419872636)\n",
            "> Loss: 0.0228993559438748\n",
            "------------------------------------------------------------------------\n"
          ],
          "name": "stdout"
        }
      ]
    },
    {
      "cell_type": "code",
      "metadata": {
        "colab": {
          "base_uri": "https://localhost:8080/"
        },
        "id": "q_q1fYS6CF_u",
        "outputId": "d81d160b-6072-4261-aed6-49ce6a19ba43"
      },
      "source": [
        "#150\n",
        "from tensorflow.keras.layers import Input, Lambda, Bidirectional, Dense, Dropout, LSTM\n",
        "from tensorflow.keras.models import Model\n",
        "from sklearn.model_selection import train_test_split\n",
        "\n",
        "X_train, X_test, y_train, y_test = train_test_split(data, dataset[['label']], test_size=0.3, random_state=4)\n",
        "def build_model():\n",
        "  input_layer  = Input(shape=(1,), dtype=\"string\", name=\"Input_layer\")\n",
        "  embedding_layer = Lambda(ELMoEmbedding, output_shape=(1024, ), name=\"Elmo_Embedding\")(input_layer)\n",
        "\n",
        "  x = Bidirectional(LSTM(1024, return_sequences= False, recurrent_dropout=0.2, dropout=0.2), name=\"BiLSTM\")(embedding_layer)\n",
        "  x = Dense(2048, activation=\"relu\")(x)\n",
        "  x = Dropout(0.2)(x)\n",
        "  x = Dense(100, activation=\"relu\")(x)\n",
        "  x = Dropout(0.2)(x)\n",
        "  x = Dense(1, activation=\"sigmoid\")(x)\n",
        "  model = Model(inputs=input_layer,outputs=x)\n",
        "  #model.summary()\n",
        "  model.compile(loss='binary_crossentropy', optimizer='adam', metrics=['accuracy'])\n",
        "  return model\n",
        "elmo_LSTM_model = build_model()\n",
        "\n",
        "with tf.Session() as session:\n",
        "  session.run(tf.global_variables_initializer()) \n",
        "  session.run(tf.tables_initializer())\n",
        "  history = elmo_LSTM_model.fit(X_train, y_train,validation_data=(X_test, y_test), epochs=4, batch_size=128)\n"
      ],
      "execution_count": null,
      "outputs": [
        {
          "output_type": "stream",
          "text": [
            "INFO:tensorflow:Saver not created because there are no variables in the graph to restore\n"
          ],
          "name": "stdout"
        },
        {
          "output_type": "stream",
          "text": [
            "INFO:tensorflow:Saver not created because there are no variables in the graph to restore\n"
          ],
          "name": "stderr"
        },
        {
          "output_type": "stream",
          "text": [
            "Train on 35863 samples, validate on 15370 samples\n",
            "Epoch 1/4\n",
            "35863/35863 [==============================] - 1215s 34ms/sample - loss: 0.0762 - acc: 0.9723 - val_loss: 0.0447 - val_acc: 0.9856\n",
            "Epoch 2/4\n",
            "35863/35863 [==============================] - 1207s 34ms/sample - loss: 0.0376 - acc: 0.9871 - val_loss: 0.0387 - val_acc: 0.9866\n",
            "Epoch 3/4\n",
            "35863/35863 [==============================] - 1201s 33ms/sample - loss: 0.0243 - acc: 0.9912 - val_loss: 0.0321 - val_acc: 0.9885\n",
            "Epoch 4/4\n",
            "35863/35863 [==============================] - 1200s 33ms/sample - loss: 0.0142 - acc: 0.9948 - val_loss: 0.0438 - val_acc: 0.9866\n"
          ],
          "name": "stdout"
        }
      ]
    },
    {
      "cell_type": "code",
      "metadata": {
        "id": "2LYWVYbq3GA3"
      },
      "source": [
        "import matplotlib.pyplot as plt"
      ],
      "execution_count": null,
      "outputs": []
    },
    {
      "cell_type": "markdown",
      "metadata": {
        "id": "CIk7PJ3DFDu6"
      },
      "source": [
        "### use 140 words"
      ]
    },
    {
      "cell_type": "code",
      "metadata": {
        "colab": {
          "base_uri": "https://localhost:8080/"
        },
        "id": "Vq3dELxkFDvG",
        "outputId": "032647ac-1751-4755-905e-8adbde74b927"
      },
      "source": [
        "from tensorflow.keras.layers import Input, Lambda, Bidirectional, Dense, Dropout, LSTM\n",
        "from tensorflow.keras.models import Model\n",
        "from sklearn.model_selection import train_test_split\n",
        "\n",
        "X_train, X_test, y_train, y_test = train_test_split(data, dataset[['label']], test_size=0.3, random_state=4)\n",
        "def build_model():\n",
        "  input_layer  = Input(shape=(1,), dtype=\"string\", name=\"Input_layer\")\n",
        "  embedding_layer = Lambda(ELMoEmbedding, output_shape=(1024, ), name=\"Elmo_Embedding\")(input_layer)\n",
        "\n",
        "  x = Bidirectional(LSTM(1024, return_sequences= False, recurrent_dropout=0.2, dropout=0.2), name=\"BiLSTM\")(embedding_layer)\n",
        "  x = Dense(2048, activation=\"relu\")(x)\n",
        "  x = Dropout(0.1)(x)\n",
        "  x = Dense(100, activation=\"relu\")(x)\n",
        "  x = Dropout(0.1)(x)\n",
        "  x = Dense(1, activation=\"sigmoid\")(x)\n",
        "  model = Model(inputs=input_layer,outputs=x)\n",
        "  model.summary()\n",
        "  model.compile(loss='binary_crossentropy', optimizer='adam', metrics=['accuracy'])\n",
        "  return model\n",
        "elmo_LSTM_model = build_model()\n",
        "\n",
        "with tf.Session() as session:\n",
        "  session.run(tf.global_variables_initializer()) \n",
        "  session.run(tf.tables_initializer())\n",
        "  history = elmo_LSTM_model.fit(X_train, y_train,validation_data=(X_test, y_test), epochs=4, batch_size=128)\n"
      ],
      "execution_count": null,
      "outputs": [
        {
          "output_type": "stream",
          "text": [
            "INFO:tensorflow:Saver not created because there are no variables in the graph to restore\n"
          ],
          "name": "stdout"
        },
        {
          "output_type": "stream",
          "text": [
            "INFO:tensorflow:Saver not created because there are no variables in the graph to restore\n"
          ],
          "name": "stderr"
        },
        {
          "output_type": "stream",
          "text": [
            "WARNING:tensorflow:From /usr/local/lib/python3.7/dist-packages/tensorflow_core/python/ops/init_ops.py:97: calling GlorotUniform.__init__ (from tensorflow.python.ops.init_ops) with dtype is deprecated and will be removed in a future version.\n",
            "Instructions for updating:\n",
            "Call initializer instance with the dtype argument instead of passing it to the constructor\n"
          ],
          "name": "stdout"
        },
        {
          "output_type": "stream",
          "text": [
            "WARNING:tensorflow:From /usr/local/lib/python3.7/dist-packages/tensorflow_core/python/ops/init_ops.py:97: calling GlorotUniform.__init__ (from tensorflow.python.ops.init_ops) with dtype is deprecated and will be removed in a future version.\n",
            "Instructions for updating:\n",
            "Call initializer instance with the dtype argument instead of passing it to the constructor\n"
          ],
          "name": "stderr"
        },
        {
          "output_type": "stream",
          "text": [
            "WARNING:tensorflow:From /usr/local/lib/python3.7/dist-packages/tensorflow_core/python/ops/init_ops.py:97: calling Orthogonal.__init__ (from tensorflow.python.ops.init_ops) with dtype is deprecated and will be removed in a future version.\n",
            "Instructions for updating:\n",
            "Call initializer instance with the dtype argument instead of passing it to the constructor\n"
          ],
          "name": "stdout"
        },
        {
          "output_type": "stream",
          "text": [
            "WARNING:tensorflow:From /usr/local/lib/python3.7/dist-packages/tensorflow_core/python/ops/init_ops.py:97: calling Orthogonal.__init__ (from tensorflow.python.ops.init_ops) with dtype is deprecated and will be removed in a future version.\n",
            "Instructions for updating:\n",
            "Call initializer instance with the dtype argument instead of passing it to the constructor\n"
          ],
          "name": "stderr"
        },
        {
          "output_type": "stream",
          "text": [
            "WARNING:tensorflow:From /usr/local/lib/python3.7/dist-packages/tensorflow_core/python/ops/init_ops.py:97: calling Zeros.__init__ (from tensorflow.python.ops.init_ops) with dtype is deprecated and will be removed in a future version.\n",
            "Instructions for updating:\n",
            "Call initializer instance with the dtype argument instead of passing it to the constructor\n"
          ],
          "name": "stdout"
        },
        {
          "output_type": "stream",
          "text": [
            "WARNING:tensorflow:From /usr/local/lib/python3.7/dist-packages/tensorflow_core/python/ops/init_ops.py:97: calling Zeros.__init__ (from tensorflow.python.ops.init_ops) with dtype is deprecated and will be removed in a future version.\n",
            "Instructions for updating:\n",
            "Call initializer instance with the dtype argument instead of passing it to the constructor\n"
          ],
          "name": "stderr"
        },
        {
          "output_type": "stream",
          "text": [
            "WARNING:tensorflow:From /usr/local/lib/python3.7/dist-packages/tensorflow_core/python/ops/resource_variable_ops.py:1630: calling BaseResourceVariable.__init__ (from tensorflow.python.ops.resource_variable_ops) with constraint is deprecated and will be removed in a future version.\n",
            "Instructions for updating:\n",
            "If using Keras pass *_constraint arguments to layers.\n"
          ],
          "name": "stdout"
        },
        {
          "output_type": "stream",
          "text": [
            "WARNING:tensorflow:From /usr/local/lib/python3.7/dist-packages/tensorflow_core/python/ops/resource_variable_ops.py:1630: calling BaseResourceVariable.__init__ (from tensorflow.python.ops.resource_variable_ops) with constraint is deprecated and will be removed in a future version.\n",
            "Instructions for updating:\n",
            "If using Keras pass *_constraint arguments to layers.\n"
          ],
          "name": "stderr"
        },
        {
          "output_type": "stream",
          "text": [
            "Model: \"model\"\n",
            "_________________________________________________________________\n",
            "Layer (type)                 Output Shape              Param #   \n",
            "=================================================================\n",
            "Input_layer (InputLayer)     [(None, 1)]               0         \n",
            "_________________________________________________________________\n",
            "Elmo_Embedding (Lambda)      (None, None, 1024)        0         \n",
            "_________________________________________________________________\n",
            "BiLSTM (Bidirectional)       (None, 2048)              16785408  \n",
            "_________________________________________________________________\n",
            "dense (Dense)                (None, 2048)              4196352   \n",
            "_________________________________________________________________\n",
            "dropout (Dropout)            (None, 2048)              0         \n",
            "_________________________________________________________________\n",
            "dense_1 (Dense)              (None, 100)               204900    \n",
            "_________________________________________________________________\n",
            "dropout_1 (Dropout)          (None, 100)               0         \n",
            "_________________________________________________________________\n",
            "dense_2 (Dense)              (None, 1)                 101       \n",
            "=================================================================\n",
            "Total params: 21,186,761\n",
            "Trainable params: 21,186,761\n",
            "Non-trainable params: 0\n",
            "_________________________________________________________________\n",
            "WARNING:tensorflow:From /usr/local/lib/python3.7/dist-packages/tensorflow_core/python/ops/nn_impl.py:183: where (from tensorflow.python.ops.array_ops) is deprecated and will be removed in a future version.\n",
            "Instructions for updating:\n",
            "Use tf.where in 2.0, which has the same broadcast rule as np.where\n"
          ],
          "name": "stdout"
        },
        {
          "output_type": "stream",
          "text": [
            "WARNING:tensorflow:From /usr/local/lib/python3.7/dist-packages/tensorflow_core/python/ops/nn_impl.py:183: where (from tensorflow.python.ops.array_ops) is deprecated and will be removed in a future version.\n",
            "Instructions for updating:\n",
            "Use tf.where in 2.0, which has the same broadcast rule as np.where\n"
          ],
          "name": "stderr"
        },
        {
          "output_type": "stream",
          "text": [
            "Train on 35863 samples, validate on 15370 samples\n",
            "Epoch 1/4\n",
            "35863/35863 [==============================] - 1118s 31ms/sample - loss: 0.2320 - acc: 0.9058 - val_loss: 0.1260 - val_acc: 0.9517\n",
            "Epoch 2/4\n",
            "35863/35863 [==============================] - 1114s 31ms/sample - loss: 0.1172 - acc: 0.9570 - val_loss: 0.1183 - val_acc: 0.9565\n",
            "Epoch 3/4\n",
            "35863/35863 [==============================] - 1111s 31ms/sample - loss: 0.0957 - acc: 0.9630 - val_loss: 0.1052 - val_acc: 0.9601\n",
            "Epoch 4/4\n",
            "35840/35863 [============================>.] - ETA: 0s - loss: 0.0823 - acc: 0.9692"
          ],
          "name": "stdout"
        }
      ]
    },
    {
      "cell_type": "code",
      "metadata": {
        "colab": {
          "base_uri": "https://localhost:8080/",
          "height": 297
        },
        "id": "HezJIhvkFDvG",
        "outputId": "836b80c5-69df-4e7a-d250-52611601787d"
      },
      "source": [
        "# Plot the loss and accuracy curves for training and validation \n",
        "fig, ax = plt.subplots(2,1)\n",
        "ax[0].plot(history.history['loss'], color='b', label=\"Training loss\")\n",
        "ax[0].plot(history.history['val_loss'], color='r', label=\"validation loss\",axes =ax[0])\n",
        "ax[0].set_title(\"loss\")\n",
        "legend = ax[0].legend(loc='best', shadow=True)\n",
        "\n",
        "ax[1].plot(history.history['acc'], color='b', label=\"Training accuracy\")\n",
        "ax[1].plot(history.history['val_acc'], color='r',label=\"Validation accuracy\")\n",
        "ax[1].set_title(\"accuracy\")\n",
        "legend = ax[1].legend(loc='best', shadow=True)\n",
        "fig.tight_layout()"
      ],
      "execution_count": null,
      "outputs": [
        {
          "output_type": "display_data",
          "data": {
            "image/png": "[encoded data removed]",
            "text/plain": [
              "<Figure size 432x288 with 2 Axes>"
            ]
          },
          "metadata": {
            "tags": [],
            "needs_background": "light"
          }
        }
      ]
    },
    {
      "cell_type": "code",
      "metadata": {
        "colab": {
          "base_uri": "https://localhost:8080/"
        },
        "id": "Qo4EeTkrcMuV",
        "outputId": "1cbe2154-3773-402b-bd9d-7dcddd7c29e8"
      },
      "source": [
        "#140 cv\n",
        "from tensorflow.keras.layers import Input, Lambda, Bidirectional, Dense, Dropout, LSTM\n",
        "from tensorflow.keras.models import Model\n",
        "from sklearn.model_selection import train_test_split\n",
        "from sklearn.model_selection import cross_validate, KFold\n",
        "\n",
        "# K-fold Cross Validation model evaluation\n",
        "fold_no = 1\n",
        "\n",
        "#X_train, X_test, y_train, y_test = train_test_split(data, dataset[['label']], test_size=0.3, random_state=4)\n",
        "def build_model():\n",
        "  input_layer  = Input(shape=(1,), dtype=\"string\", name=\"Input_layer\")\n",
        "  embedding_layer = Lambda(ELMoEmbedding, output_shape=(1024, ), name=\"Elmo_Embedding\")(input_layer)\n",
        "\n",
        "  x = Bidirectional(LSTM(1024, return_sequences= False, recurrent_dropout=0.2, dropout=0.2), name=\"BiLSTM\")(embedding_layer)\n",
        "  x = Dense(2048, activation=\"relu\")(x)\n",
        "  x = Dropout(0.1)(x)\n",
        "  x = Dense(100, activation=\"relu\")(x)\n",
        "  x = Dropout(0.1)(x)\n",
        "  x = Dense(1, activation=\"sigmoid\")(x)\n",
        "  model = Model(inputs=input_layer,outputs=x)\n",
        "  model.summary()\n",
        "  model.compile(loss='binary_crossentropy', optimizer='adam', metrics=['accuracy'])\n",
        "  return model\n",
        "elmo_LSTM_model = build_model()\n",
        "kfold = KFold(n_splits=5, random_state=4, shuffle=True)\n",
        "# Define per-fold score containers\n",
        "acc_per_fold = []\n",
        "loss_per_fold = []\n",
        "target = dataset[['label']]\n",
        "with tf.Session() as session:\n",
        "  session.run(tf.global_variables_initializer()) \n",
        "  session.run(tf.tables_initializer())\n",
        "  fold_no = 1\n",
        "  for train, test in kfold.split(data, target):\n",
        "    history = elmo_LSTM_model.fit(data.loc[train], target.loc[train],epochs=1, batch_size=32,verbose = 1)\n",
        "    scores = elmo_LSTM_model.evaluate(data.loc[test], target.loc[test], verbose=0)\n",
        "    acc_per_fold.append(scores[1] * 100)\n",
        "    loss_per_fold.append(scores[0])\n",
        "    # Increase fold number\n",
        "    fold_no = fold_no + 1\n",
        "\n",
        "# == Provide average scores ==\n",
        "print('------------------------------------------------------------------------')\n",
        "print('Score per fold')\n",
        "for i in range(0, len(acc_per_fold)):\n",
        "  print('------------------------------------------------------------------------')\n",
        "  print(f'> Fold {i+1} - Loss: {loss_per_fold[i]} - Accuracy: {acc_per_fold[i]}%')\n",
        "print('------------------------------------------------------------------------')\n",
        "print('Average scores for all folds:')\n",
        "print(f'> Accuracy: {np.mean(acc_per_fold)} (+- {np.std(acc_per_fold)})')\n",
        "print(f'> Loss: {np.mean(loss_per_fold)}')\n",
        "print('------------------------------------------------------------------------')"
      ],
      "execution_count": null,
      "outputs": [
        {
          "output_type": "stream",
          "text": [
            "INFO:tensorflow:Saver not created because there are no variables in the graph to restore\n"
          ],
          "name": "stdout"
        },
        {
          "output_type": "stream",
          "text": [
            "INFO:tensorflow:Saver not created because there are no variables in the graph to restore\n"
          ],
          "name": "stderr"
        },
        {
          "output_type": "stream",
          "text": [
            "WARNING:tensorflow:From /usr/local/lib/python3.7/dist-packages/tensorflow_core/python/ops/init_ops.py:97: calling GlorotUniform.__init__ (from tensorflow.python.ops.init_ops) with dtype is deprecated and will be removed in a future version.\n",
            "Instructions for updating:\n",
            "Call initializer instance with the dtype argument instead of passing it to the constructor\n"
          ],
          "name": "stdout"
        },
        {
          "output_type": "stream",
          "text": [
            "WARNING:tensorflow:From /usr/local/lib/python3.7/dist-packages/tensorflow_core/python/ops/init_ops.py:97: calling GlorotUniform.__init__ (from tensorflow.python.ops.init_ops) with dtype is deprecated and will be removed in a future version.\n",
            "Instructions for updating:\n",
            "Call initializer instance with the dtype argument instead of passing it to the constructor\n"
          ],
          "name": "stderr"
        },
        {
          "output_type": "stream",
          "text": [
            "WARNING:tensorflow:From /usr/local/lib/python3.7/dist-packages/tensorflow_core/python/ops/init_ops.py:97: calling Orthogonal.__init__ (from tensorflow.python.ops.init_ops) with dtype is deprecated and will be removed in a future version.\n",
            "Instructions for updating:\n",
            "Call initializer instance with the dtype argument instead of passing it to the constructor\n"
          ],
          "name": "stdout"
        },
        {
          "output_type": "stream",
          "text": [
            "WARNING:tensorflow:From /usr/local/lib/python3.7/dist-packages/tensorflow_core/python/ops/init_ops.py:97: calling Orthogonal.__init__ (from tensorflow.python.ops.init_ops) with dtype is deprecated and will be removed in a future version.\n",
            "Instructions for updating:\n",
            "Call initializer instance with the dtype argument instead of passing it to the constructor\n"
          ],
          "name": "stderr"
        },
        {
          "output_type": "stream",
          "text": [
            "WARNING:tensorflow:From /usr/local/lib/python3.7/dist-packages/tensorflow_core/python/ops/init_ops.py:97: calling Zeros.__init__ (from tensorflow.python.ops.init_ops) with dtype is deprecated and will be removed in a future version.\n",
            "Instructions for updating:\n",
            "Call initializer instance with the dtype argument instead of passing it to the constructor\n"
          ],
          "name": "stdout"
        },
        {
          "output_type": "stream",
          "text": [
            "WARNING:tensorflow:From /usr/local/lib/python3.7/dist-packages/tensorflow_core/python/ops/init_ops.py:97: calling Zeros.__init__ (from tensorflow.python.ops.init_ops) with dtype is deprecated and will be removed in a future version.\n",
            "Instructions for updating:\n",
            "Call initializer instance with the dtype argument instead of passing it to the constructor\n"
          ],
          "name": "stderr"
        },
        {
          "output_type": "stream",
          "text": [
            "WARNING:tensorflow:From /usr/local/lib/python3.7/dist-packages/tensorflow_core/python/ops/resource_variable_ops.py:1630: calling BaseResourceVariable.__init__ (from tensorflow.python.ops.resource_variable_ops) with constraint is deprecated and will be removed in a future version.\n",
            "Instructions for updating:\n",
            "If using Keras pass *_constraint arguments to layers.\n"
          ],
          "name": "stdout"
        },
        {
          "output_type": "stream",
          "text": [
            "WARNING:tensorflow:From /usr/local/lib/python3.7/dist-packages/tensorflow_core/python/ops/resource_variable_ops.py:1630: calling BaseResourceVariable.__init__ (from tensorflow.python.ops.resource_variable_ops) with constraint is deprecated and will be removed in a future version.\n",
            "Instructions for updating:\n",
            "If using Keras pass *_constraint arguments to layers.\n"
          ],
          "name": "stderr"
        },
        {
          "output_type": "stream",
          "text": [
            "Model: \"model\"\n",
            "_________________________________________________________________\n",
            "Layer (type)                 Output Shape              Param #   \n",
            "=================================================================\n",
            "Input_layer (InputLayer)     [(None, 1)]               0         \n",
            "_________________________________________________________________\n",
            "Elmo_Embedding (Lambda)      (None, None, 1024)        0         \n",
            "_________________________________________________________________\n",
            "BiLSTM (Bidirectional)       (None, 2048)              16785408  \n",
            "_________________________________________________________________\n",
            "dense (Dense)                (None, 2048)              4196352   \n",
            "_________________________________________________________________\n",
            "dropout (Dropout)            (None, 2048)              0         \n",
            "_________________________________________________________________\n",
            "dense_1 (Dense)              (None, 100)               204900    \n",
            "_________________________________________________________________\n",
            "dropout_1 (Dropout)          (None, 100)               0         \n",
            "_________________________________________________________________\n",
            "dense_2 (Dense)              (None, 1)                 101       \n",
            "=================================================================\n",
            "Total params: 21,186,761\n",
            "Trainable params: 21,186,761\n",
            "Non-trainable params: 0\n",
            "_________________________________________________________________\n",
            "WARNING:tensorflow:From /usr/local/lib/python3.7/dist-packages/tensorflow_core/python/ops/nn_impl.py:183: where (from tensorflow.python.ops.array_ops) is deprecated and will be removed in a future version.\n",
            "Instructions for updating:\n",
            "Use tf.where in 2.0, which has the same broadcast rule as np.where\n"
          ],
          "name": "stdout"
        },
        {
          "output_type": "stream",
          "text": [
            "WARNING:tensorflow:From /usr/local/lib/python3.7/dist-packages/tensorflow_core/python/ops/nn_impl.py:183: where (from tensorflow.python.ops.array_ops) is deprecated and will be removed in a future version.\n",
            "Instructions for updating:\n",
            "Use tf.where in 2.0, which has the same broadcast rule as np.where\n"
          ],
          "name": "stderr"
        },
        {
          "output_type": "stream",
          "text": [
            "Train on 40986 samples\n",
            "40986/40986 [==============================] - 1077s 26ms/sample - loss: 0.0693 - acc: 0.9768\n",
            "Train on 40986 samples\n",
            "40986/40986 [==============================] - 1062s 26ms/sample - loss: 0.0364 - acc: 0.9871\n",
            "Train on 40986 samples\n",
            "40986/40986 [==============================] - 1058s 26ms/sample - loss: 0.0237 - acc: 0.9918\n",
            "Train on 40987 samples\n",
            "40987/40987 [==============================] - 1056s 26ms/sample - loss: 0.0170 - acc: 0.9937\n",
            "Train on 40987 samples\n",
            "40987/40987 [==============================] - 1064s 26ms/sample - loss: 0.0137 - acc: 0.9953\n",
            "------------------------------------------------------------------------\n",
            "Score per fold\n",
            "------------------------------------------------------------------------\n",
            "> Fold 1 - Loss: 0.04319288611526998 - Accuracy: 98.68254065513611%\n",
            "------------------------------------------------------------------------\n",
            "> Fold 2 - Loss: 0.023516334944401678 - Accuracy: 99.13145303726196%\n",
            "------------------------------------------------------------------------\n",
            "> Fold 3 - Loss: 0.01424974642212266 - Accuracy: 99.33639168739319%\n",
            "------------------------------------------------------------------------\n",
            "> Fold 4 - Loss: 0.023576246902438005 - Accuracy: 99.26800727844238%\n",
            "------------------------------------------------------------------------\n",
            "> Fold 5 - Loss: 0.007929597576827136 - Accuracy: 99.71696138381958%\n",
            "------------------------------------------------------------------------\n",
            "Average scores for all folds:\n",
            "> Accuracy: 99.22707080841064 (+- 0.3344474461015676)\n",
            "> Loss: 0.022492962392211893\n",
            "------------------------------------------------------------------------\n"
          ],
          "name": "stdout"
        }
      ]
    },
    {
      "cell_type": "markdown",
      "metadata": {
        "id": "AavV3q6JaYqV"
      },
      "source": [
        "### use 120 words"
      ]
    },
    {
      "cell_type": "code",
      "metadata": {
        "colab": {
          "base_uri": "https://localhost:8080/"
        },
        "id": "trSEcMeSaYqZ",
        "outputId": "4f89f7a6-a8ed-4cca-b7c5-25c1e3bc510a"
      },
      "source": [
        "#120\n",
        "from tensorflow.keras.layers import Input, Lambda, Bidirectional, Dense, Dropout, LSTM\n",
        "from tensorflow.keras.models import Model\n",
        "from sklearn.model_selection import train_test_split\n",
        "\n",
        "X_train, X_test, y_train, y_test = train_test_split(data, dataset[['label']], test_size=0.3, random_state=4)\n",
        "def build_model():\n",
        "  input_layer  = Input(shape=(1,), dtype=\"string\", name=\"Input_layer\")\n",
        "  embedding_layer = Lambda(ELMoEmbedding, output_shape=(1024, ), name=\"Elmo_Embedding\")(input_layer)\n",
        "\n",
        "  x = Bidirectional(LSTM(1024, return_sequences= False, recurrent_dropout=0.2, dropout=0.2), name=\"BiLSTM\")(embedding_layer)\n",
        "  x = Dense(2048, activation=\"relu\")(x)\n",
        "  x = Dropout(0.1)(x)\n",
        "  x = Dense(100, activation=\"relu\")(x)\n",
        "  x = Dropout(0.1)(x)\n",
        "  x = Dense(1, activation=\"sigmoid\")(x)\n",
        "  model = Model(inputs=input_layer,outputs=x)\n",
        "  model.summary()\n",
        "  model.compile(loss='binary_crossentropy', optimizer='adam', metrics=['accuracy'])\n",
        "  return model\n",
        "elmo_LSTM_model = build_model()\n",
        "\n",
        "with tf.Session() as session:\n",
        "  session.run(tf.global_variables_initializer()) \n",
        "  session.run(tf.tables_initializer())\n",
        "  history = elmo_LSTM_model.fit(X_train, y_train,validation_data=(X_test, y_test), epochs=4, batch_size=128)\n"
      ],
      "execution_count": null,
      "outputs": [
        {
          "output_type": "stream",
          "text": [
            "INFO:tensorflow:Saver not created because there are no variables in the graph to restore\n"
          ],
          "name": "stdout"
        },
        {
          "output_type": "stream",
          "text": [
            "INFO:tensorflow:Saver not created because there are no variables in the graph to restore\n"
          ],
          "name": "stderr"
        },
        {
          "output_type": "stream",
          "text": [
            "Model: \"model_2\"\n",
            "_________________________________________________________________\n",
            "Layer (type)                 Output Shape              Param #   \n",
            "=================================================================\n",
            "Input_layer (InputLayer)     [(None, 1)]               0         \n",
            "_________________________________________________________________\n",
            "Elmo_Embedding (Lambda)      (None, None, 1024)        0         \n",
            "_________________________________________________________________\n",
            "BiLSTM (Bidirectional)       (None, 2048)              16785408  \n",
            "_________________________________________________________________\n",
            "dense_6 (Dense)              (None, 2048)              4196352   \n",
            "_________________________________________________________________\n",
            "dropout_4 (Dropout)          (None, 2048)              0         \n",
            "_________________________________________________________________\n",
            "dense_7 (Dense)              (None, 100)               204900    \n",
            "_________________________________________________________________\n",
            "dropout_5 (Dropout)          (None, 100)               0         \n",
            "_________________________________________________________________\n",
            "dense_8 (Dense)              (None, 1)                 101       \n",
            "=================================================================\n",
            "Total params: 21,186,761\n",
            "Trainable params: 21,186,761\n",
            "Non-trainable params: 0\n",
            "_________________________________________________________________\n",
            "Train on 35863 samples, validate on 15370 samples\n",
            "Epoch 1/4\n",
            "35863/35863 [==============================] - 926s 26ms/sample - loss: 0.2228 - acc: 0.9095 - val_loss: 0.1326 - val_acc: 0.9489\n",
            "Epoch 2/4\n",
            "35863/35863 [==============================] - 930s 26ms/sample - loss: 0.1207 - acc: 0.9547 - val_loss: 0.1173 - val_acc: 0.9547\n",
            "Epoch 3/4\n",
            "35863/35863 [==============================] - 930s 26ms/sample - loss: 0.1009 - acc: 0.9612 - val_loss: 0.1076 - val_acc: 0.9601\n",
            "Epoch 4/4\n",
            "35863/35863 [==============================] - 928s 26ms/sample - loss: 0.0834 - acc: 0.9682 - val_loss: 0.1257 - val_acc: 0.9588\n"
          ],
          "name": "stdout"
        }
      ]
    },
    {
      "cell_type": "code",
      "metadata": {
        "colab": {
          "base_uri": "https://localhost:8080/",
          "height": 297
        },
        "id": "khve2XIJaYqa",
        "outputId": "836b80c5-69df-4e7a-d250-52611601787d"
      },
      "source": [
        "# Plot the loss and accuracy curves for training and validation \n",
        "fig, ax = plt.subplots(2,1)\n",
        "ax[0].plot(history.history['loss'], color='b', label=\"Training loss\")\n",
        "ax[0].plot(history.history['val_loss'], color='r', label=\"validation loss\",axes =ax[0])\n",
        "ax[0].set_title(\"loss\")\n",
        "legend = ax[0].legend(loc='best', shadow=True)\n",
        "\n",
        "ax[1].plot(history.history['acc'], color='b', label=\"Training accuracy\")\n",
        "ax[1].plot(history.history['val_acc'], color='r',label=\"Validation accuracy\")\n",
        "ax[1].set_title(\"accuracy\")\n",
        "legend = ax[1].legend(loc='best', shadow=True)\n",
        "fig.tight_layout()"
      ],
      "execution_count": null,
      "outputs": [
        {
          "output_type": "display_data",
          "data": {
            "image/png": "[encoded data removed]",
            "text/plain": [
              "<Figure size 432x288 with 2 Axes>"
            ]
          },
          "metadata": {
            "tags": [],
            "needs_background": "light"
          }
        }
      ]
    },
    {
      "cell_type": "markdown",
      "metadata": {
        "id": "_2ICWihXo9U4"
      },
      "source": [
        "### use 130 words"
      ]
    },
    {
      "cell_type": "code",
      "metadata": {
        "colab": {
          "base_uri": "https://localhost:8080/"
        },
        "id": "8T2kfMo_o9VE",
        "outputId": "14a164ac-f654-4246-a04d-a4a933d60d10"
      },
      "source": [
        "#130\n",
        "from tensorflow.keras.layers import Input, Lambda, Bidirectional, Dense, Dropout, LSTM\n",
        "from tensorflow.keras.models import Model\n",
        "from sklearn.model_selection import train_test_split\n",
        "\n",
        "X_train, X_test, y_train, y_test = train_test_split(data, dataset[['label']], test_size=0.3, random_state=4)\n",
        "def build_model():\n",
        "  input_layer  = Input(shape=(1,), dtype=\"string\", name=\"Input_layer\")\n",
        "  embedding_layer = Lambda(ELMoEmbedding, output_shape=(1024, ), name=\"Elmo_Embedding\")(input_layer)\n",
        "\n",
        "  x = Bidirectional(LSTM(1024, return_sequences= False, recurrent_dropout=0.2, dropout=0.2), name=\"BiLSTM\")(embedding_layer)\n",
        "  x = Dense(2048, activation=\"relu\")(x)\n",
        "  x = Dropout(0.1)(x)\n",
        "  x = Dense(100, activation=\"relu\")(x)\n",
        "  x = Dropout(0.1)(x)\n",
        "  x = Dense(1, activation=\"sigmoid\")(x)\n",
        "  model = Model(inputs=input_layer,outputs=x)\n",
        "  model.summary()\n",
        "  model.compile(loss='binary_crossentropy', optimizer='adam', metrics=['accuracy'])\n",
        "  return model\n",
        "elmo_LSTM_model = build_model()\n",
        "\n",
        "with tf.Session() as session:\n",
        "  session.run(tf.global_variables_initializer()) \n",
        "  session.run(tf.tables_initializer())\n",
        "  history = elmo_LSTM_model.fit(X_train, y_train,validation_data=(X_test, y_test), epochs=4, batch_size=128)\n"
      ],
      "execution_count": null,
      "outputs": [
        {
          "output_type": "stream",
          "text": [
            "INFO:tensorflow:Saver not created because there are no variables in the graph to restore\n"
          ],
          "name": "stdout"
        },
        {
          "output_type": "stream",
          "text": [
            "INFO:tensorflow:Saver not created because there are no variables in the graph to restore\n"
          ],
          "name": "stderr"
        },
        {
          "output_type": "stream",
          "text": [
            "Model: \"model_3\"\n",
            "_________________________________________________________________\n",
            "Layer (type)                 Output Shape              Param #   \n",
            "=================================================================\n",
            "Input_layer (InputLayer)     [(None, 1)]               0         \n",
            "_________________________________________________________________\n",
            "Elmo_Embedding (Lambda)      (None, None, 1024)        0         \n",
            "_________________________________________________________________\n",
            "BiLSTM (Bidirectional)       (None, 2048)              16785408  \n",
            "_________________________________________________________________\n",
            "dense_9 (Dense)              (None, 2048)              4196352   \n",
            "_________________________________________________________________\n",
            "dropout_6 (Dropout)          (None, 2048)              0         \n",
            "_________________________________________________________________\n",
            "dense_10 (Dense)             (None, 100)               204900    \n",
            "_________________________________________________________________\n",
            "dropout_7 (Dropout)          (None, 100)               0         \n",
            "_________________________________________________________________\n",
            "dense_11 (Dense)             (None, 1)                 101       \n",
            "=================================================================\n",
            "Total params: 21,186,761\n",
            "Trainable params: 21,186,761\n",
            "Non-trainable params: 0\n",
            "_________________________________________________________________\n",
            "Train on 35863 samples, validate on 15370 samples\n",
            "Epoch 1/4\n",
            "35863/35863 [==============================] - 1035s 29ms/sample - loss: 0.2097 - acc: 0.9143 - val_loss: 0.1756 - val_acc: 0.9406\n",
            "Epoch 2/4\n",
            "35863/35863 [==============================] - 1034s 29ms/sample - loss: 0.1202 - acc: 0.9557 - val_loss: 0.1234 - val_acc: 0.9489\n",
            "Epoch 3/4\n",
            "35863/35863 [==============================] - 1034s 29ms/sample - loss: 0.1007 - acc: 0.9614 - val_loss: 0.1063 - val_acc: 0.9586\n",
            "Epoch 4/4\n",
            "35863/35863 [==============================] - 1033s 29ms/sample - loss: 0.0882 - acc: 0.9653 - val_loss: 0.1394 - val_acc: 0.9549\n"
          ],
          "name": "stdout"
        }
      ]
    },
    {
      "cell_type": "code",
      "metadata": {
        "colab": {
          "base_uri": "https://localhost:8080/",
          "height": 297
        },
        "id": "O0-01CB1o9VF",
        "outputId": "729ba88f-370f-4e7c-a1f1-10e18ba6298a"
      },
      "source": [
        "# Plot the loss and accuracy curves for training and validation \n",
        "fig, ax = plt.subplots(2,1)\n",
        "ax[0].plot(history.history['loss'], color='b', label=\"Training loss\")\n",
        "ax[0].plot(history.history['val_loss'], color='r', label=\"validation loss\",axes =ax[0])\n",
        "ax[0].set_title(\"loss\")\n",
        "legend = ax[0].legend(loc='best', shadow=True)\n",
        "\n",
        "ax[1].plot(history.history['acc'], color='b', label=\"Training accuracy\")\n",
        "ax[1].plot(history.history['val_acc'], color='r',label=\"Validation accuracy\")\n",
        "ax[1].set_title(\"accuracy\")\n",
        "legend = ax[1].legend(loc='best', shadow=True)\n",
        "fig.tight_layout()"
      ],
      "execution_count": null,
      "outputs": [
        {
          "output_type": "display_data",
          "data": {
            "image/png": "[encoded data removed]",
            "text/plain": [
              "<Figure size 432x288 with 2 Axes>"
            ]
          },
          "metadata": {
            "tags": [],
            "needs_background": "light"
          }
        }
      ]
    },
    {
      "cell_type": "markdown",
      "metadata": {
        "id": "c7M-b3A_Tlmb"
      },
      "source": [
        "### test"
      ]
    },
    {
      "cell_type": "code",
      "metadata": {
        "colab": {
          "base_uri": "https://localhost:8080/"
        },
        "id": "D43xBpBk1snN",
        "outputId": "91f58e5d-e9b5-41de-f782-518d9e3f080d"
      },
      "source": [
        "from tensorflow.keras.layers import Input, Lambda, Bidirectional, Dense, Dropout, LSTM, Flatten, Conv1D, SpatialDropout1D, MaxPooling1D,AveragePooling1D, concatenate, Reshape\n",
        "from tensorflow.keras.models import Model\n",
        "from sklearn.model_selection import train_test_split\n",
        "\n",
        "num_kernels = 128\n",
        "kernel_sizes= [3,4,5]\n",
        "pool_sizes = [30,29,28]\n",
        "\n",
        "#inputs = Input(shape=(MAX_SEQUENCE_LENGTH,), dtype='float32')\n",
        "#embed_input = embedding_layer(inputs)\n",
        "\n",
        "inputs  = Input(shape=(1,), dtype=\"string\", name=\"Input_layer\")\n",
        "embedding_layer = Lambda(ELMoEmbedding, output_shape=(1024, ), name=\"Elmo_Embedding\")(inputs)\n",
        "\n",
        "#x = Reshape((32,32))\n",
        "pool_outputs = []\n",
        "for i in range(len(kernel_sizes)):\n",
        "    conv = Conv1D(num_kernels, kernel_size=kernel_sizes[i], padding ='valid', activation='relu')(embedding_layer)\n",
        "    pool = MaxPooling1D(pool_size=pool_sizes[i], strides=1, padding ='valid')(conv)         \n",
        "    pool_outputs.append(pool)\n",
        "merge = concatenate(pool_outputs,axis = 1)\n",
        "\n",
        "conv = Conv1D(num_kernels, kernel_size=5, activation='relu')(merge)\n",
        "pool = MaxPooling1D(pool_size=5)(conv)\n",
        "conv = Conv1D(num_kernels, kernel_size=5, activation='relu')(pool)\n",
        "pool = MaxPooling1D(pool_size=30)(conv)\n",
        "\n",
        "#x = Flatten()(pool)\n",
        "x = Dense(128, activation='relu')(pool)\n",
        "x = Dropout(0.3)(x)\n",
        "x = Dense(1, activation='sigmoid')(x)\n",
        "model = Model(inputs=inputs,outputs=x)\n",
        "model.summary() "
      ],
      "execution_count": null,
      "outputs": [
        {
          "output_type": "stream",
          "text": [
            "INFO:tensorflow:Saver not created because there are no variables in the graph to restore\n"
          ],
          "name": "stdout"
        },
        {
          "output_type": "stream",
          "text": [
            "INFO:tensorflow:Saver not created because there are no variables in the graph to restore\n"
          ],
          "name": "stderr"
        },
        {
          "output_type": "stream",
          "text": [
            "Model: \"model_12\"\n",
            "__________________________________________________________________________________________________\n",
            "Layer (type)                    Output Shape         Param #     Connected to                     \n",
            "==================================================================================================\n",
            "Input_layer (InputLayer)        [(None, 1)]          0                                            \n",
            "__________________________________________________________________________________________________\n",
            "Elmo_Embedding (Lambda)         (None, None, 1024)   0           Input_layer[0][0]                \n",
            "__________________________________________________________________________________________________\n",
            "conv1d_65 (Conv1D)              (None, None, 128)    393344      Elmo_Embedding[0][0]             \n",
            "__________________________________________________________________________________________________\n",
            "conv1d_66 (Conv1D)              (None, None, 128)    524416      Elmo_Embedding[0][0]             \n",
            "__________________________________________________________________________________________________\n",
            "conv1d_67 (Conv1D)              (None, None, 128)    655488      Elmo_Embedding[0][0]             \n",
            "__________________________________________________________________________________________________\n",
            "max_pooling1d_65 (MaxPooling1D) (None, None, 128)    0           conv1d_65[0][0]                  \n",
            "__________________________________________________________________________________________________\n",
            "max_pooling1d_66 (MaxPooling1D) (None, None, 128)    0           conv1d_66[0][0]                  \n",
            "__________________________________________________________________________________________________\n",
            "max_pooling1d_67 (MaxPooling1D) (None, None, 128)    0           conv1d_67[0][0]                  \n",
            "__________________________________________________________________________________________________\n",
            "concatenate_13 (Concatenate)    (None, None, 128)    0           max_pooling1d_65[0][0]           \n",
            "                                                                 max_pooling1d_66[0][0]           \n",
            "                                                                 max_pooling1d_67[0][0]           \n",
            "__________________________________________________________________________________________________\n",
            "conv1d_68 (Conv1D)              (None, None, 128)    82048       concatenate_13[0][0]             \n",
            "__________________________________________________________________________________________________\n",
            "max_pooling1d_68 (MaxPooling1D) (None, None, 128)    0           conv1d_68[0][0]                  \n",
            "__________________________________________________________________________________________________\n",
            "conv1d_69 (Conv1D)              (None, None, 128)    82048       max_pooling1d_68[0][0]           \n",
            "__________________________________________________________________________________________________\n",
            "max_pooling1d_69 (MaxPooling1D) (None, None, 128)    0           conv1d_69[0][0]                  \n",
            "__________________________________________________________________________________________________\n",
            "dense_25 (Dense)                (None, None, 128)    16512       max_pooling1d_69[0][0]           \n",
            "__________________________________________________________________________________________________\n",
            "dropout_13 (Dropout)            (None, None, 128)    0           dense_25[0][0]                   \n",
            "__________________________________________________________________________________________________\n",
            "dense_26 (Dense)                (None, None, 1)      129         dropout_13[0][0]                 \n",
            "==================================================================================================\n",
            "Total params: 1,753,985\n",
            "Trainable params: 1,753,985\n",
            "Non-trainable params: 0\n",
            "__________________________________________________________________________________________________\n"
          ],
          "name": "stdout"
        }
      ]
    },
    {
      "cell_type": "code",
      "metadata": {
        "id": "STOxV-ir4JFj"
      },
      "source": [
        "model.compile(loss='binary_crossentropy',\n",
        "              optimizer='Adam',\n",
        "              metrics=['acc'])"
      ],
      "execution_count": null,
      "outputs": []
    },
    {
      "cell_type": "code",
      "metadata": {
        "colab": {
          "base_uri": "https://localhost:8080/"
        },
        "id": "AzXwqLwP4T4R",
        "outputId": "ca838e79-0311-469b-990b-32185054e1c5"
      },
      "source": [
        "\n",
        "#recent test\n",
        "epochs = 2\n",
        "batch_size = 128\n",
        "with tf.Session() as sess:\n",
        "  init = tf.global_variables_initializer()\n",
        "  sess.run(init)\n",
        "  X_train, X_test, y_train, y_test = train_test_split(data, dataset[['label']], test_size=0.3, random_state=4)\n",
        "\n",
        "  history = model.fit(X_train,y_train,epochs = epochs,validation_data=(X_test, y_test), batch_size=batch_size, verbose = 1)\n",
        "  loss,accuracy = model.evaluate(X_test,y_test)\n",
        "  print('Accuracy: %f' % (accuracy*100))\n",
        "\n",
        "\n",
        "\n"
      ],
      "execution_count": null,
      "outputs": [
        {
          "output_type": "stream",
          "text": [
            "Train on 35863 samples, validate on 15370 samples\n",
            "Epoch 1/2\n",
            "35863/35863 [==============================] - 528s 15ms/sample - loss: 0.7015 - acc: 0.5137 - val_loss: 0.6933 - val_acc: 0.4873\n",
            "Epoch 2/2\n",
            "35863/35863 [==============================] - 524s 15ms/sample - loss: 0.6926 - acc: 0.5195 - val_loss: 0.6924 - val_acc: 0.5191\n",
            "15370/15370 [==============================] - 200s 13ms/sample - loss: 0.6924 - acc: 0.5191\n",
            "Accuracy: 51.911640\n"
          ],
          "name": "stdout"
        }
      ]
    },
    {
      "cell_type": "code",
      "metadata": {
        "colab": {
          "base_uri": "https://localhost:8080/",
          "height": 297
        },
        "id": "ytII_wZxstM5",
        "outputId": "def566de-66a2-4b28-ae6a-59c22f5b533f"
      },
      "source": [
        "# Plot the loss and accuracy curves for training and validation \n",
        "fig, ax = plt.subplots(2,1)\n",
        "ax[0].plot(history.history['loss'], color='b', label=\"Training loss\")\n",
        "ax[0].plot(history.history['val_loss'], color='r', label=\"validation loss\",axes =ax[0])\n",
        "ax[0].set_title(\"loss\")\n",
        "legend = ax[0].legend(loc='best', shadow=True)\n",
        "\n",
        "ax[1].plot(history.history['acc'], color='b', label=\"Training accuracy\")\n",
        "ax[1].plot(history.history['val_acc'], color='r',label=\"Validation accuracy\")\n",
        "ax[1].set_title(\"accuracy\")\n",
        "legend = ax[1].legend(loc='best', shadow=True)\n",
        "fig.tight_layout()"
      ],
      "execution_count": null,
      "outputs": [
        {
          "output_type": "display_data",
          "data": {
            "image/png": "[encoded data removed]",
            "text/plain": [
              "<Figure size 432x288 with 2 Axes>"
            ]
          },
          "metadata": {
            "tags": [],
            "needs_background": "light"
          }
        }
      ]
    },
    {
      "cell_type": "code",
      "metadata": {
        "colab": {
          "base_uri": "https://localhost:8080/"
        },
        "id": "HJA_-gZjq4eY",
        "outputId": "8fc29ce8-9c65-4aa6-92d9-96ac828e34a8"
      },
      "source": [
        "\n",
        "#recent test\n",
        "epochs = 2\n",
        "batch_size = 128\n",
        "with tf.Session() as sess:\n",
        "  init = tf.global_variables_initializer()\n",
        "  sess.run(init)\n",
        "  X_train, X_test, y_train, y_test = train_test_split(data, dataset[['label']], test_size=0.3, random_state=4)\n",
        "\n",
        "  history = model.fit(X_train,y_train,epochs = epochs,validation_data=(X_test, y_test), batch_size=batch_size, verbose = 1)\n",
        "  loss,accuracy = model.evaluate(X_test,y_test)\n",
        "  print('Accuracy: %f' % (accuracy*100))\n",
        "\n",
        "\n",
        "\n"
      ],
      "execution_count": null,
      "outputs": [
        {
          "output_type": "stream",
          "text": [
            "Train on 35863 samples, validate on 15370 samples\n",
            "Epoch 1/2\n",
            "35863/35863 [==============================] - 531s 15ms/sample - loss: 0.7017 - acc: 0.5164 - val_loss: 0.6926 - val_acc: 0.5191\n",
            "Epoch 2/2\n",
            "35863/35863 [==============================] - 527s 15ms/sample - loss: 0.6925 - acc: 0.5206 - val_loss: 0.6924 - val_acc: 0.5190\n",
            "15370/15370 [==============================] - 201s 13ms/sample - loss: 0.6924 - acc: 0.5191\n",
            "Accuracy: 51.911640\n"
          ],
          "name": "stdout"
        }
      ]
    },
    {
      "cell_type": "code",
      "metadata": {
        "colab": {
          "base_uri": "https://localhost:8080/",
          "height": 297
        },
        "id": "uVvyRk3u3Xhb",
        "outputId": "c322d023-3fc0-4e0e-dddd-27167711cfcc"
      },
      "source": [
        "# Plot the loss and accuracy curves for training and validation \n",
        "fig, ax = plt.subplots(2,1)\n",
        "ax[0].plot(history.history['loss'], color='b', label=\"Training loss\")\n",
        "ax[0].plot(history.history['val_loss'], color='r', label=\"validation loss\",axes =ax[0])\n",
        "ax[0].set_title(\"loss\")\n",
        "legend = ax[0].legend(loc='best', shadow=True)\n",
        "\n",
        "ax[1].plot(history.history['acc'], color='b', label=\"Training accuracy\")\n",
        "ax[1].plot(history.history['val_acc'], color='r',label=\"Validation accuracy\")\n",
        "ax[1].set_title(\"accuracy\")\n",
        "legend = ax[1].legend(loc='best', shadow=True)\n",
        "fig.tight_layout()"
      ],
      "execution_count": null,
      "outputs": [
        {
          "output_type": "display_data",
          "data": {
            "image/png": "[encoded data removed]",
            "text/plain": [
              "<Figure size 432x288 with 2 Axes>"
            ]
          },
          "metadata": {
            "tags": [],
            "needs_background": "light"
          }
        }
      ]
    },
    {
      "cell_type": "markdown",
      "metadata": {
        "id": "ZmWjFu0DQ8Ud"
      },
      "source": [
        "## second dataset"
      ]
    },
    {
      "cell_type": "code",
      "metadata": {
        "id": "DCF3R0WEc9I6"
      },
      "source": [
        "dataset = pd.read_csv('/content/drive/My Drive/data/data_small_sec.csv', delimiter = ',')\n",
        "#dataset = dataset[:1000]\n",
        "data = pd.DataFrame([' '.join(t.split()[0:150]) for t in dataset['text']]) #for saving memory"
      ],
      "execution_count": null,
      "outputs": []
    },
    {
      "cell_type": "code",
      "metadata": {
        "colab": {
          "base_uri": "https://localhost:8080/"
        },
        "id": "QqIhLw4udQ1g",
        "outputId": "135da786-c48d-4ff7-9422-c2c82d432a8f"
      },
      "source": [
        "from tensorflow.keras.layers import Input, Lambda, Bidirectional, Dense, Dropout, LSTM\n",
        "from tensorflow.keras.models import Model\n",
        "\n",
        "X_train, X_test, y_train, y_test = train_test_split(data, dataset[['label']], test_size=0.3, random_state=4)\n",
        "def build_model():\n",
        "  input_layer  = Input(shape=(1,), dtype=\"string\", name=\"Input_layer\")\n",
        "  embedding_layer = Lambda(ELMoEmbedding, output_shape=(1024, ), name=\"Elmo_Embedding\")(input_layer)\n",
        "\n",
        "  x = Bidirectional(LSTM(1024, return_sequences= False, recurrent_dropout=0.2, dropout=0.2), name=\"BiLSTM\")(embedding_layer)\n",
        "  x = Dense(2048, activation=\"relu\")(x)\n",
        "  x = Dropout(0.1)(x)\n",
        "  x = Dense(100, activation=\"relu\")(x)\n",
        "  x = Dropout(0.1)(x)\n",
        "  x = Dense(1, activation=\"sigmoid\")(x)\n",
        "  model = Model(inputs=input_layer,outputs=x)\n",
        "  model.summary()\n",
        "  model.compile(loss='binary_crossentropy', optimizer='adam', metrics=['accuracy'])\n",
        "  return model\n",
        "elmo_LSTM_model = build_model()\n",
        "\n",
        "with tf.Session() as session:\n",
        "  session.run(tf.global_variables_initializer()) \n",
        "  session.run(tf.tables_initializer())\n",
        "  history = elmo_LSTM_model.fit(X_train, y_train,validation_data=(X_test, y_test), epochs=4, batch_size=128)\n"
      ],
      "execution_count": null,
      "outputs": [
        {
          "output_type": "stream",
          "text": [
            "INFO:tensorflow:Saver not created because there are no variables in the graph to restore\n"
          ],
          "name": "stdout"
        },
        {
          "output_type": "stream",
          "text": [
            "INFO:tensorflow:Saver not created because there are no variables in the graph to restore\n"
          ],
          "name": "stderr"
        },
        {
          "output_type": "stream",
          "text": [
            "Model: \"model_5\"\n",
            "_________________________________________________________________\n",
            "Layer (type)                 Output Shape              Param #   \n",
            "=================================================================\n",
            "Input_layer (InputLayer)     [(None, 1)]               0         \n",
            "_________________________________________________________________\n",
            "Elmo_Embedding (Lambda)      (None, None, 1024)        0         \n",
            "_________________________________________________________________\n",
            "BiLSTM (Bidirectional)       (None, 2048)              16785408  \n",
            "_________________________________________________________________\n",
            "dense_15 (Dense)             (None, 2048)              4196352   \n",
            "_________________________________________________________________\n",
            "dropout_10 (Dropout)         (None, 2048)              0         \n",
            "_________________________________________________________________\n",
            "dense_16 (Dense)             (None, 100)               204900    \n",
            "_________________________________________________________________\n",
            "dropout_11 (Dropout)         (None, 100)               0         \n",
            "_________________________________________________________________\n",
            "dense_17 (Dense)             (None, 1)                 101       \n",
            "=================================================================\n",
            "Total params: 21,186,761\n",
            "Trainable params: 21,186,761\n",
            "Non-trainable params: 0\n",
            "_________________________________________________________________\n",
            "Train on 19589 samples, validate on 8396 samples\n",
            "Epoch 1/4\n",
            "19589/19589 [==============================] - 1348s 69ms/sample - loss: 0.2971 - acc: 0.8790 - val_loss: 0.2186 - val_acc: 0.9223\n",
            "Epoch 2/4\n",
            "19589/19589 [==============================] - 1341s 68ms/sample - loss: 0.1513 - acc: 0.9426 - val_loss: 0.1548 - val_acc: 0.9465\n",
            "Epoch 3/4\n",
            "19589/19589 [==============================] - 1345s 69ms/sample - loss: 0.1043 - acc: 0.9610 - val_loss: 0.1262 - val_acc: 0.9584\n",
            "Epoch 4/4\n",
            "19589/19589 [==============================] - 1356s 69ms/sample - loss: 0.0677 - acc: 0.9752 - val_loss: 0.1296 - val_acc: 0.9632\n"
          ],
          "name": "stdout"
        }
      ]
    },
    {
      "cell_type": "code",
      "metadata": {
        "colab": {
          "base_uri": "https://localhost:8080/",
          "height": 297
        },
        "id": "9n-hAiQSdjC2",
        "outputId": "926ca710-107e-432c-cbc3-6af05b6088c8"
      },
      "source": [
        "# Plot the loss and accuracy curves for training and validation \n",
        "fig, ax = plt.subplots(2,1)\n",
        "ax[0].plot(history.history['loss'], color='b', label=\"Training loss\")\n",
        "ax[0].plot(history.history['val_loss'], color='r', label=\"validation loss\",axes =ax[0])\n",
        "ax[0].set_title(\"loss\")\n",
        "legend = ax[0].legend(loc='best', shadow=True)\n",
        "\n",
        "ax[1].plot(history.history['acc'], color='b', label=\"Training accuracy\")\n",
        "ax[1].plot(history.history['val_acc'], color='r',label=\"Validation accuracy\")\n",
        "ax[1].set_title(\"accuracy\")\n",
        "legend = ax[1].legend(loc='best', shadow=True)\n",
        "fig.tight_layout()"
      ],
      "execution_count": null,
      "outputs": [
        {
          "output_type": "display_data",
          "data": {
            "image/png": "[encoded data removed]",
            "text/plain": [
              "<Figure size 432x288 with 2 Axes>"
            ]
          },
          "metadata": {
            "tags": [],
            "needs_background": "light"
          }
        }
      ]
    },
    {
      "cell_type": "markdown",
      "metadata": {
        "id": "WBaIs_TRZNbz"
      },
      "source": [
        "### use 140 words"
      ]
    },
    {
      "cell_type": "code",
      "metadata": {
        "colab": {
          "base_uri": "https://localhost:8080/"
        },
        "id": "J-G2OvKMZNb-",
        "outputId": "28a5566a-3aa0-4041-8063-ef76cd1b48c7"
      },
      "source": [
        "from tensorflow.keras.layers import Input, Lambda, Bidirectional, Dense, Dropout, LSTM\n",
        "from tensorflow.keras.models import Model\n",
        "from sklearn.model_selection import train_test_split\n",
        "\n",
        "X_train, X_test, y_train, y_test = train_test_split(data, dataset[['label']], test_size=0.3, random_state=4)\n",
        "def build_model():\n",
        "  input_layer  = Input(shape=(1,), dtype=\"string\", name=\"Input_layer\")\n",
        "  embedding_layer = Lambda(ELMoEmbedding, output_shape=(1024, ), name=\"Elmo_Embedding\")(input_layer)\n",
        "\n",
        "  x = Bidirectional(LSTM(1024, return_sequences= False, recurrent_dropout=0.2, dropout=0.2), name=\"BiLSTM\")(embedding_layer)\n",
        "  x = Dense(2048, activation=\"relu\")(x)\n",
        "  x = Dropout(0.1)(x)\n",
        "  x = Dense(100, activation=\"relu\")(x)\n",
        "  x = Dropout(0.1)(x)\n",
        "  x = Dense(1, activation=\"sigmoid\")(x)\n",
        "  model = Model(inputs=input_layer,outputs=x)\n",
        "  model.summary()\n",
        "  model.compile(loss='binary_crossentropy', optimizer='adam', metrics=['accuracy'])\n",
        "  return model\n",
        "elmo_LSTM_model = build_model()\n",
        "\n",
        "with tf.Session() as session:\n",
        "  session.run(tf.global_variables_initializer()) \n",
        "  session.run(tf.tables_initializer())\n",
        "  history = elmo_LSTM_model.fit(X_train, y_train,validation_data=(X_test, y_test), epochs=4, batch_size=128)\n"
      ],
      "execution_count": null,
      "outputs": [
        {
          "output_type": "stream",
          "text": [
            "INFO:tensorflow:Saver not created because there are no variables in the graph to restore\n"
          ],
          "name": "stdout"
        },
        {
          "output_type": "stream",
          "text": [
            "INFO:tensorflow:Saver not created because there are no variables in the graph to restore\n"
          ],
          "name": "stderr"
        },
        {
          "output_type": "stream",
          "text": [
            "Model: \"model_2\"\n",
            "_________________________________________________________________\n",
            "Layer (type)                 Output Shape              Param #   \n",
            "=================================================================\n",
            "Input_layer (InputLayer)     [(None, 1)]               0         \n",
            "_________________________________________________________________\n",
            "Elmo_Embedding (Lambda)      (None, None, 1024)        0         \n",
            "_________________________________________________________________\n",
            "BiLSTM (Bidirectional)       (None, 2048)              16785408  \n",
            "_________________________________________________________________\n",
            "dense_6 (Dense)              (None, 2048)              4196352   \n",
            "_________________________________________________________________\n",
            "dropout_4 (Dropout)          (None, 2048)              0         \n",
            "_________________________________________________________________\n",
            "dense_7 (Dense)              (None, 100)               204900    \n",
            "_________________________________________________________________\n",
            "dropout_5 (Dropout)          (None, 100)               0         \n",
            "_________________________________________________________________\n",
            "dense_8 (Dense)              (None, 1)                 101       \n",
            "=================================================================\n",
            "Total params: 21,186,761\n",
            "Trainable params: 21,186,761\n",
            "Non-trainable params: 0\n",
            "_________________________________________________________________\n",
            "Train on 19589 samples, validate on 8396 samples\n",
            "Epoch 1/4\n",
            "19589/19589 [==============================] - 1243s 63ms/sample - loss: 0.2868 - acc: 0.8835 - val_loss: 0.1655 - val_acc: 0.9371\n",
            "Epoch 2/4\n",
            "19589/19589 [==============================] - 1235s 63ms/sample - loss: 0.1431 - acc: 0.9480 - val_loss: 0.1361 - val_acc: 0.9521\n",
            "Epoch 3/4\n",
            "19589/19589 [==============================] - 1232s 63ms/sample - loss: 0.0925 - acc: 0.9649 - val_loss: 0.1451 - val_acc: 0.9543\n",
            "Epoch 4/4\n",
            "19589/19589 [==============================] - 1232s 63ms/sample - loss: 0.0586 - acc: 0.9769 - val_loss: 0.1410 - val_acc: 0.9611\n"
          ],
          "name": "stdout"
        }
      ]
    },
    {
      "cell_type": "code",
      "metadata": {
        "id": "9AAlzUMSwgu9"
      },
      "source": [
        "import matplotlib.pyplot as plt"
      ],
      "execution_count": null,
      "outputs": []
    },
    {
      "cell_type": "code",
      "metadata": {
        "colab": {
          "base_uri": "https://localhost:8080/",
          "height": 297
        },
        "id": "yzqhLJVFZNb-",
        "outputId": "8381c94c-64e0-45b4-d367-27920a3c4109"
      },
      "source": [
        "# Plot the loss and accuracy curves for training and validation \n",
        "fig, ax = plt.subplots(2,1)\n",
        "ax[0].plot(history.history['loss'], color='b', label=\"Training loss\")\n",
        "ax[0].plot(history.history['val_loss'], color='r', label=\"validation loss\",axes =ax[0])\n",
        "ax[0].set_title(\"loss\")\n",
        "legend = ax[0].legend(loc='best', shadow=True)\n",
        "\n",
        "ax[1].plot(history.history['acc'], color='b', label=\"Training accuracy\")\n",
        "ax[1].plot(history.history['val_acc'], color='r',label=\"Validation accuracy\")\n",
        "ax[1].set_title(\"accuracy\")\n",
        "legend = ax[1].legend(loc='best', shadow=True)\n",
        "fig.tight_layout()"
      ],
      "execution_count": null,
      "outputs": [
        {
          "output_type": "display_data",
          "data": {
            "image/png": "[encoded data removed]",
            "text/plain": [
              "<Figure size 432x288 with 2 Axes>"
            ]
          },
          "metadata": {
            "tags": [],
            "needs_background": "light"
          }
        }
      ]
    },
    {
      "cell_type": "markdown",
      "metadata": {
        "id": "2FkDFUzqdxEs"
      },
      "source": [
        "### use 130 words"
      ]
    },
    {
      "cell_type": "code",
      "metadata": {
        "colab": {
          "base_uri": "https://localhost:8080/"
        },
        "id": "mF1d8zAWdxEt",
        "outputId": "f09d8c8f-11f1-479c-fca6-f43aa6abfd3d"
      },
      "source": [
        "from tensorflow.keras.layers import Input, Lambda, Bidirectional, Dense, Dropout, LSTM\n",
        "from tensorflow.keras.models import Model\n",
        "from sklearn.model_selection import train_test_split\n",
        "\n",
        "X_train, X_test, y_train, y_test = train_test_split(data, dataset[['label']], test_size=0.3, random_state=4)\n",
        "def build_model():\n",
        "  input_layer  = Input(shape=(1,), dtype=\"string\", name=\"Input_layer\")\n",
        "  embedding_layer = Lambda(ELMoEmbedding, output_shape=(1024, ), name=\"Elmo_Embedding\")(input_layer)\n",
        "\n",
        "  x = Bidirectional(LSTM(1024, return_sequences= False, recurrent_dropout=0.2, dropout=0.2), name=\"BiLSTM\")(embedding_layer)\n",
        "  x = Dense(2048, activation=\"relu\")(x)\n",
        "  x = Dropout(0.1)(x)\n",
        "  x = Dense(100, activation=\"relu\")(x)\n",
        "  x = Dropout(0.1)(x)\n",
        "  x = Dense(1, activation=\"sigmoid\")(x)\n",
        "  model = Model(inputs=input_layer,outputs=x)\n",
        "  model.summary()\n",
        "  model.compile(loss='binary_crossentropy', optimizer='adam', metrics=['accuracy'])\n",
        "  return model\n",
        "elmo_LSTM_model = build_model()\n",
        "\n",
        "with tf.Session() as session:\n",
        "  session.run(tf.global_variables_initializer()) \n",
        "  session.run(tf.tables_initializer())\n",
        "  history = elmo_LSTM_model.fit(X_train, y_train,validation_data=(X_test, y_test), epochs=4, batch_size=128)\n"
      ],
      "execution_count": null,
      "outputs": [
        {
          "output_type": "stream",
          "text": [
            "INFO:tensorflow:Saver not created because there are no variables in the graph to restore\n"
          ],
          "name": "stdout"
        },
        {
          "output_type": "stream",
          "text": [
            "INFO:tensorflow:Saver not created because there are no variables in the graph to restore\n"
          ],
          "name": "stderr"
        },
        {
          "output_type": "stream",
          "text": [
            "Model: \"model_3\"\n",
            "_________________________________________________________________\n",
            "Layer (type)                 Output Shape              Param #   \n",
            "=================================================================\n",
            "Input_layer (InputLayer)     [(None, 1)]               0         \n",
            "_________________________________________________________________\n",
            "Elmo_Embedding (Lambda)      (None, None, 1024)        0         \n",
            "_________________________________________________________________\n",
            "BiLSTM (Bidirectional)       (None, 2048)              16785408  \n",
            "_________________________________________________________________\n",
            "dense_9 (Dense)              (None, 2048)              4196352   \n",
            "_________________________________________________________________\n",
            "dropout_6 (Dropout)          (None, 2048)              0         \n",
            "_________________________________________________________________\n",
            "dense_10 (Dense)             (None, 100)               204900    \n",
            "_________________________________________________________________\n",
            "dropout_7 (Dropout)          (None, 100)               0         \n",
            "_________________________________________________________________\n",
            "dense_11 (Dense)             (None, 1)                 101       \n",
            "=================================================================\n",
            "Total params: 21,186,761\n",
            "Trainable params: 21,186,761\n",
            "Non-trainable params: 0\n",
            "_________________________________________________________________\n",
            "Train on 19589 samples, validate on 8396 samples\n",
            "Epoch 1/4\n",
            "19589/19589 [==============================] - 1150s 59ms/sample - loss: 0.2988 - acc: 0.8768 - val_loss: 0.2034 - val_acc: 0.9278\n",
            "Epoch 2/4\n",
            "19589/19589 [==============================] - 1141s 58ms/sample - loss: 0.1588 - acc: 0.9417 - val_loss: 0.1597 - val_acc: 0.9485\n",
            "Epoch 3/4\n",
            "19589/19589 [==============================] - 1143s 58ms/sample - loss: 0.1028 - acc: 0.9606 - val_loss: 0.2351 - val_acc: 0.9141\n",
            "Epoch 4/4\n",
            "19589/19589 [==============================] - 1144s 58ms/sample - loss: 0.0781 - acc: 0.9712 - val_loss: 0.1297 - val_acc: 0.9609\n"
          ],
          "name": "stdout"
        }
      ]
    },
    {
      "cell_type": "code",
      "metadata": {
        "colab": {
          "base_uri": "https://localhost:8080/",
          "height": 297
        },
        "id": "MdyPmQQIdxEu",
        "outputId": "9ec803d9-4b70-4fd2-e6ca-7fee60d9e72d"
      },
      "source": [
        "# Plot the loss and accuracy curves for training and validation \n",
        "fig, ax = plt.subplots(2,1)\n",
        "ax[0].plot(history.history['loss'], color='b', label=\"Training loss\")\n",
        "ax[0].plot(history.history['val_loss'], color='r', label=\"validation loss\",axes =ax[0])\n",
        "ax[0].set_title(\"loss\")\n",
        "legend = ax[0].legend(loc='best', shadow=True)\n",
        "\n",
        "ax[1].plot(history.history['acc'], color='b', label=\"Training accuracy\")\n",
        "ax[1].plot(history.history['val_acc'], color='r',label=\"Validation accuracy\")\n",
        "ax[1].set_title(\"accuracy\")\n",
        "legend = ax[1].legend(loc='best', shadow=True)\n",
        "fig.tight_layout()"
      ],
      "execution_count": null,
      "outputs": [
        {
          "output_type": "display_data",
          "data": {
            "image/png": "[encoded data removed]",
            "text/plain": [
              "<Figure size 432x288 with 2 Axes>"
            ]
          },
          "metadata": {
            "tags": [],
            "needs_background": "light"
          }
        }
      ]
    },
    {
      "cell_type": "markdown",
      "metadata": {
        "id": "W0AysmQNAv8R"
      },
      "source": [
        "### use 120 words"
      ]
    },
    {
      "cell_type": "code",
      "metadata": {
        "colab": {
          "base_uri": "https://localhost:8080/"
        },
        "id": "XXo-ZfqaAv8U",
        "outputId": "12bb8769-f780-4627-cb6d-522af9426c74"
      },
      "source": [
        "from tensorflow.keras.layers import Input, Lambda, Bidirectional, Dense, Dropout, LSTM\n",
        "from tensorflow.keras.models import Model\n",
        "from sklearn.model_selection import train_test_split\n",
        "\n",
        "X_train, X_test, y_train, y_test = train_test_split(data, dataset[['label']], test_size=0.3, random_state=4)\n",
        "def build_model():\n",
        "  input_layer  = Input(shape=(1,), dtype=\"string\", name=\"Input_layer\")\n",
        "  embedding_layer = Lambda(ELMoEmbedding, output_shape=(1024, ), name=\"Elmo_Embedding\")(input_layer)\n",
        "\n",
        "  x = Bidirectional(LSTM(1024, return_sequences= False, recurrent_dropout=0.2, dropout=0.2), name=\"BiLSTM\")(embedding_layer)\n",
        "  x = Dense(2048, activation=\"relu\")(x)\n",
        "  x = Dropout(0.1)(x)\n",
        "  x = Dense(100, activation=\"relu\")(x)\n",
        "  x = Dropout(0.1)(x)\n",
        "  x = Dense(1, activation=\"sigmoid\")(x)\n",
        "  model = Model(inputs=input_layer,outputs=x)\n",
        "  model.summary()\n",
        "  model.compile(loss='binary_crossentropy', optimizer='adam', metrics=['accuracy'])\n",
        "  return model\n",
        "elmo_LSTM_model = build_model()\n",
        "\n",
        "with tf.Session() as session:\n",
        "  session.run(tf.global_variables_initializer()) \n",
        "  session.run(tf.tables_initializer())\n",
        "  history = elmo_LSTM_model.fit(X_train, y_train,validation_data=(X_test, y_test), epochs=4, batch_size=128)\n"
      ],
      "execution_count": null,
      "outputs": [
        {
          "output_type": "stream",
          "text": [
            "INFO:tensorflow:Saver not created because there are no variables in the graph to restore\n"
          ],
          "name": "stdout"
        },
        {
          "output_type": "stream",
          "text": [
            "INFO:tensorflow:Saver not created because there are no variables in the graph to restore\n"
          ],
          "name": "stderr"
        },
        {
          "output_type": "stream",
          "text": [
            "Model: \"model_4\"\n",
            "_________________________________________________________________\n",
            "Layer (type)                 Output Shape              Param #   \n",
            "=================================================================\n",
            "Input_layer (InputLayer)     [(None, 1)]               0         \n",
            "_________________________________________________________________\n",
            "Elmo_Embedding (Lambda)      (None, None, 1024)        0         \n",
            "_________________________________________________________________\n",
            "BiLSTM (Bidirectional)       (None, 2048)              16785408  \n",
            "_________________________________________________________________\n",
            "dense_12 (Dense)             (None, 2048)              4196352   \n",
            "_________________________________________________________________\n",
            "dropout_8 (Dropout)          (None, 2048)              0         \n",
            "_________________________________________________________________\n",
            "dense_13 (Dense)             (None, 100)               204900    \n",
            "_________________________________________________________________\n",
            "dropout_9 (Dropout)          (None, 100)               0         \n",
            "_________________________________________________________________\n",
            "dense_14 (Dense)             (None, 1)                 101       \n",
            "=================================================================\n",
            "Total params: 21,186,761\n",
            "Trainable params: 21,186,761\n",
            "Non-trainable params: 0\n",
            "_________________________________________________________________\n",
            "Train on 19589 samples, validate on 8396 samples\n",
            "Epoch 1/4\n",
            "19589/19589 [==============================] - 1054s 54ms/sample - loss: 0.2957 - acc: 0.8733 - val_loss: 0.2138 - val_acc: 0.9281\n",
            "Epoch 2/4\n",
            "19589/19589 [==============================] - 1045s 53ms/sample - loss: 0.1538 - acc: 0.9415 - val_loss: 0.1538 - val_acc: 0.9401\n",
            "Epoch 3/4\n",
            "19589/19589 [==============================] - 1046s 53ms/sample - loss: 0.1017 - acc: 0.9632 - val_loss: 0.1231 - val_acc: 0.9582\n",
            "Epoch 4/4\n",
            "19589/19589 [==============================] - 1044s 53ms/sample - loss: 0.0637 - acc: 0.9768 - val_loss: 0.1522 - val_acc: 0.9538\n"
          ],
          "name": "stdout"
        }
      ]
    },
    {
      "cell_type": "code",
      "metadata": {
        "colab": {
          "base_uri": "https://localhost:8080/",
          "height": 297
        },
        "id": "dqvlcoHRAv8W",
        "outputId": "045f060f-1538-4be2-bb6c-6d941000b7ac"
      },
      "source": [
        "# Plot the loss and accuracy curves for training and validation \n",
        "fig, ax = plt.subplots(2,1)\n",
        "ax[0].plot(history.history['loss'], color='b', label=\"Training loss\")\n",
        "ax[0].plot(history.history['val_loss'], color='r', label=\"validation loss\",axes =ax[0])\n",
        "ax[0].set_title(\"loss\")\n",
        "legend = ax[0].legend(loc='best', shadow=True)\n",
        "\n",
        "ax[1].plot(history.history['acc'], color='b', label=\"Training accuracy\")\n",
        "ax[1].plot(history.history['val_acc'], color='r',label=\"Validation accuracy\")\n",
        "ax[1].set_title(\"accuracy\")\n",
        "legend = ax[1].legend(loc='best', shadow=True)\n",
        "fig.tight_layout()"
      ],
      "execution_count": null,
      "outputs": [
        {
          "output_type": "display_data",
          "data": {
            "image/png": "[encoded data removed]",
            "text/plain": [
              "<Figure size 432x288 with 2 Axes>"
            ]
          },
          "metadata": {
            "tags": [],
            "needs_background": "light"
          }
        }
      ]
    }
  ]
}