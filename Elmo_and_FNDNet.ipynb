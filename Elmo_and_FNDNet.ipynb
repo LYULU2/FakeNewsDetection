{
  "nbformat": 4,
  "nbformat_minor": 0,
  "metadata": {
    "colab": {
      "name": "Elmo and FNDNet.ipynb",
      "provenance": [],
      "toc_visible": true
    },
    "kernelspec": {
      "name": "python3",
      "display_name": "Python 3"
    },
    "accelerator": "GPU"
  },
  "cells": [
    {
      "cell_type": "markdown",
      "metadata": {
        "id": "VRMCX19N5YHL"
      },
      "source": [
        "### load ELmo model"
      ]
    },
    {
      "cell_type": "code",
      "metadata": {
        "colab": {
          "base_uri": "https://localhost:8080/"
        },
        "id": "BYWuf1XDMmLQ",
        "outputId": "509009b1-0af4-4a54-9b87-2d885c18a238"
      },
      "source": [
        "!pip install \"tensorflow==1.15.0\"\n",
        "!pip install tensorflow-hub"
      ],
      "execution_count": null,
      "outputs": [
        {
          "output_type": "stream",
          "text": [
            "Requirement already satisfied: tensorflow==1.15.0 in /usr/local/lib/python3.7/dist-packages (1.15.0)\n",
            "Requirement already satisfied: keras-preprocessing>=1.0.5 in /usr/local/lib/python3.7/dist-packages (from tensorflow==1.15.0) (1.1.2)\n",
            "Requirement already satisfied: gast==0.2.2 in /usr/local/lib/python3.7/dist-packages (from tensorflow==1.15.0) (0.2.2)\n",
            "Requirement already satisfied: astor>=0.6.0 in /usr/local/lib/python3.7/dist-packages (from tensorflow==1.15.0) (0.8.1)\n",
            "Requirement already satisfied: termcolor>=1.1.0 in /usr/local/lib/python3.7/dist-packages (from tensorflow==1.15.0) (1.1.0)\n",
            "Requirement already satisfied: absl-py>=0.7.0 in /usr/local/lib/python3.7/dist-packages (from tensorflow==1.15.0) (0.12.0)\n",
            "Requirement already satisfied: numpy<2.0,>=1.16.0 in /usr/local/lib/python3.7/dist-packages (from tensorflow==1.15.0) (1.19.5)\n",
            "Requirement already satisfied: tensorflow-estimator==1.15.1 in /usr/local/lib/python3.7/dist-packages (from tensorflow==1.15.0) (1.15.1)\n",
            "Requirement already satisfied: wheel>=0.26 in /usr/local/lib/python3.7/dist-packages (from tensorflow==1.15.0) (0.36.2)\n",
            "Requirement already satisfied: tensorboard<1.16.0,>=1.15.0 in /usr/local/lib/python3.7/dist-packages (from tensorflow==1.15.0) (1.15.0)\n",
            "Requirement already satisfied: google-pasta>=0.1.6 in /usr/local/lib/python3.7/dist-packages (from tensorflow==1.15.0) (0.2.0)\n",
            "Requirement already satisfied: wrapt>=1.11.1 in /usr/local/lib/python3.7/dist-packages (from tensorflow==1.15.0) (1.12.1)\n",
            "Requirement already satisfied: protobuf>=3.6.1 in /usr/local/lib/python3.7/dist-packages (from tensorflow==1.15.0) (3.12.4)\n",
            "Requirement already satisfied: keras-applications>=1.0.8 in /usr/local/lib/python3.7/dist-packages (from tensorflow==1.15.0) (1.0.8)\n",
            "Requirement already satisfied: opt-einsum>=2.3.2 in /usr/local/lib/python3.7/dist-packages (from tensorflow==1.15.0) (3.3.0)\n",
            "Requirement already satisfied: six>=1.10.0 in /usr/local/lib/python3.7/dist-packages (from tensorflow==1.15.0) (1.15.0)\n",
            "Requirement already satisfied: grpcio>=1.8.6 in /usr/local/lib/python3.7/dist-packages (from tensorflow==1.15.0) (1.32.0)\n",
            "Requirement already satisfied: setuptools>=41.0.0 in /usr/local/lib/python3.7/dist-packages (from tensorboard<1.16.0,>=1.15.0->tensorflow==1.15.0) (54.2.0)\n",
            "Requirement already satisfied: markdown>=2.6.8 in /usr/local/lib/python3.7/dist-packages (from tensorboard<1.16.0,>=1.15.0->tensorflow==1.15.0) (3.3.4)\n",
            "Requirement already satisfied: werkzeug>=0.11.15 in /usr/local/lib/python3.7/dist-packages (from tensorboard<1.16.0,>=1.15.0->tensorflow==1.15.0) (1.0.1)\n",
            "Requirement already satisfied: h5py in /usr/local/lib/python3.7/dist-packages (from keras-applications>=1.0.8->tensorflow==1.15.0) (2.10.0)\n",
            "Requirement already satisfied: importlib-metadata; python_version < \"3.8\" in /usr/local/lib/python3.7/dist-packages (from markdown>=2.6.8->tensorboard<1.16.0,>=1.15.0->tensorflow==1.15.0) (3.8.1)\n",
            "Requirement already satisfied: typing-extensions>=3.6.4; python_version < \"3.8\" in /usr/local/lib/python3.7/dist-packages (from importlib-metadata; python_version < \"3.8\"->markdown>=2.6.8->tensorboard<1.16.0,>=1.15.0->tensorflow==1.15.0) (3.7.4.3)\n",
            "Requirement already satisfied: zipp>=0.5 in /usr/local/lib/python3.7/dist-packages (from importlib-metadata; python_version < \"3.8\"->markdown>=2.6.8->tensorboard<1.16.0,>=1.15.0->tensorflow==1.15.0) (3.4.1)\n",
            "Requirement already satisfied: tensorflow-hub in /usr/local/lib/python3.7/dist-packages (0.11.0)\n",
            "Requirement already satisfied: numpy>=1.12.0 in /usr/local/lib/python3.7/dist-packages (from tensorflow-hub) (1.19.5)\n",
            "Requirement already satisfied: protobuf>=3.8.0 in /usr/local/lib/python3.7/dist-packages (from tensorflow-hub) (3.12.4)\n",
            "Requirement already satisfied: setuptools in /usr/local/lib/python3.7/dist-packages (from protobuf>=3.8.0->tensorflow-hub) (54.2.0)\n",
            "Requirement already satisfied: six>=1.9 in /usr/local/lib/python3.7/dist-packages (from protobuf>=3.8.0->tensorflow-hub) (1.15.0)\n"
          ],
          "name": "stdout"
        }
      ]
    },
    {
      "cell_type": "code",
      "metadata": {
        "id": "JoealKSDFYaP"
      },
      "source": [
        "import tensorflow_hub as hub\n",
        "import tensorflow as tf\n",
        "import pandas as pd\n",
        "import numpy as np\n",
        "\n",
        "elmo = hub.Module(\"https://tfhub.dev/google/elmo/2\", trainable=True)\n",
        "\n",
        "def ELMoEmbedding(input_text):\n",
        "    return elmo(tf.reshape(tf.cast(input_text, tf.string), [-1]), signature=\"default\", as_dict=True)[\"elmo\"]"
      ],
      "execution_count": null,
      "outputs": []
    },
    {
      "cell_type": "code",
      "metadata": {
        "id": "pQZ4l1HG-WAJ",
        "colab": {
          "base_uri": "https://localhost:8080/"
        },
        "outputId": "c9ad6691-476a-4702-9357-95171e86e4f8"
      },
      "source": [
        "from google.colab import drive\n",
        "drive.mount(\"/content/drive\")"
      ],
      "execution_count": null,
      "outputs": [
        {
          "output_type": "stream",
          "text": [
            "Drive already mounted at /content/drive; to attempt to forcibly remount, call drive.mount(\"/content/drive\", force_remount=True).\n"
          ],
          "name": "stdout"
        }
      ]
    },
    {
      "cell_type": "code",
      "metadata": {
        "id": "m_1wUUHtFZGJ"
      },
      "source": [
        "#dataset = pd.read_csv('/content/drive/My Drive/data/dataset.csv', delimiter = ',')\n",
        "dataset = pd.read_csv('/content/drive/My Drive/data/data_small_sec.csv', delimiter = ',')\n",
        "\n",
        "#dataset = dataset[:1000]\n",
        "data = pd.DataFrame([' '.join(t.split()[0:150]) for t in dataset['text']]) #for saving memory"
      ],
      "execution_count": null,
      "outputs": []
    },
    {
      "cell_type": "code",
      "metadata": {
        "id": "lNPjJH9ZyyJL"
      },
      "source": [
        "from tensorflow.keras.layers import Input, Lambda, Bidirectional, Dense, Dropout, LSTM, Conv1D, MaxPooling1D, concatenate, Flatten,GlobalMaxPooling1D\n",
        "from tensorflow.keras.models import Model\n",
        "from sklearn.model_selection import train_test_split"
      ],
      "execution_count": null,
      "outputs": []
    },
    {
      "cell_type": "markdown",
      "metadata": {
        "id": "IdMR1Bb98-4P"
      },
      "source": [
        "### network"
      ]
    },
    {
      "cell_type": "markdown",
      "metadata": {
        "id": "qblSalhtFUdT"
      },
      "source": [
        "### first dataset"
      ]
    },
    {
      "cell_type": "code",
      "metadata": {
        "id": "sVVslEEc9Ai8",
        "colab": {
          "base_uri": "https://localhost:8080/"
        },
        "outputId": "e18d5e8a-c2cb-41fc-bd61-913a53ff4205"
      },
      "source": [
        "#100 words\n",
        "X_train, X_test, y_train, y_test = train_test_split(data, dataset[['label']], test_size=0.3, random_state=4)\n",
        "\n",
        "num_kernels = 64\n",
        "kernel_sizes= [3,4,5]\n",
        "pool_sizes = [30,29,28]\n",
        "\n",
        "input_layer  = Input(shape=(1,), dtype=\"string\", name=\"Input_layer\")\n",
        "embedding_layer = Lambda(ELMoEmbedding, output_shape=(1024, ), name=\"Elmo_Embedding\")(input_layer)\n",
        "\n",
        "pool_outputs = []\n",
        "\n",
        "for i in range(len(kernel_sizes)):\n",
        "    conv = Conv1D(num_kernels, kernel_size=kernel_sizes[i], padding='valid', activation='relu')(embedding_layer)\n",
        "    pool = MaxPooling1D(pool_size=pool_sizes[i], strides=1, padding = 'valid')(conv)         \n",
        "    pool_outputs.append(pool)\n",
        "merge = concatenate(pool_outputs,axis = 1)\n",
        "\n",
        "conv = Conv1D(num_kernels, kernel_size=5, activation='relu')(merge)\n",
        "pool = GlobalMaxPooling1D()(conv)\n",
        "#conv = Conv1D(num_kernels, kernel_size=5, activation='relu')(pool)\n",
        "#pool = GlobalMaxPooling1D(pool_size=30)(conv)\n",
        "\n",
        "#x = Flatten()(pool)\n",
        "#x = Dropout(0.2)(x)\n",
        "x = Dense(32, activation='relu')(pool)\n",
        "x = Dropout(0.2)(x)\n",
        "x = Dense(1, activation='sigmoid')(x)\n",
        "model = Model(inputs=input_layer,outputs=x)\n",
        "model.summary()\n",
        "model.compile(loss='binary_crossentropy',\n",
        "              optimizer='adam', \n",
        "              metrics=['acc'])\n",
        "with tf.Session() as session:\n",
        "  session.run(tf.global_variables_initializer()) \n",
        "  session.run(tf.tables_initializer())\n",
        "  history = model.fit(X_train, y_train, validation_data = (X_test,y_test), epochs=2, verbose=1)"
      ],
      "execution_count": null,
      "outputs": [
        {
          "output_type": "stream",
          "text": [
            "INFO:tensorflow:Saver not created because there are no variables in the graph to restore\n"
          ],
          "name": "stdout"
        },
        {
          "output_type": "stream",
          "text": [
            "INFO:tensorflow:Saver not created because there are no variables in the graph to restore\n"
          ],
          "name": "stderr"
        },
        {
          "output_type": "stream",
          "text": [
            "Model: \"model_11\"\n",
            "__________________________________________________________________________________________________\n",
            "Layer (type)                    Output Shape         Param #     Connected to                     \n",
            "==================================================================================================\n",
            "Input_layer (InputLayer)        [(None, 1)]          0                                            \n",
            "__________________________________________________________________________________________________\n",
            "Elmo_Embedding (Lambda)         (None, None, 1024)   0           Input_layer[0][0]                \n",
            "__________________________________________________________________________________________________\n",
            "conv1d_49 (Conv1D)              (None, None, 64)     196672      Elmo_Embedding[0][0]             \n",
            "__________________________________________________________________________________________________\n",
            "conv1d_50 (Conv1D)              (None, None, 64)     262208      Elmo_Embedding[0][0]             \n",
            "__________________________________________________________________________________________________\n",
            "conv1d_51 (Conv1D)              (None, None, 64)     327744      Elmo_Embedding[0][0]             \n",
            "__________________________________________________________________________________________________\n",
            "max_pooling1d_44 (MaxPooling1D) (None, None, 64)     0           conv1d_49[0][0]                  \n",
            "__________________________________________________________________________________________________\n",
            "max_pooling1d_45 (MaxPooling1D) (None, None, 64)     0           conv1d_50[0][0]                  \n",
            "__________________________________________________________________________________________________\n",
            "max_pooling1d_46 (MaxPooling1D) (None, None, 64)     0           conv1d_51[0][0]                  \n",
            "__________________________________________________________________________________________________\n",
            "concatenate_10 (Concatenate)    (None, None, 64)     0           max_pooling1d_44[0][0]           \n",
            "                                                                 max_pooling1d_45[0][0]           \n",
            "                                                                 max_pooling1d_46[0][0]           \n",
            "__________________________________________________________________________________________________\n",
            "conv1d_52 (Conv1D)              (None, None, 64)     20544       concatenate_10[0][0]             \n",
            "__________________________________________________________________________________________________\n",
            "global_max_pooling1d_3 (GlobalM (None, 64)           0           conv1d_52[0][0]                  \n",
            "__________________________________________________________________________________________________\n",
            "dense_23 (Dense)                (None, 32)           2080        global_max_pooling1d_3[0][0]     \n",
            "__________________________________________________________________________________________________\n",
            "dropout_9 (Dropout)             (None, 32)           0           dense_23[0][0]                   \n",
            "__________________________________________________________________________________________________\n",
            "dense_24 (Dense)                (None, 1)            33          dropout_9[0][0]                  \n",
            "==================================================================================================\n",
            "Total params: 809,281\n",
            "Trainable params: 809,281\n",
            "Non-trainable params: 0\n",
            "__________________________________________________________________________________________________\n",
            "Train on 35863 samples, validate on 15370 samples\n",
            "Epoch 1/2\n",
            "35863/35863 [==============================] - 651s 18ms/sample - loss: 0.0571 - acc: 0.9799 - val_loss: 0.0328 - val_acc: 0.9878\n",
            "Epoch 2/2\n",
            "35863/35863 [==============================] - 647s 18ms/sample - loss: 0.0211 - acc: 0.9923 - val_loss: 0.0276 - val_acc: 0.9899\n"
          ],
          "name": "stdout"
        }
      ]
    },
    {
      "cell_type": "code",
      "metadata": {
        "colab": {
          "base_uri": "https://localhost:8080/"
        },
        "id": "qhxGJm_dytVZ",
        "outputId": "f93bfd5d-7dfa-4880-a0f6-8f94f48a455c"
      },
      "source": [
        "# 110 words\n",
        "X_train, X_test, y_train, y_test = train_test_split(data, dataset[['label']], test_size=0.3, random_state=4)\n",
        "\n",
        "num_kernels = 64\n",
        "kernel_sizes= [3,4,5]\n",
        "pool_sizes = [30,29,28]\n",
        "\n",
        "input_layer  = Input(shape=(1,), dtype=\"string\", name=\"Input_layer\")\n",
        "embedding_layer = Lambda(ELMoEmbedding, output_shape=(1024, ), name=\"Elmo_Embedding\")(input_layer)\n",
        "\n",
        "pool_outputs = []\n",
        "\n",
        "for i in range(len(kernel_sizes)):\n",
        "    conv = Conv1D(num_kernels, kernel_size=kernel_sizes[i], padding='valid', activation='relu')(embedding_layer)\n",
        "    pool = MaxPooling1D(pool_size=pool_sizes[i], strides=1, padding = 'valid')(conv)         \n",
        "    pool_outputs.append(pool)\n",
        "merge = concatenate(pool_outputs,axis = 1)\n",
        "\n",
        "conv = Conv1D(num_kernels, kernel_size=5, activation='relu')(merge)\n",
        "pool = GlobalMaxPooling1D()(conv)\n",
        "#conv = Conv1D(num_kernels, kernel_size=5, activation='relu')(pool)\n",
        "#pool = GlobalMaxPooling1D(pool_size=30)(conv)\n",
        "\n",
        "#x = Flatten()(pool)\n",
        "#x = Dropout(0.2)(x)\n",
        "x = Dense(32, activation='relu')(pool)\n",
        "x = Dropout(0.2)(x)\n",
        "x = Dense(1, activation='sigmoid')(x)\n",
        "model = Model(inputs=input_layer,outputs=x)\n",
        "model.summary()\n",
        "model.compile(loss='binary_crossentropy',\n",
        "              optimizer='adam', \n",
        "              metrics=['acc'])\n",
        "with tf.Session() as session:\n",
        "  session.run(tf.global_variables_initializer()) \n",
        "  session.run(tf.tables_initializer())\n",
        "  history = model.fit(X_train, y_train, validation_data = (X_test,y_test), epochs=2, verbose=1)"
      ],
      "execution_count": null,
      "outputs": [
        {
          "output_type": "stream",
          "text": [
            "INFO:tensorflow:Saver not created because there are no variables in the graph to restore\n"
          ],
          "name": "stdout"
        },
        {
          "output_type": "stream",
          "text": [
            "INFO:tensorflow:Saver not created because there are no variables in the graph to restore\n"
          ],
          "name": "stderr"
        },
        {
          "output_type": "stream",
          "text": [
            "Model: \"model_12\"\n",
            "__________________________________________________________________________________________________\n",
            "Layer (type)                    Output Shape         Param #     Connected to                     \n",
            "==================================================================================================\n",
            "Input_layer (InputLayer)        [(None, 1)]          0                                            \n",
            "__________________________________________________________________________________________________\n",
            "Elmo_Embedding (Lambda)         (None, None, 1024)   0           Input_layer[0][0]                \n",
            "__________________________________________________________________________________________________\n",
            "conv1d_53 (Conv1D)              (None, None, 64)     196672      Elmo_Embedding[0][0]             \n",
            "__________________________________________________________________________________________________\n",
            "conv1d_54 (Conv1D)              (None, None, 64)     262208      Elmo_Embedding[0][0]             \n",
            "__________________________________________________________________________________________________\n",
            "conv1d_55 (Conv1D)              (None, None, 64)     327744      Elmo_Embedding[0][0]             \n",
            "__________________________________________________________________________________________________\n",
            "max_pooling1d_47 (MaxPooling1D) (None, None, 64)     0           conv1d_53[0][0]                  \n",
            "__________________________________________________________________________________________________\n",
            "max_pooling1d_48 (MaxPooling1D) (None, None, 64)     0           conv1d_54[0][0]                  \n",
            "__________________________________________________________________________________________________\n",
            "max_pooling1d_49 (MaxPooling1D) (None, None, 64)     0           conv1d_55[0][0]                  \n",
            "__________________________________________________________________________________________________\n",
            "concatenate_11 (Concatenate)    (None, None, 64)     0           max_pooling1d_47[0][0]           \n",
            "                                                                 max_pooling1d_48[0][0]           \n",
            "                                                                 max_pooling1d_49[0][0]           \n",
            "__________________________________________________________________________________________________\n",
            "conv1d_56 (Conv1D)              (None, None, 64)     20544       concatenate_11[0][0]             \n",
            "__________________________________________________________________________________________________\n",
            "global_max_pooling1d_4 (GlobalM (None, 64)           0           conv1d_56[0][0]                  \n",
            "__________________________________________________________________________________________________\n",
            "dense_25 (Dense)                (None, 32)           2080        global_max_pooling1d_4[0][0]     \n",
            "__________________________________________________________________________________________________\n",
            "dropout_10 (Dropout)            (None, 32)           0           dense_25[0][0]                   \n",
            "__________________________________________________________________________________________________\n",
            "dense_26 (Dense)                (None, 1)            33          dropout_10[0][0]                 \n",
            "==================================================================================================\n",
            "Total params: 809,281\n",
            "Trainable params: 809,281\n",
            "Non-trainable params: 0\n",
            "__________________________________________________________________________________________________\n",
            "Train on 35863 samples, validate on 15370 samples\n",
            "Epoch 1/2\n",
            "35863/35863 [==============================] - 720s 20ms/sample - loss: 0.0548 - acc: 0.9799 - val_loss: 0.0322 - val_acc: 0.9878\n",
            "Epoch 2/2\n",
            "35863/35863 [==============================] - 715s 20ms/sample - loss: 0.0201 - acc: 0.9922 - val_loss: 0.0268 - val_acc: 0.9904\n"
          ],
          "name": "stdout"
        }
      ]
    },
    {
      "cell_type": "code",
      "metadata": {
        "colab": {
          "base_uri": "https://localhost:8080/"
        },
        "id": "nbrg9rWXTsZD",
        "outputId": "dc48b441-74a0-4fb0-dd8c-fb94697b204d"
      },
      "source": [
        "# 120 words\n",
        "X_train, X_test, y_train, y_test = train_test_split(data, dataset[['label']], test_size=0.3, random_state=4)\n",
        "\n",
        "num_kernels = 64\n",
        "kernel_sizes= [3,4,5]\n",
        "pool_sizes = [30,29,28]\n",
        "\n",
        "input_layer  = Input(shape=(1,), dtype=\"string\", name=\"Input_layer\")\n",
        "embedding_layer = Lambda(ELMoEmbedding, output_shape=(1024, ), name=\"Elmo_Embedding\")(input_layer)\n",
        "\n",
        "pool_outputs = []\n",
        "\n",
        "for i in range(len(kernel_sizes)):\n",
        "    conv = Conv1D(num_kernels, kernel_size=kernel_sizes[i], padding='valid', activation='relu')(embedding_layer)\n",
        "    pool = MaxPooling1D(pool_size=pool_sizes[i], strides=1, padding = 'valid')(conv)         \n",
        "    pool_outputs.append(pool)\n",
        "merge = concatenate(pool_outputs,axis = 1)\n",
        "\n",
        "conv = Conv1D(num_kernels, kernel_size=5, activation='relu')(merge)\n",
        "pool = GlobalMaxPooling1D()(conv)\n",
        "#conv = Conv1D(num_kernels, kernel_size=5, activation='relu')(pool)\n",
        "#pool = GlobalMaxPooling1D(pool_size=30)(conv)\n",
        "\n",
        "#x = Flatten()(pool)\n",
        "#x = Dropout(0.2)(x)\n",
        "x = Dense(32, activation='relu')(pool)\n",
        "x = Dropout(0.2)(x)\n",
        "x = Dense(1, activation='sigmoid')(x)\n",
        "model = Model(inputs=input_layer,outputs=x)\n",
        "model.summary()\n",
        "model.compile(loss='binary_crossentropy',\n",
        "              optimizer='adam', \n",
        "              metrics=['acc'])\n",
        "with tf.Session() as session:\n",
        "  session.run(tf.global_variables_initializer()) \n",
        "  session.run(tf.tables_initializer())\n",
        "  history = model.fit(X_train, y_train, validation_data = (X_test,y_test), epochs=2, verbose=1)"
      ],
      "execution_count": null,
      "outputs": [
        {
          "output_type": "stream",
          "text": [
            "INFO:tensorflow:Saver not created because there are no variables in the graph to restore\n"
          ],
          "name": "stdout"
        },
        {
          "output_type": "stream",
          "text": [
            "INFO:tensorflow:Saver not created because there are no variables in the graph to restore\n"
          ],
          "name": "stderr"
        },
        {
          "output_type": "stream",
          "text": [
            "Model: \"model_13\"\n",
            "__________________________________________________________________________________________________\n",
            "Layer (type)                    Output Shape         Param #     Connected to                     \n",
            "==================================================================================================\n",
            "Input_layer (InputLayer)        [(None, 1)]          0                                            \n",
            "__________________________________________________________________________________________________\n",
            "Elmo_Embedding (Lambda)         (None, None, 1024)   0           Input_layer[0][0]                \n",
            "__________________________________________________________________________________________________\n",
            "conv1d_57 (Conv1D)              (None, None, 64)     196672      Elmo_Embedding[0][0]             \n",
            "__________________________________________________________________________________________________\n",
            "conv1d_58 (Conv1D)              (None, None, 64)     262208      Elmo_Embedding[0][0]             \n",
            "__________________________________________________________________________________________________\n",
            "conv1d_59 (Conv1D)              (None, None, 64)     327744      Elmo_Embedding[0][0]             \n",
            "__________________________________________________________________________________________________\n",
            "max_pooling1d_50 (MaxPooling1D) (None, None, 64)     0           conv1d_57[0][0]                  \n",
            "__________________________________________________________________________________________________\n",
            "max_pooling1d_51 (MaxPooling1D) (None, None, 64)     0           conv1d_58[0][0]                  \n",
            "__________________________________________________________________________________________________\n",
            "max_pooling1d_52 (MaxPooling1D) (None, None, 64)     0           conv1d_59[0][0]                  \n",
            "__________________________________________________________________________________________________\n",
            "concatenate_12 (Concatenate)    (None, None, 64)     0           max_pooling1d_50[0][0]           \n",
            "                                                                 max_pooling1d_51[0][0]           \n",
            "                                                                 max_pooling1d_52[0][0]           \n",
            "__________________________________________________________________________________________________\n",
            "conv1d_60 (Conv1D)              (None, None, 64)     20544       concatenate_12[0][0]             \n",
            "__________________________________________________________________________________________________\n",
            "global_max_pooling1d_5 (GlobalM (None, 64)           0           conv1d_60[0][0]                  \n",
            "__________________________________________________________________________________________________\n",
            "dense_27 (Dense)                (None, 32)           2080        global_max_pooling1d_5[0][0]     \n",
            "__________________________________________________________________________________________________\n",
            "dropout_11 (Dropout)            (None, 32)           0           dense_27[0][0]                   \n",
            "__________________________________________________________________________________________________\n",
            "dense_28 (Dense)                (None, 1)            33          dropout_11[0][0]                 \n",
            "==================================================================================================\n",
            "Total params: 809,281\n",
            "Trainable params: 809,281\n",
            "Non-trainable params: 0\n",
            "__________________________________________________________________________________________________\n",
            "Train on 35863 samples, validate on 15370 samples\n",
            "Epoch 1/2\n",
            "35863/35863 [==============================] - 786s 22ms/sample - loss: 0.0554 - acc: 0.9797 - val_loss: 0.0296 - val_acc: 0.9887\n",
            "Epoch 2/2\n",
            "35863/35863 [==============================] - 781s 22ms/sample - loss: 0.0204 - acc: 0.9926 - val_loss: 0.0277 - val_acc: 0.9895\n"
          ],
          "name": "stdout"
        }
      ]
    },
    {
      "cell_type": "markdown",
      "metadata": {
        "id": "bsB3jW05gtBQ"
      },
      "source": [
        "### another dataset"
      ]
    },
    {
      "cell_type": "code",
      "metadata": {
        "colab": {
          "base_uri": "https://localhost:8080/"
        },
        "id": "87C_IIHgaqhQ",
        "outputId": "e5273f8a-cd68-4571-8e3e-bed23a486f70"
      },
      "source": [
        "#120 words\n",
        "X_train, X_test, y_train, y_test = train_test_split(data, dataset[['label']], test_size=0.3, random_state=4)\n",
        "\n",
        "num_kernels = 64\n",
        "kernel_sizes= [3,4,5]\n",
        "pool_sizes = [30,29,28]\n",
        "\n",
        "input_layer  = Input(shape=(1,), dtype=\"string\", name=\"Input_layer\")\n",
        "embedding_layer = Lambda(ELMoEmbedding, output_shape=(1024, ), name=\"Elmo_Embedding\")(input_layer)\n",
        "\n",
        "pool_outputs = []\n",
        "\n",
        "for i in range(len(kernel_sizes)):\n",
        "    conv = Conv1D(num_kernels, kernel_size=kernel_sizes[i], padding='valid', activation='relu')(embedding_layer)\n",
        "    pool = MaxPooling1D(pool_size=pool_sizes[i], strides=1, padding = 'valid')(conv)         \n",
        "    pool_outputs.append(pool)\n",
        "merge = concatenate(pool_outputs,axis = 1)\n",
        "\n",
        "conv = Conv1D(num_kernels, kernel_size=5, activation='relu')(merge)\n",
        "pool = GlobalMaxPooling1D()(conv)\n",
        "#conv = Conv1D(num_kernels, kernel_size=5, activation='relu')(pool)\n",
        "#pool = GlobalMaxPooling1D(pool_size=30)(conv)\n",
        "\n",
        "#x = Flatten()(pool)\n",
        "#x = Dropout(0.2)(x)\n",
        "x = Dense(32, activation='relu')(pool)\n",
        "x = Dropout(0.2)(x)\n",
        "x = Dense(1, activation='sigmoid')(x)\n",
        "model = Model(inputs=input_layer,outputs=x)\n",
        "#model.summary()\n",
        "model.compile(loss='binary_crossentropy',\n",
        "              optimizer='adam', \n",
        "              metrics=['acc'])\n",
        "with tf.Session() as session:\n",
        "  session.run(tf.global_variables_initializer()) \n",
        "  session.run(tf.tables_initializer())\n",
        "  history = model.fit(X_train, y_train, validation_data = (X_test,y_test), epochs=2, verbose=1)"
      ],
      "execution_count": null,
      "outputs": [
        {
          "output_type": "stream",
          "text": [
            "INFO:tensorflow:Saver not created because there are no variables in the graph to restore\n"
          ],
          "name": "stdout"
        },
        {
          "output_type": "stream",
          "text": [
            "INFO:tensorflow:Saver not created because there are no variables in the graph to restore\n"
          ],
          "name": "stderr"
        },
        {
          "output_type": "stream",
          "text": [
            "Train on 19589 samples, validate on 8396 samples\n",
            "Epoch 1/2\n",
            "19589/19589 [==============================] - 432s 22ms/sample - loss: 0.1909 - acc: 0.9225 - val_loss: 0.1633 - val_acc: 0.9383\n",
            "Epoch 2/2\n",
            "19589/19589 [==============================] - 427s 22ms/sample - loss: 0.0791 - acc: 0.9708 - val_loss: 0.1240 - val_acc: 0.9533\n"
          ],
          "name": "stdout"
        }
      ]
    },
    {
      "cell_type": "code",
      "metadata": {
        "colab": {
          "base_uri": "https://localhost:8080/"
        },
        "id": "kBryyV7iqlZG",
        "outputId": "22c24b97-4ae0-418e-e6a1-ebf4583941bf"
      },
      "source": [
        "#130 words\n",
        "X_train, X_test, y_train, y_test = train_test_split(data, dataset[['label']], test_size=0.3, random_state=4)\n",
        "\n",
        "num_kernels = 64\n",
        "kernel_sizes= [3,4,5]\n",
        "pool_sizes = [30,29,28]\n",
        "\n",
        "input_layer  = Input(shape=(1,), dtype=\"string\", name=\"Input_layer\")\n",
        "embedding_layer = Lambda(ELMoEmbedding, output_shape=(1024, ), name=\"Elmo_Embedding\")(input_layer)\n",
        "\n",
        "pool_outputs = []\n",
        "\n",
        "for i in range(len(kernel_sizes)):\n",
        "    conv = Conv1D(num_kernels, kernel_size=kernel_sizes[i], padding='valid', activation='relu')(embedding_layer)\n",
        "    pool = MaxPooling1D(pool_size=pool_sizes[i], strides=1, padding = 'valid')(conv)         \n",
        "    pool_outputs.append(pool)\n",
        "merge = concatenate(pool_outputs,axis = 1)\n",
        "\n",
        "conv = Conv1D(num_kernels, kernel_size=5, activation='relu')(merge)\n",
        "pool = GlobalMaxPooling1D()(conv)\n",
        "#conv = Conv1D(num_kernels, kernel_size=5, activation='relu')(pool)\n",
        "#pool = GlobalMaxPooling1D(pool_size=30)(conv)\n",
        "\n",
        "#x = Flatten()(pool)\n",
        "#x = Dropout(0.2)(x)\n",
        "x = Dense(32, activation='relu')(pool)\n",
        "x = Dropout(0.2)(x)\n",
        "x = Dense(1, activation='sigmoid')(x)\n",
        "model = Model(inputs=input_layer,outputs=x)\n",
        "#model.summary()\n",
        "model.compile(loss='binary_crossentropy',\n",
        "              optimizer='adam', \n",
        "              metrics=['acc'])\n",
        "with tf.Session() as session:\n",
        "  session.run(tf.global_variables_initializer()) \n",
        "  session.run(tf.tables_initializer())\n",
        "  history = model.fit(X_train, y_train, validation_data = (X_test,y_test), epochs=2, verbose=1)"
      ],
      "execution_count": null,
      "outputs": [
        {
          "output_type": "stream",
          "text": [
            "INFO:tensorflow:Saver not created because there are no variables in the graph to restore\n"
          ],
          "name": "stdout"
        },
        {
          "output_type": "stream",
          "text": [
            "INFO:tensorflow:Saver not created because there are no variables in the graph to restore\n"
          ],
          "name": "stderr"
        },
        {
          "output_type": "stream",
          "text": [
            "Train on 19589 samples, validate on 8396 samples\n",
            "Epoch 1/2\n",
            "19589/19589 [==============================] - 466s 24ms/sample - loss: 0.2023 - acc: 0.9182 - val_loss: 0.1531 - val_acc: 0.9445\n",
            "Epoch 2/2\n",
            "19589/19589 [==============================] - 462s 24ms/sample - loss: 0.0811 - acc: 0.9696 - val_loss: 0.1092 - val_acc: 0.9570\n"
          ],
          "name": "stdout"
        }
      ]
    },
    {
      "cell_type": "code",
      "metadata": {
        "colab": {
          "base_uri": "https://localhost:8080/"
        },
        "id": "9uuRScmku4Iz",
        "outputId": "b2076501-0a63-45a0-b636-e6f7fe6bd9ce"
      },
      "source": [
        "#140 words\n",
        "X_train, X_test, y_train, y_test = train_test_split(data, dataset[['label']], test_size=0.3, random_state=4)\n",
        "\n",
        "num_kernels = 64\n",
        "kernel_sizes= [3,4,5]\n",
        "pool_sizes = [30,29,28]\n",
        "\n",
        "input_layer  = Input(shape=(1,), dtype=\"string\", name=\"Input_layer\")\n",
        "embedding_layer = Lambda(ELMoEmbedding, output_shape=(1024, ), name=\"Elmo_Embedding\")(input_layer)\n",
        "\n",
        "pool_outputs = []\n",
        "\n",
        "for i in range(len(kernel_sizes)):\n",
        "    conv = Conv1D(num_kernels, kernel_size=kernel_sizes[i], padding='valid', activation='relu')(embedding_layer)\n",
        "    pool = MaxPooling1D(pool_size=pool_sizes[i], strides=1, padding = 'valid')(conv)         \n",
        "    pool_outputs.append(pool)\n",
        "merge = concatenate(pool_outputs,axis = 1)\n",
        "\n",
        "conv = Conv1D(num_kernels, kernel_size=5, activation='relu')(merge)\n",
        "pool = GlobalMaxPooling1D()(conv)\n",
        "#conv = Conv1D(num_kernels, kernel_size=5, activation='relu')(pool)\n",
        "#pool = GlobalMaxPooling1D(pool_size=30)(conv)\n",
        "\n",
        "#x = Flatten()(pool)\n",
        "#x = Dropout(0.2)(x)\n",
        "x = Dense(32, activation='relu')(pool)\n",
        "x = Dropout(0.2)(x)\n",
        "x = Dense(1, activation='sigmoid')(x)\n",
        "model = Model(inputs=input_layer,outputs=x)\n",
        "#model.summary()\n",
        "model.compile(loss='binary_crossentropy',\n",
        "              optimizer='adam', \n",
        "              metrics=['acc'])\n",
        "with tf.Session() as session:\n",
        "  session.run(tf.global_variables_initializer()) \n",
        "  session.run(tf.tables_initializer())\n",
        "  history = model.fit(X_train, y_train, validation_data = (X_test,y_test), epochs=2, verbose=1)"
      ],
      "execution_count": null,
      "outputs": [
        {
          "output_type": "stream",
          "text": [
            "INFO:tensorflow:Saver not created because there are no variables in the graph to restore\n"
          ],
          "name": "stdout"
        },
        {
          "output_type": "stream",
          "text": [
            "INFO:tensorflow:Saver not created because there are no variables in the graph to restore\n"
          ],
          "name": "stderr"
        },
        {
          "output_type": "stream",
          "text": [
            "Train on 19589 samples, validate on 8396 samples\n",
            "Epoch 1/2\n",
            "19589/19589 [==============================] - 501s 26ms/sample - loss: 0.1888 - acc: 0.9252 - val_loss: 0.1071 - val_acc: 0.9602\n",
            "Epoch 2/2\n",
            "19589/19589 [==============================] - 496s 25ms/sample - loss: 0.0813 - acc: 0.9716 - val_loss: 0.1021 - val_acc: 0.9622\n"
          ],
          "name": "stdout"
        }
      ]
    },
    {
      "cell_type": "code",
      "metadata": {
        "colab": {
          "base_uri": "https://localhost:8080/"
        },
        "id": "hl2jod7Eu4hM",
        "outputId": "a6f35a99-2d72-4e19-cfcf-4e80b9521393"
      },
      "source": [
        "#150 words\n",
        "X_train, X_test, y_train, y_test = train_test_split(data, dataset[['label']], test_size=0.3, random_state=4)\n",
        "\n",
        "num_kernels = 64\n",
        "kernel_sizes= [3,4,5]\n",
        "pool_sizes = [30,29,28]\n",
        "\n",
        "input_layer  = Input(shape=(1,), dtype=\"string\", name=\"Input_layer\")\n",
        "embedding_layer = Lambda(ELMoEmbedding, output_shape=(1024, ), name=\"Elmo_Embedding\")(input_layer)\n",
        "\n",
        "pool_outputs = []\n",
        "\n",
        "for i in range(len(kernel_sizes)):\n",
        "    conv = Conv1D(num_kernels, kernel_size=kernel_sizes[i], padding='valid', activation='relu')(embedding_layer)\n",
        "    pool = MaxPooling1D(pool_size=pool_sizes[i], strides=1, padding = 'valid')(conv)         \n",
        "    pool_outputs.append(pool)\n",
        "merge = concatenate(pool_outputs,axis = 1)\n",
        "\n",
        "conv = Conv1D(num_kernels, kernel_size=5, activation='relu')(merge)\n",
        "pool = GlobalMaxPooling1D()(conv)\n",
        "#conv = Conv1D(num_kernels, kernel_size=5, activation='relu')(pool)\n",
        "#pool = GlobalMaxPooling1D(pool_size=30)(conv)\n",
        "\n",
        "#x = Flatten()(pool)\n",
        "#x = Dropout(0.2)(x)\n",
        "x = Dense(32, activation='relu')(pool)\n",
        "x = Dropout(0.2)(x)\n",
        "x = Dense(1, activation='sigmoid')(x)\n",
        "model = Model(inputs=input_layer,outputs=x)\n",
        "#model.summary()\n",
        "model.compile(loss='binary_crossentropy',\n",
        "              optimizer='adam', \n",
        "              metrics=['acc'])\n",
        "with tf.Session() as session:\n",
        "  session.run(tf.global_variables_initializer()) \n",
        "  session.run(tf.tables_initializer())\n",
        "  history = model.fit(X_train, y_train, validation_data = (X_test,y_test), epochs=2, verbose=1)"
      ],
      "execution_count": null,
      "outputs": [
        {
          "output_type": "stream",
          "text": [
            "INFO:tensorflow:Saver not created because there are no variables in the graph to restore\n"
          ],
          "name": "stdout"
        },
        {
          "output_type": "stream",
          "text": [
            "INFO:tensorflow:Saver not created because there are no variables in the graph to restore\n"
          ],
          "name": "stderr"
        },
        {
          "output_type": "stream",
          "text": [
            "Train on 19589 samples, validate on 8396 samples\n",
            "Epoch 1/2\n",
            "19589/19589 [==============================] - 535s 27ms/sample - loss: 0.1922 - acc: 0.9217 - val_loss: 0.1042 - val_acc: 0.9597\n",
            "Epoch 2/2\n",
            "19589/19589 [==============================] - 532s 27ms/sample - loss: 0.0703 - acc: 0.9754 - val_loss: 0.1055 - val_acc: 0.9608\n"
          ],
          "name": "stdout"
        }
      ]
    },
    {
      "cell_type": "code",
      "metadata": {
        "id": "TLin0NV11aPn"
      },
      "source": [
        ""
      ],
      "execution_count": null,
      "outputs": []
    }
  ]
}