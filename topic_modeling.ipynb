{
  "nbformat": 4,
  "nbformat_minor": 0,
  "metadata": {
    "colab": {
      "name": "topic_modeling.ipynb",
      "provenance": []
    },
    "kernelspec": {
      "name": "python3",
      "display_name": "Python 3"
    },
    "accelerator": "GPU"
  },
  "cells": [
    {
      "cell_type": "code",
      "metadata": {
        "colab": {
          "base_uri": "https://localhost:8080/"
        },
        "id": "alyuLgUH90j0",
        "outputId": "088676b6-29ba-4e8b-d35a-913ae75dda75"
      },
      "source": [
        "import tensorflow as tf\n",
        "device_name = tf.test.gpu_device_name()\n",
        "if device_name != '/device:GPU:0':\n",
        "  raise SystemError('GPU device not found')\n",
        "print('Found GPU at: {}'.format(device_name))\n",
        "\n",
        "from google.colab import drive\n",
        "drive.mount(\"/content/drive\")"
      ],
      "execution_count": null,
      "outputs": [
        {
          "output_type": "stream",
          "text": [
            "Found GPU at: /device:GPU:0\n",
            "Mounted at /content/drive\n"
          ],
          "name": "stdout"
        }
      ]
    },
    {
      "cell_type": "code",
      "metadata": {
        "id": "YwTBAnVXwcX_"
      },
      "source": [
        "import numpy as np\n",
        "import pandas as pd\n",
        "import string\n",
        "from gensim import matutils, models\n",
        "import scipy.sparse\n",
        "from sklearn.feature_extraction.text import CountVectorizer"
      ],
      "execution_count": null,
      "outputs": []
    },
    {
      "cell_type": "code",
      "metadata": {
        "id": "T3oaRyPEJmcf"
      },
      "source": [
        "def process_text(text):\n",
        "    combined = ' '.join(text)\n",
        "    return combined"
      ],
      "execution_count": null,
      "outputs": []
    },
    {
      "cell_type": "code",
      "metadata": {
        "colab": {
          "base_uri": "https://localhost:8080/"
        },
        "id": "npDRJbOFZlJk",
        "outputId": "5016e767-332a-48cf-8eb3-6ad507f6b5ad"
      },
      "source": [
        "import re\n",
        "import nltk\n",
        "nltk.download('stopwords')\n",
        "from nltk.stem import PorterStemmer\n",
        "from nltk.corpus import stopwords\n",
        "\n",
        "def clean_text(text):\n",
        "  stemmed_text = []\n",
        "  porter_stemmer = PorterStemmer()\n",
        "  result = re.sub('[^a-zA-Z]', ' ', text)\n",
        "  text = re.sub('[%s]' % re.escape(string.punctuation), '', text)\n",
        "  result = result.lower()\n",
        "  result = result.split()\n",
        "  result = [r for r in result if r not in set(stopwords.words('english'))]\n",
        "  stemmed_result = [porter_stemmer.stem(r) for r in result]\n",
        "  stemmed_text.append(\" \".join(stemmed_result))\n",
        "  return stemmed_text"
      ],
      "execution_count": null,
      "outputs": [
        {
          "output_type": "stream",
          "text": [
            "[nltk_data] Downloading package stopwords to /root/nltk_data...\n",
            "[nltk_data]   Unzipping corpora/stopwords.zip.\n"
          ],
          "name": "stdout"
        }
      ]
    },
    {
      "cell_type": "code",
      "metadata": {
        "id": "Mf6ISnRxHOhv",
        "colab": {
          "base_uri": "https://localhost:8080/",
          "height": 111
        },
        "outputId": "9107b7f7-4c80-4eb3-c56c-507fedf95b35"
      },
      "source": [
        "data_x = pd.read_csv('/content/drive/My Drive/data/dataset.csv', delimiter=',')\n",
        "data_y = pd.read_csv('/content/drive/My Drive/data/news_dataset.csv', delimiter=',')\n",
        "text_x = data_x['text'].tolist()\n",
        "text_y = data_y['text'].tolist()\n",
        "\n",
        "text_combined_x = process_text(text_x)\n",
        "text_combined_y = process_text(text_y)\n",
        "\n",
        "text_cleaned_x = clean_text(text_combined_x)\n",
        "text_cleaned_y = clean_text(text_combined_y)\n",
        "\n",
        "combined_clean_text_dict = {\"source_x\":text_cleaned_x, \"source_y\":text_cleaned_y}\n",
        "data_df = pd.DataFrame.from_dict(combined_clean_text_dict, orient='index', columns=['text'])\n",
        "data_df"
      ],
      "execution_count": null,
      "outputs": [
        {
          "output_type": "execute_result",
          "data": {
            "text/html": [
              "<div>\n",
              "<style scoped>\n",
              "    .dataframe tbody tr th:only-of-type {\n",
              "        vertical-align: middle;\n",
              "    }\n",
              "\n",
              "    .dataframe tbody tr th {\n",
              "        vertical-align: top;\n",
              "    }\n",
              "\n",
              "    .dataframe thead th {\n",
              "        text-align: right;\n",
              "    }\n",
              "</style>\n",
              "<table border=\"1\" class=\"dataframe\">\n",
              "  <thead>\n",
              "    <tr style=\"text-align: right;\">\n",
              "      <th></th>\n",
              "      <th>text</th>\n",
              "    </tr>\n",
              "  </thead>\n",
              "  <tbody>\n",
              "    <tr>\n",
              "      <th>source_x</th>\n",
              "      <td>smell hillari fear daniel greenfield shillman ...</td>\n",
              "    </tr>\n",
              "    <tr>\n",
              "      <th>source_y</th>\n",
              "      <td>muslim bust stole million gov benefit print pa...</td>\n",
              "    </tr>\n",
              "  </tbody>\n",
              "</table>\n",
              "</div>"
            ],
            "text/plain": [
              "                                                       text\n",
              "source_x  smell hillari fear daniel greenfield shillman ...\n",
              "source_y  muslim bust stole million gov benefit print pa..."
            ]
          },
          "metadata": {
            "tags": []
          },
          "execution_count": 33
        }
      ]
    },
    {
      "cell_type": "markdown",
      "metadata": {
        "id": "dzlt-UGyD8kI"
      },
      "source": [
        "### topic modeling for dataset 1"
      ]
    },
    {
      "cell_type": "code",
      "metadata": {
        "colab": {
          "base_uri": "https://localhost:8080/",
          "height": 111
        },
        "id": "czXEWmK42bgY",
        "outputId": "e22720f1-104f-4bf1-e4d4-ab533d3342b0"
      },
      "source": [
        "data_x = pd.read_csv('/content/drive/My Drive/data/dataset.csv', delimiter=',')\n",
        "text_x_real = data_x[data_x['label']==1]['text'].tolist()\n",
        "text_x_fake = data_x[data_x['label']==0]['text'].tolist()\n",
        "\n",
        "text_combined_x_real = process_text(text_x_real)\n",
        "text_combined_x_fake = process_text(text_x_fake)\n",
        "\n",
        "text_cleaned_x_real = clean_text(text_combined_x_real)\n",
        "text_cleaned_x_fake = clean_text(text_combined_x_fake)\n",
        "\n",
        "combined_clean_text_dict = {\"real_x\":text_cleaned_x_real, \"fake_x\":text_cleaned_x_fake}\n",
        "data_df = pd.DataFrame.from_dict(combined_clean_text_dict, orient='index', columns=['text'])\n",
        "data_df"
      ],
      "execution_count": null,
      "outputs": [
        {
          "output_type": "execute_result",
          "data": {
            "text/html": [
              "<div>\n",
              "<style scoped>\n",
              "    .dataframe tbody tr th:only-of-type {\n",
              "        vertical-align: middle;\n",
              "    }\n",
              "\n",
              "    .dataframe tbody tr th {\n",
              "        vertical-align: top;\n",
              "    }\n",
              "\n",
              "    .dataframe thead th {\n",
              "        text-align: right;\n",
              "    }\n",
              "</style>\n",
              "<table border=\"1\" class=\"dataframe\">\n",
              "  <thead>\n",
              "    <tr style=\"text-align: right;\">\n",
              "      <th></th>\n",
              "      <th>text</th>\n",
              "    </tr>\n",
              "  </thead>\n",
              "  <tbody>\n",
              "    <tr>\n",
              "      <th>real_x</th>\n",
              "      <td>kerri go pari gestur sympathi u secretari stat...</td>\n",
              "    </tr>\n",
              "    <tr>\n",
              "      <th>real_y</th>\n",
              "      <td>smell hillari fear daniel greenfield shillman ...</td>\n",
              "    </tr>\n",
              "  </tbody>\n",
              "</table>\n",
              "</div>"
            ],
            "text/plain": [
              "                                                     text\n",
              "real_x  kerri go pari gestur sympathi u secretari stat...\n",
              "real_y  smell hillari fear daniel greenfield shillman ..."
            ]
          },
          "metadata": {
            "tags": []
          },
          "execution_count": 5
        }
      ]
    },
    {
      "cell_type": "code",
      "metadata": {
        "colab": {
          "base_uri": "https://localhost:8080/",
          "height": 160
        },
        "id": "0gfNPxbg3ALv",
        "outputId": "b8bacb34-4340-43b4-c4d3-22011b697404"
      },
      "source": [
        "cv = CountVectorizer(stop_words='english')\n",
        "#cv = CountVectorizer()\n",
        "data_cv = cv.fit_transform(data_df.text)\n",
        "data_dtm = pd.DataFrame(data_cv.toarray(), columns=cv.get_feature_names())\n",
        "data_dtm.index = data_df.index\n",
        "data_dtm"
      ],
      "execution_count": null,
      "outputs": [
        {
          "output_type": "execute_result",
          "data": {
            "text/html": [
              "<div>\n",
              "<style scoped>\n",
              "    .dataframe tbody tr th:only-of-type {\n",
              "        vertical-align: middle;\n",
              "    }\n",
              "\n",
              "    .dataframe tbody tr th {\n",
              "        vertical-align: top;\n",
              "    }\n",
              "\n",
              "    .dataframe thead th {\n",
              "        text-align: right;\n",
              "    }\n",
              "</style>\n",
              "<table border=\"1\" class=\"dataframe\">\n",
              "  <thead>\n",
              "    <tr style=\"text-align: right;\">\n",
              "      <th></th>\n",
              "      <th>aa</th>\n",
              "      <th>aaa</th>\n",
              "      <th>aaaaaaaand</th>\n",
              "      <th>aaaaackkk</th>\n",
              "      <th>aaaaapkfhk</th>\n",
              "      <th>aaaahhhh</th>\n",
              "      <th>aaaand</th>\n",
              "      <th>aaaarrgh</th>\n",
              "      <th>aaab</th>\n",
              "      <th>aaahhh</th>\n",
              "      <th>aaarf</th>\n",
              "      <th>aab</th>\n",
              "      <th>aaba</th>\n",
              "      <th>aabfsv</th>\n",
              "      <th>aabg</th>\n",
              "      <th>aabo</th>\n",
              "      <th>aaccord</th>\n",
              "      <th>aachen</th>\n",
              "      <th>aacnr</th>\n",
              "      <th>aadhaar</th>\n",
              "      <th>aadhar</th>\n",
              "      <th>aadl</th>\n",
              "      <th>aadmi</th>\n",
              "      <th>aae</th>\n",
              "      <th>aaeeb</th>\n",
              "      <th>aaf</th>\n",
              "      <th>aafn</th>\n",
              "      <th>aag</th>\n",
              "      <th>aagi</th>\n",
              "      <th>aagxdwkrjpq</th>\n",
              "      <th>aah</th>\n",
              "      <th>aahd</th>\n",
              "      <th>aahi</th>\n",
              "      <th>aahwuhvvnh</th>\n",
              "      <th>aai</th>\n",
              "      <th>aaib</th>\n",
              "      <th>aaingr</th>\n",
              "      <th>aaj</th>\n",
              "      <th>aaja</th>\n",
              "      <th>aakar</th>\n",
              "      <th>...</th>\n",
              "      <th>zye</th>\n",
              "      <th>zyf</th>\n",
              "      <th>zygot</th>\n",
              "      <th>zyi</th>\n",
              "      <th>zyifjwyfdh</th>\n",
              "      <th>zyj</th>\n",
              "      <th>zyjdjtknan</th>\n",
              "      <th>zyklon</th>\n",
              "      <th>zymo</th>\n",
              "      <th>zynga</th>\n",
              "      <th>zyomso</th>\n",
              "      <th>zypri</th>\n",
              "      <th>zyri</th>\n",
              "      <th>zytnwhvr</th>\n",
              "      <th>zyuganov</th>\n",
              "      <th>zyz</th>\n",
              "      <th>zz</th>\n",
              "      <th>zzbluecomet</th>\n",
              "      <th>zzg</th>\n",
              "      <th>zzgaahg</th>\n",
              "      <th>zzi</th>\n",
              "      <th>zzjjpdaivn</th>\n",
              "      <th>zzll</th>\n",
              "      <th>zzlo</th>\n",
              "      <th>zzn</th>\n",
              "      <th>zzomtmd</th>\n",
              "      <th>zzpkpmpp</th>\n",
              "      <th>zzpx</th>\n",
              "      <th>zzpxelb</th>\n",
              "      <th>zzqvyk</th>\n",
              "      <th>zzsg</th>\n",
              "      <th>zztain</th>\n",
              "      <th>zztw</th>\n",
              "      <th>zzucqevt</th>\n",
              "      <th>zzuml</th>\n",
              "      <th>zzywyr</th>\n",
              "      <th>zzz</th>\n",
              "      <th>zzzzaaaacccchhh</th>\n",
              "      <th>zzzzzzzz</th>\n",
              "      <th>zzzzzzzzzzzzz</th>\n",
              "    </tr>\n",
              "  </thead>\n",
              "  <tbody>\n",
              "    <tr>\n",
              "      <th>real_x</th>\n",
              "      <td>24</td>\n",
              "      <td>9</td>\n",
              "      <td>0</td>\n",
              "      <td>0</td>\n",
              "      <td>0</td>\n",
              "      <td>0</td>\n",
              "      <td>0</td>\n",
              "      <td>0</td>\n",
              "      <td>1</td>\n",
              "      <td>0</td>\n",
              "      <td>0</td>\n",
              "      <td>5</td>\n",
              "      <td>1</td>\n",
              "      <td>1</td>\n",
              "      <td>0</td>\n",
              "      <td>2</td>\n",
              "      <td>0</td>\n",
              "      <td>2</td>\n",
              "      <td>0</td>\n",
              "      <td>30</td>\n",
              "      <td>2</td>\n",
              "      <td>0</td>\n",
              "      <td>0</td>\n",
              "      <td>0</td>\n",
              "      <td>0</td>\n",
              "      <td>10</td>\n",
              "      <td>0</td>\n",
              "      <td>0</td>\n",
              "      <td>0</td>\n",
              "      <td>0</td>\n",
              "      <td>1</td>\n",
              "      <td>4</td>\n",
              "      <td>0</td>\n",
              "      <td>0</td>\n",
              "      <td>1</td>\n",
              "      <td>0</td>\n",
              "      <td>0</td>\n",
              "      <td>0</td>\n",
              "      <td>0</td>\n",
              "      <td>0</td>\n",
              "      <td>...</td>\n",
              "      <td>0</td>\n",
              "      <td>0</td>\n",
              "      <td>0</td>\n",
              "      <td>0</td>\n",
              "      <td>0</td>\n",
              "      <td>0</td>\n",
              "      <td>0</td>\n",
              "      <td>0</td>\n",
              "      <td>0</td>\n",
              "      <td>3</td>\n",
              "      <td>0</td>\n",
              "      <td>5</td>\n",
              "      <td>1</td>\n",
              "      <td>0</td>\n",
              "      <td>7</td>\n",
              "      <td>0</td>\n",
              "      <td>0</td>\n",
              "      <td>0</td>\n",
              "      <td>0</td>\n",
              "      <td>0</td>\n",
              "      <td>0</td>\n",
              "      <td>0</td>\n",
              "      <td>0</td>\n",
              "      <td>0</td>\n",
              "      <td>0</td>\n",
              "      <td>0</td>\n",
              "      <td>0</td>\n",
              "      <td>0</td>\n",
              "      <td>0</td>\n",
              "      <td>0</td>\n",
              "      <td>0</td>\n",
              "      <td>0</td>\n",
              "      <td>0</td>\n",
              "      <td>0</td>\n",
              "      <td>0</td>\n",
              "      <td>0</td>\n",
              "      <td>0</td>\n",
              "      <td>0</td>\n",
              "      <td>0</td>\n",
              "      <td>0</td>\n",
              "    </tr>\n",
              "    <tr>\n",
              "      <th>real_y</th>\n",
              "      <td>57</td>\n",
              "      <td>11</td>\n",
              "      <td>1</td>\n",
              "      <td>1</td>\n",
              "      <td>1</td>\n",
              "      <td>1</td>\n",
              "      <td>1</td>\n",
              "      <td>1</td>\n",
              "      <td>0</td>\n",
              "      <td>1</td>\n",
              "      <td>1</td>\n",
              "      <td>10</td>\n",
              "      <td>0</td>\n",
              "      <td>0</td>\n",
              "      <td>4</td>\n",
              "      <td>0</td>\n",
              "      <td>1</td>\n",
              "      <td>3</td>\n",
              "      <td>1</td>\n",
              "      <td>0</td>\n",
              "      <td>1</td>\n",
              "      <td>6</td>\n",
              "      <td>2</td>\n",
              "      <td>2</td>\n",
              "      <td>5</td>\n",
              "      <td>2</td>\n",
              "      <td>2</td>\n",
              "      <td>1</td>\n",
              "      <td>1</td>\n",
              "      <td>1</td>\n",
              "      <td>0</td>\n",
              "      <td>0</td>\n",
              "      <td>1</td>\n",
              "      <td>1</td>\n",
              "      <td>0</td>\n",
              "      <td>2</td>\n",
              "      <td>1</td>\n",
              "      <td>5</td>\n",
              "      <td>1</td>\n",
              "      <td>1</td>\n",
              "      <td>...</td>\n",
              "      <td>1</td>\n",
              "      <td>1</td>\n",
              "      <td>2</td>\n",
              "      <td>2</td>\n",
              "      <td>2</td>\n",
              "      <td>1</td>\n",
              "      <td>2</td>\n",
              "      <td>1</td>\n",
              "      <td>1</td>\n",
              "      <td>2</td>\n",
              "      <td>1</td>\n",
              "      <td>0</td>\n",
              "      <td>0</td>\n",
              "      <td>2</td>\n",
              "      <td>2</td>\n",
              "      <td>1</td>\n",
              "      <td>7</td>\n",
              "      <td>1</td>\n",
              "      <td>2</td>\n",
              "      <td>1</td>\n",
              "      <td>2</td>\n",
              "      <td>1</td>\n",
              "      <td>1</td>\n",
              "      <td>1</td>\n",
              "      <td>1</td>\n",
              "      <td>1</td>\n",
              "      <td>1</td>\n",
              "      <td>1</td>\n",
              "      <td>1</td>\n",
              "      <td>2</td>\n",
              "      <td>1</td>\n",
              "      <td>1</td>\n",
              "      <td>1</td>\n",
              "      <td>1</td>\n",
              "      <td>3</td>\n",
              "      <td>2</td>\n",
              "      <td>1</td>\n",
              "      <td>3</td>\n",
              "      <td>1</td>\n",
              "      <td>1</td>\n",
              "    </tr>\n",
              "  </tbody>\n",
              "</table>\n",
              "<p>2 rows × 104271 columns</p>\n",
              "</div>"
            ],
            "text/plain": [
              "        aa  aaa  aaaaaaaand  ...  zzzzaaaacccchhh  zzzzzzzz  zzzzzzzzzzzzz\n",
              "real_x  24    9           0  ...                0         0              0\n",
              "real_y  57   11           1  ...                3         1              1\n",
              "\n",
              "[2 rows x 104271 columns]"
            ]
          },
          "metadata": {
            "tags": []
          },
          "execution_count": 6
        }
      ]
    },
    {
      "cell_type": "code",
      "metadata": {
        "colab": {
          "base_uri": "https://localhost:8080/",
          "height": 204
        },
        "id": "jZcaysil3GH9",
        "outputId": "24a45526-d5ea-4c00-b944-39aaac4006b8"
      },
      "source": [
        "tdm = data_dtm.transpose()\n",
        "tdm.head()"
      ],
      "execution_count": null,
      "outputs": [
        {
          "output_type": "execute_result",
          "data": {
            "text/html": [
              "<div>\n",
              "<style scoped>\n",
              "    .dataframe tbody tr th:only-of-type {\n",
              "        vertical-align: middle;\n",
              "    }\n",
              "\n",
              "    .dataframe tbody tr th {\n",
              "        vertical-align: top;\n",
              "    }\n",
              "\n",
              "    .dataframe thead th {\n",
              "        text-align: right;\n",
              "    }\n",
              "</style>\n",
              "<table border=\"1\" class=\"dataframe\">\n",
              "  <thead>\n",
              "    <tr style=\"text-align: right;\">\n",
              "      <th></th>\n",
              "      <th>real_x</th>\n",
              "      <th>real_y</th>\n",
              "    </tr>\n",
              "  </thead>\n",
              "  <tbody>\n",
              "    <tr>\n",
              "      <th>aa</th>\n",
              "      <td>24</td>\n",
              "      <td>57</td>\n",
              "    </tr>\n",
              "    <tr>\n",
              "      <th>aaa</th>\n",
              "      <td>9</td>\n",
              "      <td>11</td>\n",
              "    </tr>\n",
              "    <tr>\n",
              "      <th>aaaaaaaand</th>\n",
              "      <td>0</td>\n",
              "      <td>1</td>\n",
              "    </tr>\n",
              "    <tr>\n",
              "      <th>aaaaackkk</th>\n",
              "      <td>0</td>\n",
              "      <td>1</td>\n",
              "    </tr>\n",
              "    <tr>\n",
              "      <th>aaaaapkfhk</th>\n",
              "      <td>0</td>\n",
              "      <td>1</td>\n",
              "    </tr>\n",
              "  </tbody>\n",
              "</table>\n",
              "</div>"
            ],
            "text/plain": [
              "            real_x  real_y\n",
              "aa              24      57\n",
              "aaa              9      11\n",
              "aaaaaaaand       0       1\n",
              "aaaaackkk        0       1\n",
              "aaaaapkfhk       0       1"
            ]
          },
          "metadata": {
            "tags": []
          },
          "execution_count": 7
        }
      ]
    },
    {
      "cell_type": "code",
      "metadata": {
        "id": "Z2mGfUe03OK1"
      },
      "source": [
        "sparse_counts = scipy.sparse.csr_matrix(tdm)\n",
        "corpus = matutils.Sparse2Corpus(sparse_counts)\n",
        "\n",
        "id2word = dict((v, k) for k, v in cv.vocabulary_.items())"
      ],
      "execution_count": null,
      "outputs": []
    },
    {
      "cell_type": "code",
      "metadata": {
        "colab": {
          "base_uri": "https://localhost:8080/"
        },
        "id": "xTgbLarw3R7F",
        "outputId": "9e18c451-6c69-40ee-abca-39b7ecbdf3c4"
      },
      "source": [
        "lda = models.LdaModel(corpus=corpus, id2word=id2word, num_topics=2, passes=20)\n",
        "lda.print_topics()"
      ],
      "execution_count": null,
      "outputs": [
        {
          "output_type": "execute_result",
          "data": {
            "text/plain": [
              "[(0,\n",
              "  '0.015*\"trump\" + 0.006*\"said\" + 0.005*\"presid\" + 0.005*\"peopl\" + 0.005*\"state\" + 0.004*\"clinton\" + 0.004*\"like\" + 0.004*\"say\" + 0.004*\"time\" + 0.004*\"obama\"'),\n",
              " (1,\n",
              "  '0.019*\"said\" + 0.012*\"trump\" + 0.008*\"state\" + 0.006*\"presid\" + 0.005*\"republican\" + 0.005*\"reuter\" + 0.005*\"year\" + 0.004*\"say\" + 0.004*\"govern\" + 0.004*\"new\"')]"
            ]
          },
          "metadata": {
            "tags": []
          },
          "execution_count": 9
        }
      ]
    },
    {
      "cell_type": "code",
      "metadata": {
        "colab": {
          "base_uri": "https://localhost:8080/"
        },
        "id": "R-ALgWhy3Sfz",
        "outputId": "f525921a-4410-4b07-c67a-5973f4519c71"
      },
      "source": [
        "lda = models.LdaModel(corpus=corpus, id2word=id2word, num_topics=2, passes=80)\n",
        "lda.print_topics()"
      ],
      "execution_count": null,
      "outputs": [
        {
          "output_type": "execute_result",
          "data": {
            "text/plain": [
              "[(0,\n",
              "  '0.019*\"said\" + 0.012*\"trump\" + 0.008*\"state\" + 0.006*\"presid\" + 0.005*\"republican\" + 0.005*\"reuter\" + 0.005*\"year\" + 0.004*\"say\" + 0.004*\"govern\" + 0.004*\"new\"'),\n",
              " (1,\n",
              "  '0.015*\"trump\" + 0.005*\"said\" + 0.005*\"presid\" + 0.005*\"peopl\" + 0.005*\"state\" + 0.004*\"clinton\" + 0.004*\"like\" + 0.004*\"say\" + 0.004*\"time\" + 0.004*\"obama\"')]"
            ]
          },
          "metadata": {
            "tags": []
          },
          "execution_count": 10
        }
      ]
    },
    {
      "cell_type": "code",
      "metadata": {
        "colab": {
          "base_uri": "https://localhost:8080/"
        },
        "id": "DTHhVtNo3Vno",
        "outputId": "3bcb7de6-95ca-45ad-81f6-34b7bfbc72ce"
      },
      "source": [
        "corpus_transformed = lda[corpus]\n",
        "list(zip([a for (a,b) in corpus_transformed], data_dtm.index))"
      ],
      "execution_count": null,
      "outputs": [
        {
          "output_type": "execute_result",
          "data": {
            "text/plain": [
              "[((0, 0.9812643), 'real_x'), ((0, 0.032224685), 'real_y')]"
            ]
          },
          "metadata": {
            "tags": []
          },
          "execution_count": 11
        }
      ]
    },
    {
      "cell_type": "markdown",
      "metadata": {
        "id": "a9xRVC-SEBQE"
      },
      "source": [
        "### topic modeling for dataset 2"
      ]
    },
    {
      "cell_type": "code",
      "metadata": {
        "colab": {
          "base_uri": "https://localhost:8080/",
          "height": 111
        },
        "id": "tQo_-titEBQF",
        "outputId": "f74d2f71-126b-4d50-d809-310669d24bc9"
      },
      "source": [
        "data_y = pd.read_csv('/content/drive/My Drive/data/news_dataset.csv', delimiter=',')\n",
        "text_y_real = data_y[data_y['label']==1]['text'].tolist()\n",
        "text_y_fake = data_y[data_y['label']==0]['text'].tolist()\n",
        "\n",
        "text_combined_y_real = process_text(text_y_real)\n",
        "text_combined_y_fake = process_text(text_y_fake)\n",
        "\n",
        "text_cleaned_y_real = clean_text(text_combined_y_real)\n",
        "text_cleaned_y_fake = clean_text(text_combined_y_fake)\n",
        "\n",
        "combined_clean_text_dict = {\"real_y\":text_cleaned_y_real, \"fake_y\":text_cleaned_y_fake}\n",
        "data_df = pd.DataFrame.from_dict(combined_clean_text_dict, orient='index', columns=['text'])\n",
        "data_df"
      ],
      "execution_count": null,
      "outputs": [
        {
          "output_type": "execute_result",
          "data": {
            "text/html": [
              "<div>\n",
              "<style scoped>\n",
              "    .dataframe tbody tr th:only-of-type {\n",
              "        vertical-align: middle;\n",
              "    }\n",
              "\n",
              "    .dataframe tbody tr th {\n",
              "        vertical-align: top;\n",
              "    }\n",
              "\n",
              "    .dataframe thead th {\n",
              "        text-align: right;\n",
              "    }\n",
              "</style>\n",
              "<table border=\"1\" class=\"dataframe\">\n",
              "  <thead>\n",
              "    <tr style=\"text-align: right;\">\n",
              "      <th></th>\n",
              "      <th>text</th>\n",
              "    </tr>\n",
              "  </thead>\n",
              "  <tbody>\n",
              "    <tr>\n",
              "      <th>real_y</th>\n",
              "      <td>muslim bust stole million gov benefit print pa...</td>\n",
              "    </tr>\n",
              "    <tr>\n",
              "      <th>fake_y</th>\n",
              "      <td>muslim bust stole million gov benefit print pa...</td>\n",
              "    </tr>\n",
              "  </tbody>\n",
              "</table>\n",
              "</div>"
            ],
            "text/plain": [
              "                                                     text\n",
              "real_y  muslim bust stole million gov benefit print pa...\n",
              "fake_y  muslim bust stole million gov benefit print pa..."
            ]
          },
          "metadata": {
            "tags": []
          },
          "execution_count": 12
        }
      ]
    },
    {
      "cell_type": "code",
      "metadata": {
        "colab": {
          "base_uri": "https://localhost:8080/",
          "height": 160
        },
        "id": "cu5qnesSEBQO",
        "outputId": "01e413cd-a7c3-44a6-a70c-fc9a4b16dda1"
      },
      "source": [
        "cv = CountVectorizer(stop_words='english')\n",
        "#cv = CountVectorizer()\n",
        "data_cv = cv.fit_transform(data_df.text)\n",
        "data_dtm = pd.DataFrame(data_cv.toarray(), columns=cv.get_feature_names())\n",
        "data_dtm.index = data_df.index\n",
        "data_dtm"
      ],
      "execution_count": null,
      "outputs": [
        {
          "output_type": "execute_result",
          "data": {
            "text/html": [
              "<div>\n",
              "<style scoped>\n",
              "    .dataframe tbody tr th:only-of-type {\n",
              "        vertical-align: middle;\n",
              "    }\n",
              "\n",
              "    .dataframe tbody tr th {\n",
              "        vertical-align: top;\n",
              "    }\n",
              "\n",
              "    .dataframe thead th {\n",
              "        text-align: right;\n",
              "    }\n",
              "</style>\n",
              "<table border=\"1\" class=\"dataframe\">\n",
              "  <thead>\n",
              "    <tr style=\"text-align: right;\">\n",
              "      <th></th>\n",
              "      <th>aa</th>\n",
              "      <th>aaa</th>\n",
              "      <th>aaaaaaaaahhhhhhhhhhhhhhh</th>\n",
              "      <th>aaaaalmost</th>\n",
              "      <th>aaaaggg</th>\n",
              "      <th>aaaah</th>\n",
              "      <th>aaaahhh</th>\n",
              "      <th>aaaand</th>\n",
              "      <th>aaah</th>\n",
              "      <th>aaahhh</th>\n",
              "      <th>aaajam</th>\n",
              "      <th>aaajiao</th>\n",
              "      <th>aaargh</th>\n",
              "      <th>aab</th>\n",
              "      <th>aabb</th>\n",
              "      <th>aabd</th>\n",
              "      <th>aabenraa</th>\n",
              "      <th>aaboyl</th>\n",
              "      <th>aac</th>\n",
              "      <th>aachen</th>\n",
              "      <th>aadhar</th>\n",
              "      <th>aadi</th>\n",
              "      <th>aadmi</th>\n",
              "      <th>aae</th>\n",
              "      <th>aaeeb</th>\n",
              "      <th>aaerion</th>\n",
              "      <th>aaf</th>\n",
              "      <th>aagaard</th>\n",
              "      <th>aah</th>\n",
              "      <th>aaib</th>\n",
              "      <th>aaii</th>\n",
              "      <th>aaingr</th>\n",
              "      <th>aaj</th>\n",
              "      <th>aaja</th>\n",
              "      <th>aakar</th>\n",
              "      <th>aakhri</th>\n",
              "      <th>aakr</th>\n",
              "      <th>aalia</th>\n",
              "      <th>aalipour</th>\n",
              "      <th>aaliya</th>\n",
              "      <th>...</th>\n",
              "      <th>zwolenkiewicz</th>\n",
              "      <th>zwolennici</th>\n",
              "      <th>zwolennikami</th>\n",
              "      <th>zwozdiak</th>\n",
              "      <th>zwroci</th>\n",
              "      <th>zwrotu</th>\n",
              "      <th>zwvgl</th>\n",
              "      <th>zwxqtixrl</th>\n",
              "      <th>zwyci</th>\n",
              "      <th>zwzqj</th>\n",
              "      <th>zx</th>\n",
              "      <th>zxh</th>\n",
              "      <th>zxpw</th>\n",
              "      <th>zxr</th>\n",
              "      <th>zxua</th>\n",
              "      <th>zxycmwjdxj</th>\n",
              "      <th>zy</th>\n",
              "      <th>zyaira</th>\n",
              "      <th>zyanna</th>\n",
              "      <th>zybvwqhlbctginctv</th>\n",
              "      <th>zydeco</th>\n",
              "      <th>zydedco</th>\n",
              "      <th>zyfin</th>\n",
              "      <th>zygankow</th>\n",
              "      <th>zygar</th>\n",
              "      <th>zyklon</th>\n",
              "      <th>zylinderkopfdichtung</th>\n",
              "      <th>zyma</th>\n",
              "      <th>zynga</th>\n",
              "      <th>zytiga</th>\n",
              "      <th>zytsov</th>\n",
              "      <th>zyudeheim</th>\n",
              "      <th>zyudheim</th>\n",
              "      <th>zyuganov</th>\n",
              "      <th>zyxel</th>\n",
              "      <th>zyz</th>\n",
              "      <th>zz</th>\n",
              "      <th>zzk</th>\n",
              "      <th>zzz</th>\n",
              "      <th>zzzz</th>\n",
              "    </tr>\n",
              "  </thead>\n",
              "  <tbody>\n",
              "    <tr>\n",
              "      <th>real_y</th>\n",
              "      <td>71</td>\n",
              "      <td>34</td>\n",
              "      <td>1</td>\n",
              "      <td>2</td>\n",
              "      <td>1</td>\n",
              "      <td>1</td>\n",
              "      <td>1</td>\n",
              "      <td>1</td>\n",
              "      <td>2</td>\n",
              "      <td>1</td>\n",
              "      <td>1</td>\n",
              "      <td>1</td>\n",
              "      <td>1</td>\n",
              "      <td>11</td>\n",
              "      <td>1</td>\n",
              "      <td>2</td>\n",
              "      <td>1</td>\n",
              "      <td>1</td>\n",
              "      <td>1</td>\n",
              "      <td>4</td>\n",
              "      <td>1</td>\n",
              "      <td>1</td>\n",
              "      <td>2</td>\n",
              "      <td>2</td>\n",
              "      <td>5</td>\n",
              "      <td>1</td>\n",
              "      <td>2</td>\n",
              "      <td>1</td>\n",
              "      <td>3</td>\n",
              "      <td>2</td>\n",
              "      <td>1</td>\n",
              "      <td>5</td>\n",
              "      <td>5</td>\n",
              "      <td>4</td>\n",
              "      <td>1</td>\n",
              "      <td>1</td>\n",
              "      <td>3</td>\n",
              "      <td>1</td>\n",
              "      <td>1</td>\n",
              "      <td>4</td>\n",
              "      <td>...</td>\n",
              "      <td>3</td>\n",
              "      <td>1</td>\n",
              "      <td>1</td>\n",
              "      <td>1</td>\n",
              "      <td>1</td>\n",
              "      <td>1</td>\n",
              "      <td>5</td>\n",
              "      <td>1</td>\n",
              "      <td>1</td>\n",
              "      <td>1</td>\n",
              "      <td>2</td>\n",
              "      <td>1</td>\n",
              "      <td>1</td>\n",
              "      <td>1</td>\n",
              "      <td>5</td>\n",
              "      <td>1</td>\n",
              "      <td>6</td>\n",
              "      <td>5</td>\n",
              "      <td>4</td>\n",
              "      <td>5</td>\n",
              "      <td>8</td>\n",
              "      <td>1</td>\n",
              "      <td>1</td>\n",
              "      <td>3</td>\n",
              "      <td>3</td>\n",
              "      <td>1</td>\n",
              "      <td>1</td>\n",
              "      <td>1</td>\n",
              "      <td>11</td>\n",
              "      <td>1</td>\n",
              "      <td>1</td>\n",
              "      <td>1</td>\n",
              "      <td>17</td>\n",
              "      <td>12</td>\n",
              "      <td>1</td>\n",
              "      <td>2</td>\n",
              "      <td>10</td>\n",
              "      <td>1</td>\n",
              "      <td>1</td>\n",
              "      <td>1</td>\n",
              "    </tr>\n",
              "    <tr>\n",
              "      <th>fake_y</th>\n",
              "      <td>56</td>\n",
              "      <td>13</td>\n",
              "      <td>0</td>\n",
              "      <td>0</td>\n",
              "      <td>1</td>\n",
              "      <td>0</td>\n",
              "      <td>0</td>\n",
              "      <td>0</td>\n",
              "      <td>2</td>\n",
              "      <td>1</td>\n",
              "      <td>0</td>\n",
              "      <td>0</td>\n",
              "      <td>1</td>\n",
              "      <td>11</td>\n",
              "      <td>0</td>\n",
              "      <td>0</td>\n",
              "      <td>1</td>\n",
              "      <td>0</td>\n",
              "      <td>1</td>\n",
              "      <td>3</td>\n",
              "      <td>1</td>\n",
              "      <td>0</td>\n",
              "      <td>2</td>\n",
              "      <td>2</td>\n",
              "      <td>5</td>\n",
              "      <td>0</td>\n",
              "      <td>1</td>\n",
              "      <td>0</td>\n",
              "      <td>1</td>\n",
              "      <td>2</td>\n",
              "      <td>1</td>\n",
              "      <td>5</td>\n",
              "      <td>5</td>\n",
              "      <td>1</td>\n",
              "      <td>1</td>\n",
              "      <td>1</td>\n",
              "      <td>0</td>\n",
              "      <td>0</td>\n",
              "      <td>0</td>\n",
              "      <td>4</td>\n",
              "      <td>...</td>\n",
              "      <td>0</td>\n",
              "      <td>1</td>\n",
              "      <td>1</td>\n",
              "      <td>1</td>\n",
              "      <td>1</td>\n",
              "      <td>1</td>\n",
              "      <td>5</td>\n",
              "      <td>1</td>\n",
              "      <td>1</td>\n",
              "      <td>1</td>\n",
              "      <td>2</td>\n",
              "      <td>1</td>\n",
              "      <td>1</td>\n",
              "      <td>1</td>\n",
              "      <td>5</td>\n",
              "      <td>1</td>\n",
              "      <td>6</td>\n",
              "      <td>0</td>\n",
              "      <td>0</td>\n",
              "      <td>5</td>\n",
              "      <td>0</td>\n",
              "      <td>0</td>\n",
              "      <td>0</td>\n",
              "      <td>3</td>\n",
              "      <td>3</td>\n",
              "      <td>0</td>\n",
              "      <td>1</td>\n",
              "      <td>0</td>\n",
              "      <td>0</td>\n",
              "      <td>0</td>\n",
              "      <td>1</td>\n",
              "      <td>0</td>\n",
              "      <td>0</td>\n",
              "      <td>9</td>\n",
              "      <td>0</td>\n",
              "      <td>2</td>\n",
              "      <td>5</td>\n",
              "      <td>0</td>\n",
              "      <td>1</td>\n",
              "      <td>0</td>\n",
              "    </tr>\n",
              "  </tbody>\n",
              "</table>\n",
              "<p>2 rows × 125444 columns</p>\n",
              "</div>"
            ],
            "text/plain": [
              "        aa  aaa  aaaaaaaaahhhhhhhhhhhhhhh  aaaaalmost  ...  zz  zzk  zzz  zzzz\n",
              "real_y  71   34                         1           2  ...  10    1    1     1\n",
              "fake_y  56   13                         0           0  ...   5    0    1     0\n",
              "\n",
              "[2 rows x 125444 columns]"
            ]
          },
          "metadata": {
            "tags": []
          },
          "execution_count": 13
        }
      ]
    },
    {
      "cell_type": "code",
      "metadata": {
        "colab": {
          "base_uri": "https://localhost:8080/",
          "height": 204
        },
        "id": "1M-NQPUxEBQP",
        "outputId": "e21d45d0-47e7-49b0-9ef9-48403f803fa0"
      },
      "source": [
        "tdm = data_dtm.transpose()\n",
        "tdm.head()"
      ],
      "execution_count": null,
      "outputs": [
        {
          "output_type": "execute_result",
          "data": {
            "text/html": [
              "<div>\n",
              "<style scoped>\n",
              "    .dataframe tbody tr th:only-of-type {\n",
              "        vertical-align: middle;\n",
              "    }\n",
              "\n",
              "    .dataframe tbody tr th {\n",
              "        vertical-align: top;\n",
              "    }\n",
              "\n",
              "    .dataframe thead th {\n",
              "        text-align: right;\n",
              "    }\n",
              "</style>\n",
              "<table border=\"1\" class=\"dataframe\">\n",
              "  <thead>\n",
              "    <tr style=\"text-align: right;\">\n",
              "      <th></th>\n",
              "      <th>real_y</th>\n",
              "      <th>fake_y</th>\n",
              "    </tr>\n",
              "  </thead>\n",
              "  <tbody>\n",
              "    <tr>\n",
              "      <th>aa</th>\n",
              "      <td>71</td>\n",
              "      <td>56</td>\n",
              "    </tr>\n",
              "    <tr>\n",
              "      <th>aaa</th>\n",
              "      <td>34</td>\n",
              "      <td>13</td>\n",
              "    </tr>\n",
              "    <tr>\n",
              "      <th>aaaaaaaaahhhhhhhhhhhhhhh</th>\n",
              "      <td>1</td>\n",
              "      <td>0</td>\n",
              "    </tr>\n",
              "    <tr>\n",
              "      <th>aaaaalmost</th>\n",
              "      <td>2</td>\n",
              "      <td>0</td>\n",
              "    </tr>\n",
              "    <tr>\n",
              "      <th>aaaaggg</th>\n",
              "      <td>1</td>\n",
              "      <td>1</td>\n",
              "    </tr>\n",
              "  </tbody>\n",
              "</table>\n",
              "</div>"
            ],
            "text/plain": [
              "                          real_y  fake_y\n",
              "aa                            71      56\n",
              "aaa                           34      13\n",
              "aaaaaaaaahhhhhhhhhhhhhhh       1       0\n",
              "aaaaalmost                     2       0\n",
              "aaaaggg                        1       1"
            ]
          },
          "metadata": {
            "tags": []
          },
          "execution_count": 14
        }
      ]
    },
    {
      "cell_type": "code",
      "metadata": {
        "id": "bEY4EgM5EBQP"
      },
      "source": [
        "sparse_counts = scipy.sparse.csr_matrix(tdm)\n",
        "corpus = matutils.Sparse2Corpus(sparse_counts)\n",
        "\n",
        "id2word = dict((v, k) for k, v in cv.vocabulary_.items())"
      ],
      "execution_count": null,
      "outputs": []
    },
    {
      "cell_type": "code",
      "metadata": {
        "colab": {
          "base_uri": "https://localhost:8080/"
        },
        "id": "rQAFIkxzEBQP",
        "outputId": "ddf34de5-4561-4f0b-b577-cc6ec324a4b8"
      },
      "source": [
        "lda = models.LdaModel(corpus=corpus, id2word=id2word, num_topics=2, passes=20)\n",
        "lda.print_topics()"
      ],
      "execution_count": null,
      "outputs": [
        {
          "output_type": "execute_result",
          "data": {
            "text/plain": [
              "[(0,\n",
              "  '0.008*\"trump\" + 0.005*\"clinton\" + 0.005*\"state\" + 0.004*\"peopl\" + 0.004*\"year\" + 0.004*\"time\" + 0.004*\"said\" + 0.004*\"elect\" + 0.004*\"like\" + 0.003*\"new\"'),\n",
              " (1,\n",
              "  '0.009*\"said\" + 0.009*\"trump\" + 0.005*\"peopl\" + 0.005*\"clinton\" + 0.004*\"state\" + 0.004*\"like\" + 0.004*\"say\" + 0.004*\"year\" + 0.004*\"new\" + 0.004*\"time\"')]"
            ]
          },
          "metadata": {
            "tags": []
          },
          "execution_count": 16
        }
      ]
    },
    {
      "cell_type": "code",
      "metadata": {
        "colab": {
          "base_uri": "https://localhost:8080/"
        },
        "id": "5QwXT8ieEBQQ",
        "outputId": "8be3ec1f-31ca-4b70-97f1-dbd386de604d"
      },
      "source": [
        "lda = models.LdaModel(corpus=corpus, id2word=id2word, num_topics=2, passes=80)\n",
        "lda.print_topics()"
      ],
      "execution_count": null,
      "outputs": [
        {
          "output_type": "execute_result",
          "data": {
            "text/plain": [
              "[(0,\n",
              "  '0.010*\"trump\" + 0.009*\"said\" + 0.005*\"peopl\" + 0.005*\"state\" + 0.005*\"year\" + 0.004*\"like\" + 0.004*\"say\" + 0.004*\"time\" + 0.004*\"clinton\" + 0.004*\"new\"'),\n",
              " (1,\n",
              "  '0.006*\"clinton\" + 0.006*\"trump\" + 0.005*\"peopl\" + 0.005*\"state\" + 0.004*\"hillari\" + 0.004*\"time\" + 0.004*\"elect\" + 0.004*\"like\" + 0.003*\"year\" + 0.003*\"american\"')]"
            ]
          },
          "metadata": {
            "tags": []
          },
          "execution_count": 17
        }
      ]
    },
    {
      "cell_type": "code",
      "metadata": {
        "colab": {
          "base_uri": "https://localhost:8080/"
        },
        "id": "e0gOb4ExEBQQ",
        "outputId": "384da49f-4cc5-4aad-fbf4-f896b60b6c54"
      },
      "source": [
        "corpus_transformed = lda[corpus]\n",
        "list(zip([a for (a,b) in corpus_transformed], data_dtm.index))"
      ],
      "execution_count": null,
      "outputs": [
        {
          "output_type": "execute_result",
          "data": {
            "text/plain": [
              "[((0, 0.8155475), 'real_y'), ((0, 0.106390886), 'fake_y')]"
            ]
          },
          "metadata": {
            "tags": []
          },
          "execution_count": 18
        }
      ]
    },
    {
      "cell_type": "markdown",
      "metadata": {
        "id": "8vm7_9a43Kud"
      },
      "source": [
        "### two sources"
      ]
    },
    {
      "cell_type": "code",
      "metadata": {
        "id": "40XnXvlNxfxW",
        "colab": {
          "base_uri": "https://localhost:8080/",
          "height": 160
        },
        "outputId": "0f7b67c6-f70b-4b92-98c7-8b4278f48ede"
      },
      "source": [
        "cv = CountVectorizer(stop_words='english')\n",
        "#cv = CountVectorizer()\n",
        "data_cv = cv.fit_transform(data_df.text)\n",
        "data_dtm = pd.DataFrame(data_cv.toarray(), columns=cv.get_feature_names())\n",
        "data_dtm.index = data_df.index\n",
        "data_dtm"
      ],
      "execution_count": null,
      "outputs": [
        {
          "output_type": "execute_result",
          "data": {
            "text/html": [
              "<div>\n",
              "<style scoped>\n",
              "    .dataframe tbody tr th:only-of-type {\n",
              "        vertical-align: middle;\n",
              "    }\n",
              "\n",
              "    .dataframe tbody tr th {\n",
              "        vertical-align: top;\n",
              "    }\n",
              "\n",
              "    .dataframe thead th {\n",
              "        text-align: right;\n",
              "    }\n",
              "</style>\n",
              "<table border=\"1\" class=\"dataframe\">\n",
              "  <thead>\n",
              "    <tr style=\"text-align: right;\">\n",
              "      <th></th>\n",
              "      <th>aa</th>\n",
              "      <th>aaa</th>\n",
              "      <th>aaaaaaaaahhhhhhhhhhhhhhh</th>\n",
              "      <th>aaaaaaaand</th>\n",
              "      <th>aaaaackkk</th>\n",
              "      <th>aaaaalmost</th>\n",
              "      <th>aaaaapkfhk</th>\n",
              "      <th>aaaaggg</th>\n",
              "      <th>aaaah</th>\n",
              "      <th>aaaahhh</th>\n",
              "      <th>aaaahhhh</th>\n",
              "      <th>aaaand</th>\n",
              "      <th>aaaarrgh</th>\n",
              "      <th>aaab</th>\n",
              "      <th>aaah</th>\n",
              "      <th>aaahhh</th>\n",
              "      <th>aaajam</th>\n",
              "      <th>aaajiao</th>\n",
              "      <th>aaarf</th>\n",
              "      <th>aaargh</th>\n",
              "      <th>aab</th>\n",
              "      <th>aaba</th>\n",
              "      <th>aabb</th>\n",
              "      <th>aabd</th>\n",
              "      <th>aabenraa</th>\n",
              "      <th>aabfsv</th>\n",
              "      <th>aabg</th>\n",
              "      <th>aabo</th>\n",
              "      <th>aaboyl</th>\n",
              "      <th>aac</th>\n",
              "      <th>aaccord</th>\n",
              "      <th>aachen</th>\n",
              "      <th>aacnr</th>\n",
              "      <th>aadhaar</th>\n",
              "      <th>aadhar</th>\n",
              "      <th>aadi</th>\n",
              "      <th>aadl</th>\n",
              "      <th>aadmi</th>\n",
              "      <th>aae</th>\n",
              "      <th>aaeeb</th>\n",
              "      <th>...</th>\n",
              "      <th>zyma</th>\n",
              "      <th>zymo</th>\n",
              "      <th>zynga</th>\n",
              "      <th>zyomso</th>\n",
              "      <th>zypri</th>\n",
              "      <th>zyri</th>\n",
              "      <th>zytiga</th>\n",
              "      <th>zytnwhvr</th>\n",
              "      <th>zytsov</th>\n",
              "      <th>zyudeheim</th>\n",
              "      <th>zyudheim</th>\n",
              "      <th>zyuganov</th>\n",
              "      <th>zyxel</th>\n",
              "      <th>zyz</th>\n",
              "      <th>zz</th>\n",
              "      <th>zzbluecomet</th>\n",
              "      <th>zzg</th>\n",
              "      <th>zzgaahg</th>\n",
              "      <th>zzi</th>\n",
              "      <th>zzjjpdaivn</th>\n",
              "      <th>zzk</th>\n",
              "      <th>zzll</th>\n",
              "      <th>zzlo</th>\n",
              "      <th>zzn</th>\n",
              "      <th>zzomtmd</th>\n",
              "      <th>zzpkpmpp</th>\n",
              "      <th>zzpx</th>\n",
              "      <th>zzpxelb</th>\n",
              "      <th>zzqvyk</th>\n",
              "      <th>zzsg</th>\n",
              "      <th>zztain</th>\n",
              "      <th>zztw</th>\n",
              "      <th>zzucqevt</th>\n",
              "      <th>zzuml</th>\n",
              "      <th>zzywyr</th>\n",
              "      <th>zzz</th>\n",
              "      <th>zzzz</th>\n",
              "      <th>zzzzaaaacccchhh</th>\n",
              "      <th>zzzzzzzz</th>\n",
              "      <th>zzzzzzzzzzzzz</th>\n",
              "    </tr>\n",
              "  </thead>\n",
              "  <tbody>\n",
              "    <tr>\n",
              "      <th>source_x</th>\n",
              "      <td>81</td>\n",
              "      <td>20</td>\n",
              "      <td>0</td>\n",
              "      <td>1</td>\n",
              "      <td>1</td>\n",
              "      <td>0</td>\n",
              "      <td>1</td>\n",
              "      <td>0</td>\n",
              "      <td>0</td>\n",
              "      <td>0</td>\n",
              "      <td>1</td>\n",
              "      <td>1</td>\n",
              "      <td>1</td>\n",
              "      <td>1</td>\n",
              "      <td>0</td>\n",
              "      <td>1</td>\n",
              "      <td>0</td>\n",
              "      <td>0</td>\n",
              "      <td>1</td>\n",
              "      <td>0</td>\n",
              "      <td>15</td>\n",
              "      <td>1</td>\n",
              "      <td>0</td>\n",
              "      <td>0</td>\n",
              "      <td>0</td>\n",
              "      <td>1</td>\n",
              "      <td>4</td>\n",
              "      <td>2</td>\n",
              "      <td>0</td>\n",
              "      <td>0</td>\n",
              "      <td>1</td>\n",
              "      <td>5</td>\n",
              "      <td>1</td>\n",
              "      <td>30</td>\n",
              "      <td>3</td>\n",
              "      <td>0</td>\n",
              "      <td>6</td>\n",
              "      <td>2</td>\n",
              "      <td>2</td>\n",
              "      <td>5</td>\n",
              "      <td>...</td>\n",
              "      <td>0</td>\n",
              "      <td>1</td>\n",
              "      <td>5</td>\n",
              "      <td>1</td>\n",
              "      <td>5</td>\n",
              "      <td>1</td>\n",
              "      <td>0</td>\n",
              "      <td>2</td>\n",
              "      <td>0</td>\n",
              "      <td>0</td>\n",
              "      <td>0</td>\n",
              "      <td>9</td>\n",
              "      <td>0</td>\n",
              "      <td>1</td>\n",
              "      <td>7</td>\n",
              "      <td>1</td>\n",
              "      <td>2</td>\n",
              "      <td>1</td>\n",
              "      <td>2</td>\n",
              "      <td>1</td>\n",
              "      <td>0</td>\n",
              "      <td>1</td>\n",
              "      <td>1</td>\n",
              "      <td>1</td>\n",
              "      <td>1</td>\n",
              "      <td>1</td>\n",
              "      <td>1</td>\n",
              "      <td>1</td>\n",
              "      <td>2</td>\n",
              "      <td>1</td>\n",
              "      <td>1</td>\n",
              "      <td>1</td>\n",
              "      <td>1</td>\n",
              "      <td>3</td>\n",
              "      <td>2</td>\n",
              "      <td>1</td>\n",
              "      <td>0</td>\n",
              "      <td>3</td>\n",
              "      <td>1</td>\n",
              "      <td>1</td>\n",
              "    </tr>\n",
              "    <tr>\n",
              "      <th>source_y</th>\n",
              "      <td>127</td>\n",
              "      <td>47</td>\n",
              "      <td>1</td>\n",
              "      <td>0</td>\n",
              "      <td>0</td>\n",
              "      <td>2</td>\n",
              "      <td>0</td>\n",
              "      <td>2</td>\n",
              "      <td>1</td>\n",
              "      <td>1</td>\n",
              "      <td>0</td>\n",
              "      <td>1</td>\n",
              "      <td>0</td>\n",
              "      <td>0</td>\n",
              "      <td>4</td>\n",
              "      <td>2</td>\n",
              "      <td>1</td>\n",
              "      <td>1</td>\n",
              "      <td>0</td>\n",
              "      <td>2</td>\n",
              "      <td>22</td>\n",
              "      <td>0</td>\n",
              "      <td>1</td>\n",
              "      <td>2</td>\n",
              "      <td>2</td>\n",
              "      <td>0</td>\n",
              "      <td>0</td>\n",
              "      <td>0</td>\n",
              "      <td>1</td>\n",
              "      <td>2</td>\n",
              "      <td>0</td>\n",
              "      <td>7</td>\n",
              "      <td>0</td>\n",
              "      <td>0</td>\n",
              "      <td>2</td>\n",
              "      <td>1</td>\n",
              "      <td>0</td>\n",
              "      <td>4</td>\n",
              "      <td>4</td>\n",
              "      <td>10</td>\n",
              "      <td>...</td>\n",
              "      <td>1</td>\n",
              "      <td>0</td>\n",
              "      <td>11</td>\n",
              "      <td>0</td>\n",
              "      <td>0</td>\n",
              "      <td>0</td>\n",
              "      <td>1</td>\n",
              "      <td>0</td>\n",
              "      <td>2</td>\n",
              "      <td>1</td>\n",
              "      <td>17</td>\n",
              "      <td>21</td>\n",
              "      <td>1</td>\n",
              "      <td>4</td>\n",
              "      <td>15</td>\n",
              "      <td>0</td>\n",
              "      <td>0</td>\n",
              "      <td>0</td>\n",
              "      <td>0</td>\n",
              "      <td>0</td>\n",
              "      <td>1</td>\n",
              "      <td>0</td>\n",
              "      <td>0</td>\n",
              "      <td>0</td>\n",
              "      <td>0</td>\n",
              "      <td>0</td>\n",
              "      <td>0</td>\n",
              "      <td>0</td>\n",
              "      <td>0</td>\n",
              "      <td>0</td>\n",
              "      <td>0</td>\n",
              "      <td>0</td>\n",
              "      <td>0</td>\n",
              "      <td>0</td>\n",
              "      <td>0</td>\n",
              "      <td>2</td>\n",
              "      <td>1</td>\n",
              "      <td>0</td>\n",
              "      <td>0</td>\n",
              "      <td>0</td>\n",
              "    </tr>\n",
              "  </tbody>\n",
              "</table>\n",
              "<p>2 rows × 173353 columns</p>\n",
              "</div>"
            ],
            "text/plain": [
              "           aa  aaa  ...  zzzzzzzz  zzzzzzzzzzzzz\n",
              "source_x   81   20  ...         1              1\n",
              "source_y  127   47  ...         0              0\n",
              "\n",
              "[2 rows x 173353 columns]"
            ]
          },
          "metadata": {
            "tags": []
          },
          "execution_count": 34
        }
      ]
    },
    {
      "cell_type": "code",
      "metadata": {
        "id": "5IrwFGd61hKD",
        "colab": {
          "base_uri": "https://localhost:8080/",
          "height": 204
        },
        "outputId": "ef91ad25-8eb6-48a7-c1fc-e9089e01cb4c"
      },
      "source": [
        "tdm = data_dtm.transpose()\n",
        "tdm.head()"
      ],
      "execution_count": null,
      "outputs": [
        {
          "output_type": "execute_result",
          "data": {
            "text/html": [
              "<div>\n",
              "<style scoped>\n",
              "    .dataframe tbody tr th:only-of-type {\n",
              "        vertical-align: middle;\n",
              "    }\n",
              "\n",
              "    .dataframe tbody tr th {\n",
              "        vertical-align: top;\n",
              "    }\n",
              "\n",
              "    .dataframe thead th {\n",
              "        text-align: right;\n",
              "    }\n",
              "</style>\n",
              "<table border=\"1\" class=\"dataframe\">\n",
              "  <thead>\n",
              "    <tr style=\"text-align: right;\">\n",
              "      <th></th>\n",
              "      <th>source_x</th>\n",
              "      <th>source_y</th>\n",
              "    </tr>\n",
              "  </thead>\n",
              "  <tbody>\n",
              "    <tr>\n",
              "      <th>aa</th>\n",
              "      <td>81</td>\n",
              "      <td>127</td>\n",
              "    </tr>\n",
              "    <tr>\n",
              "      <th>aaa</th>\n",
              "      <td>20</td>\n",
              "      <td>47</td>\n",
              "    </tr>\n",
              "    <tr>\n",
              "      <th>aaaaaaaaahhhhhhhhhhhhhhh</th>\n",
              "      <td>0</td>\n",
              "      <td>1</td>\n",
              "    </tr>\n",
              "    <tr>\n",
              "      <th>aaaaaaaand</th>\n",
              "      <td>1</td>\n",
              "      <td>0</td>\n",
              "    </tr>\n",
              "    <tr>\n",
              "      <th>aaaaackkk</th>\n",
              "      <td>1</td>\n",
              "      <td>0</td>\n",
              "    </tr>\n",
              "  </tbody>\n",
              "</table>\n",
              "</div>"
            ],
            "text/plain": [
              "                          source_x  source_y\n",
              "aa                              81       127\n",
              "aaa                             20        47\n",
              "aaaaaaaaahhhhhhhhhhhhhhh         0         1\n",
              "aaaaaaaand                       1         0\n",
              "aaaaackkk                        1         0"
            ]
          },
          "metadata": {
            "tags": []
          },
          "execution_count": 35
        }
      ]
    },
    {
      "cell_type": "code",
      "metadata": {
        "id": "KT9-Yt_GcY5H"
      },
      "source": [
        "sparse_counts = scipy.sparse.csr_matrix(tdm)\n",
        "corpus = matutils.Sparse2Corpus(sparse_counts)\n",
        "\n",
        "id2word = dict((v, k) for k, v in cv.vocabulary_.items())"
      ],
      "execution_count": null,
      "outputs": []
    },
    {
      "cell_type": "code",
      "metadata": {
        "colab": {
          "base_uri": "https://localhost:8080/"
        },
        "id": "QvpFBKkicxnL",
        "outputId": "a4792046-6d87-4cd1-ab26-07bc0475ca51"
      },
      "source": [
        "lda = models.LdaModel(corpus=corpus, id2word=id2word, num_topics=2, passes=20)\n",
        "lda.print_topics()"
      ],
      "execution_count": null,
      "outputs": [
        {
          "output_type": "execute_result",
          "data": {
            "text/plain": [
              "[(0,\n",
              "  '0.014*\"trump\" + 0.012*\"said\" + 0.007*\"state\" + 0.006*\"presid\" + 0.004*\"peopl\" + 0.004*\"republican\" + 0.004*\"year\" + 0.004*\"say\" + 0.004*\"clinton\" + 0.003*\"new\"'),\n",
              " (1,\n",
              "  '0.008*\"trump\" + 0.006*\"said\" + 0.005*\"clinton\" + 0.005*\"peopl\" + 0.005*\"state\" + 0.004*\"like\" + 0.004*\"year\" + 0.004*\"time\" + 0.004*\"new\" + 0.003*\"say\"')]"
            ]
          },
          "metadata": {
            "tags": []
          },
          "execution_count": 37
        }
      ]
    },
    {
      "cell_type": "code",
      "metadata": {
        "colab": {
          "base_uri": "https://localhost:8080/"
        },
        "id": "EwCUTSeweO38",
        "outputId": "d5a6c4f7-9d14-4937-dd4f-e4791bf3c70a"
      },
      "source": [
        "lda = models.LdaModel(corpus=corpus, id2word=id2word, num_topics=2, passes=80)\n",
        "lda.print_topics()"
      ],
      "execution_count": null,
      "outputs": [
        {
          "output_type": "execute_result",
          "data": {
            "text/plain": [
              "[(0,\n",
              "  '0.014*\"trump\" + 0.013*\"said\" + 0.007*\"state\" + 0.006*\"presid\" + 0.004*\"peopl\" + 0.004*\"republican\" + 0.004*\"year\" + 0.004*\"say\" + 0.004*\"clinton\" + 0.003*\"new\"'),\n",
              " (1,\n",
              "  '0.008*\"trump\" + 0.006*\"said\" + 0.005*\"clinton\" + 0.005*\"peopl\" + 0.005*\"state\" + 0.004*\"like\" + 0.004*\"year\" + 0.004*\"time\" + 0.004*\"new\" + 0.003*\"say\"')]"
            ]
          },
          "metadata": {
            "tags": []
          },
          "execution_count": 38
        }
      ]
    },
    {
      "cell_type": "code",
      "metadata": {
        "colab": {
          "base_uri": "https://localhost:8080/"
        },
        "id": "HFtldhhUfdzO",
        "outputId": "d0e337e2-bb37-404a-875d-a24eda791627"
      },
      "source": [
        "corpus_transformed = lda[corpus]\n",
        "list(zip([a for (a,b) in corpus_transformed], data_dtm.index))"
      ],
      "execution_count": null,
      "outputs": [
        {
          "output_type": "execute_result",
          "data": {
            "text/plain": [
              "[((0, 0.9419708), 'source_x'), ((0, 0.0850779), 'source_y')]"
            ]
          },
          "metadata": {
            "tags": []
          },
          "execution_count": 59
        }
      ]
    }
  ]
}